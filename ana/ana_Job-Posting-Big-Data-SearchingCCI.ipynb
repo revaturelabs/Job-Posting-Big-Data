{
 "cells": [
  {
   "cell_type": "markdown",
   "metadata": {},
   "source": [
    "# Searching Common Crawl Index\n",
    "\n",
    "This explores different ways of using the common crawl index\n",
    "\n",
    "* [Comcrawl library](#Using-commcrawl)\n",
    "* [CDX Toolkit](#Using-cdx-toolkit)\n",
    "* [Querying HTTP Endpoint directly](#Requesting-CDX-endpoint-Directly)\n",
    "\n",
    "See [the related article](https://skeptric.com/searching-100b-pages-cdx/) and [Jupyter notebook](https://skeptric.com/notebooks/Searching%20Common%20Crawl%20Index.ipynb)."
   ]
  },
  {
   "cell_type": "code",
   "execution_count": 1,
   "metadata": {},
   "outputs": [],
   "source": [
    "import requests\n",
    "import warcio\n",
    "from contextlib import closing\n",
    "from bs4 import BeautifulSoup\n",
    "import json\n",
    "\n",
    "import logging\n",
    "from IPython.display import HTML\n",
    "import pandas as pd"
   ]
  },
  {
   "cell_type": "markdown",
   "metadata": {},
   "source": [
    "# Using [comcrawl](https://github.com/michaelharms/comcrawl)\n",
    "\n",
    "https://index.commoncrawl.org/CC-MAIN-2020-16\n",
    "\n",
    "https://index.commoncrawl.org/CC-MAIN-2020-16-index?url=https%3A%2F%2Fwww.reddit.com%2Fr%2Fdataisbeautiful%2F*&output=json\n",
    "\n",
    "https://index.commoncrawl.org/CC-MAIN-2021-04\n",
    "\n",
    "https://index.commoncrawl.org/CC-MAIN-2021-04-index?url=www.workana.com&output=json"
   ]
  },
  {
   "cell_type": "code",
   "execution_count": 2,
   "metadata": {},
   "outputs": [
    {
     "name": "stdout",
     "output_type": "stream",
     "text": [
      "Requirement already satisfied: comcrawl in c:\\users\\jencm\\anaconda3\\lib\\site-packages (1.0.2)\n",
      "Requirement already satisfied: requests<3.0.0,>=2.22.0 in c:\\users\\jencm\\anaconda3\\lib\\site-packages (from comcrawl) (2.24.0)\n",
      "Requirement already satisfied: urllib3!=1.25.0,!=1.25.1,<1.26,>=1.21.1 in c:\\users\\jencm\\anaconda3\\lib\\site-packages (from requests<3.0.0,>=2.22.0->comcrawl) (1.25.11)\n",
      "Requirement already satisfied: idna<3,>=2.5 in c:\\users\\jencm\\anaconda3\\lib\\site-packages (from requests<3.0.0,>=2.22.0->comcrawl) (2.10)\n",
      "Requirement already satisfied: certifi>=2017.4.17 in c:\\users\\jencm\\anaconda3\\lib\\site-packages (from requests<3.0.0,>=2.22.0->comcrawl) (2020.6.20)\n",
      "Requirement already satisfied: chardet<4,>=3.0.2 in c:\\users\\jencm\\anaconda3\\lib\\site-packages (from requests<3.0.0,>=2.22.0->comcrawl) (3.0.4)\n"
     ]
    }
   ],
   "source": [
    "! python -m pip install comcrawl"
   ]
  },
  {
   "cell_type": "code",
   "execution_count": 3,
   "metadata": {},
   "outputs": [],
   "source": [
    "from comcrawl import IndexClient"
   ]
  },
  {
   "cell_type": "code",
   "execution_count": 4,
   "metadata": {},
   "outputs": [],
   "source": [
    "client = IndexClient(['2020-10', '2020-16'])"
   ]
  },
  {
   "cell_type": "code",
   "execution_count": 5,
   "metadata": {},
   "outputs": [],
   "source": [
    "client.search('https://www.reddit.com/r/dataisbeautiful/*')"
   ]
  },
  {
   "cell_type": "code",
   "execution_count": 6,
   "metadata": {},
   "outputs": [
    {
     "data": {
      "text/html": [
       "<div>\n",
       "<style scoped>\n",
       "    .dataframe tbody tr th:only-of-type {\n",
       "        vertical-align: middle;\n",
       "    }\n",
       "\n",
       "    .dataframe tbody tr th {\n",
       "        vertical-align: top;\n",
       "    }\n",
       "\n",
       "    .dataframe thead th {\n",
       "        text-align: right;\n",
       "    }\n",
       "</style>\n",
       "<table border=\"1\" class=\"dataframe\">\n",
       "  <thead>\n",
       "    <tr style=\"text-align: right;\">\n",
       "      <th></th>\n",
       "      <th>urlkey</th>\n",
       "      <th>timestamp</th>\n",
       "      <th>url</th>\n",
       "      <th>mime</th>\n",
       "      <th>mime-detected</th>\n",
       "      <th>status</th>\n",
       "      <th>digest</th>\n",
       "      <th>length</th>\n",
       "      <th>offset</th>\n",
       "      <th>filename</th>\n",
       "      <th>redirect</th>\n",
       "      <th>charset</th>\n",
       "      <th>languages</th>\n",
       "    </tr>\n",
       "  </thead>\n",
       "  <tbody>\n",
       "    <tr>\n",
       "      <th>0</th>\n",
       "      <td>com,reddit)/r/dataisbeautiful/comments/2wlsvz/...</td>\n",
       "      <td>20200217065457</td>\n",
       "      <td>http://www.reddit.com/r/dataisbeautiful/commen...</td>\n",
       "      <td>unk</td>\n",
       "      <td>application/octet-stream</td>\n",
       "      <td>301</td>\n",
       "      <td>3I42H3S6NNFQ2MSVX7XZKYAYSCX5QBYJ</td>\n",
       "      <td>679</td>\n",
       "      <td>13689701</td>\n",
       "      <td>crawl-data/CC-MAIN-2020-10/segments/1581875141...</td>\n",
       "      <td>https://www.reddit.com/r/dataisbeautiful/comme...</td>\n",
       "      <td>NaN</td>\n",
       "      <td>NaN</td>\n",
       "    </tr>\n",
       "    <tr>\n",
       "      <th>1</th>\n",
       "      <td>com,reddit)/r/dataisbeautiful/comments/2wlsvz/...</td>\n",
       "      <td>20200217065459</td>\n",
       "      <td>https://www.reddit.com/r/dataisbeautiful/comme...</td>\n",
       "      <td>text/html</td>\n",
       "      <td>text/html</td>\n",
       "      <td>200</td>\n",
       "      <td>L4C22PRVUOGG22PXMKSB7KYVCWQUKEQ7</td>\n",
       "      <td>74716</td>\n",
       "      <td>915522267</td>\n",
       "      <td>crawl-data/CC-MAIN-2020-10/segments/1581875141...</td>\n",
       "      <td>NaN</td>\n",
       "      <td>UTF-8</td>\n",
       "      <td>eng</td>\n",
       "    </tr>\n",
       "    <tr>\n",
       "      <th>2</th>\n",
       "      <td>com,reddit)/r/dataisbeautiful/comments/7f2sfy/...</td>\n",
       "      <td>20200223060640</td>\n",
       "      <td>https://www.reddit.com/r/dataisbeautiful/comme...</td>\n",
       "      <td>text/html</td>\n",
       "      <td>text/html</td>\n",
       "      <td>200</td>\n",
       "      <td>GEWEQE4I2JOSKTL3QXPEI7FXVI3BP52O</td>\n",
       "      <td>29470</td>\n",
       "      <td>884674375</td>\n",
       "      <td>crawl-data/CC-MAIN-2020-10/segments/1581875145...</td>\n",
       "      <td>NaN</td>\n",
       "      <td>UTF-8</td>\n",
       "      <td>eng</td>\n",
       "    </tr>\n",
       "    <tr>\n",
       "      <th>3</th>\n",
       "      <td>com,reddit)/r/dataisbeautiful/comments/7jbefu/...</td>\n",
       "      <td>20200217195615</td>\n",
       "      <td>https://www.reddit.com/r/dataisbeautiful/comme...</td>\n",
       "      <td>text/html</td>\n",
       "      <td>text/html</td>\n",
       "      <td>200</td>\n",
       "      <td>42HZLBLZI5DQYGQAZNUAQ5NRCMEEVERW</td>\n",
       "      <td>21516</td>\n",
       "      <td>890110347</td>\n",
       "      <td>crawl-data/CC-MAIN-2020-10/segments/1581875143...</td>\n",
       "      <td>NaN</td>\n",
       "      <td>UTF-8</td>\n",
       "      <td>eng</td>\n",
       "    </tr>\n",
       "    <tr>\n",
       "      <th>4</th>\n",
       "      <td>com,reddit)/r/dataisbeautiful/comments/8f1rk7/...</td>\n",
       "      <td>20200222202649</td>\n",
       "      <td>https://www.reddit.com/r/dataisbeautiful/comme...</td>\n",
       "      <td>text/html</td>\n",
       "      <td>text/html</td>\n",
       "      <td>200</td>\n",
       "      <td>IDKDLHSVB7YH3L2AUIMKPJFER3VLBZRU</td>\n",
       "      <td>95956</td>\n",
       "      <td>859518253</td>\n",
       "      <td>crawl-data/CC-MAIN-2020-10/segments/1581875145...</td>\n",
       "      <td>NaN</td>\n",
       "      <td>UTF-8</td>\n",
       "      <td>eng</td>\n",
       "    </tr>\n",
       "  </tbody>\n",
       "</table>\n",
       "</div>"
      ],
      "text/plain": [
       "                                              urlkey       timestamp  \\\n",
       "0  com,reddit)/r/dataisbeautiful/comments/2wlsvz/...  20200217065457   \n",
       "1  com,reddit)/r/dataisbeautiful/comments/2wlsvz/...  20200217065459   \n",
       "2  com,reddit)/r/dataisbeautiful/comments/7f2sfy/...  20200223060640   \n",
       "3  com,reddit)/r/dataisbeautiful/comments/7jbefu/...  20200217195615   \n",
       "4  com,reddit)/r/dataisbeautiful/comments/8f1rk7/...  20200222202649   \n",
       "\n",
       "                                                 url       mime  \\\n",
       "0  http://www.reddit.com/r/dataisbeautiful/commen...        unk   \n",
       "1  https://www.reddit.com/r/dataisbeautiful/comme...  text/html   \n",
       "2  https://www.reddit.com/r/dataisbeautiful/comme...  text/html   \n",
       "3  https://www.reddit.com/r/dataisbeautiful/comme...  text/html   \n",
       "4  https://www.reddit.com/r/dataisbeautiful/comme...  text/html   \n",
       "\n",
       "              mime-detected status                            digest length  \\\n",
       "0  application/octet-stream    301  3I42H3S6NNFQ2MSVX7XZKYAYSCX5QBYJ    679   \n",
       "1                 text/html    200  L4C22PRVUOGG22PXMKSB7KYVCWQUKEQ7  74716   \n",
       "2                 text/html    200  GEWEQE4I2JOSKTL3QXPEI7FXVI3BP52O  29470   \n",
       "3                 text/html    200  42HZLBLZI5DQYGQAZNUAQ5NRCMEEVERW  21516   \n",
       "4                 text/html    200  IDKDLHSVB7YH3L2AUIMKPJFER3VLBZRU  95956   \n",
       "\n",
       "      offset                                           filename  \\\n",
       "0   13689701  crawl-data/CC-MAIN-2020-10/segments/1581875141...   \n",
       "1  915522267  crawl-data/CC-MAIN-2020-10/segments/1581875141...   \n",
       "2  884674375  crawl-data/CC-MAIN-2020-10/segments/1581875145...   \n",
       "3  890110347  crawl-data/CC-MAIN-2020-10/segments/1581875143...   \n",
       "4  859518253  crawl-data/CC-MAIN-2020-10/segments/1581875145...   \n",
       "\n",
       "                                            redirect charset languages  \n",
       "0  https://www.reddit.com/r/dataisbeautiful/comme...     NaN       NaN  \n",
       "1                                                NaN   UTF-8       eng  \n",
       "2                                                NaN   UTF-8       eng  \n",
       "3                                                NaN   UTF-8       eng  \n",
       "4                                                NaN   UTF-8       eng  "
      ]
     },
     "execution_count": 6,
     "metadata": {},
     "output_type": "execute_result"
    }
   ],
   "source": [
    "pd.DataFrame(client.results).head()"
   ]
  },
  {
   "cell_type": "markdown",
   "metadata": {},
   "source": [
    "Only download the first couple of 'ok' results"
   ]
  },
  {
   "cell_type": "code",
   "execution_count": 7,
   "metadata": {},
   "outputs": [],
   "source": [
    "client.results = [res for res in client.results if res['status'] == '200'][:2]"
   ]
  },
  {
   "cell_type": "code",
   "execution_count": 8,
   "metadata": {},
   "outputs": [],
   "source": [
    "client.download()"
   ]
  },
  {
   "cell_type": "code",
   "execution_count": 9,
   "metadata": {},
   "outputs": [
    {
     "data": {
      "text/plain": [
       "'https://www.reddit.com/r/dataisbeautiful/comments/2wlsvz/why_the_mlb_rule_changes_since_2004_game_time_is/'"
      ]
     },
     "execution_count": 9,
     "metadata": {},
     "output_type": "execute_result"
    }
   ],
   "source": [
    "client.results[0]['url']"
   ]
  },
  {
   "cell_type": "code",
   "execution_count": 10,
   "metadata": {},
   "outputs": [],
   "source": [
    "html = client.results[0]['html']"
   ]
  },
  {
   "cell_type": "code",
   "execution_count": 11,
   "metadata": {},
   "outputs": [],
   "source": [
    "soup = BeautifulSoup(html, 'html5lib')"
   ]
  },
  {
   "cell_type": "code",
   "execution_count": 12,
   "metadata": {},
   "outputs": [
    {
     "data": {
      "text/plain": [
       "'Why the MLB rule changes: Since 2004, game time is up 10%, while runs are down 13% [OC] : dataisbeautiful'"
      ]
     },
     "execution_count": 12,
     "metadata": {},
     "output_type": "execute_result"
    }
   ],
   "source": [
    "soup.head.title.text"
   ]
  },
  {
   "cell_type": "code",
   "execution_count": 13,
   "metadata": {},
   "outputs": [
    {
     "data": {
      "text/plain": [
       "'A place for visual representations of data: Graphs, charts, maps, etc.'"
      ]
     },
     "execution_count": 13,
     "metadata": {},
     "output_type": "execute_result"
    }
   ],
   "source": [
    "soup.find('div', {'class': 'usertext-body'}).p.text"
   ]
  },
  {
   "cell_type": "markdown",
   "metadata": {},
   "source": [
    "# Using [cdx-toolkit](https://github.com/cocrawler/cdx_toolkit)"
   ]
  },
  {
   "cell_type": "code",
   "execution_count": 14,
   "metadata": {},
   "outputs": [
    {
     "name": "stdout",
     "output_type": "stream",
     "text": [
      "Requirement already satisfied: cdx_toolkit in c:\\users\\jencm\\anaconda3\\lib\\site-packages (0.9.30)\n",
      "Requirement already satisfied: requests in c:\\users\\jencm\\anaconda3\\lib\\site-packages (from cdx_toolkit) (2.24.0)\n",
      "Requirement already satisfied: warcio in c:\\users\\jencm\\anaconda3\\lib\\site-packages (from cdx_toolkit) (1.7.4)\n",
      "Requirement already satisfied: chardet<4,>=3.0.2 in c:\\users\\jencm\\anaconda3\\lib\\site-packages (from requests->cdx_toolkit) (3.0.4)\n",
      "Requirement already satisfied: urllib3!=1.25.0,!=1.25.1,<1.26,>=1.21.1 in c:\\users\\jencm\\anaconda3\\lib\\site-packages (from requests->cdx_toolkit) (1.25.11)\n",
      "Requirement already satisfied: certifi>=2017.4.17 in c:\\users\\jencm\\anaconda3\\lib\\site-packages (from requests->cdx_toolkit) (2020.6.20)\n",
      "Requirement already satisfied: idna<3,>=2.5 in c:\\users\\jencm\\anaconda3\\lib\\site-packages (from requests->cdx_toolkit) (2.10)\n",
      "Requirement already satisfied: six in c:\\users\\jencm\\anaconda3\\lib\\site-packages (from warcio->cdx_toolkit) (1.15.0)\n"
     ]
    }
   ],
   "source": [
    "!python -m pip install cdx_toolkit"
   ]
  },
  {
   "cell_type": "code",
   "execution_count": 15,
   "metadata": {},
   "outputs": [],
   "source": [
    "import cdx_toolkit"
   ]
  },
  {
   "cell_type": "code",
   "execution_count": 16,
   "metadata": {},
   "outputs": [],
   "source": [
    "#url = 'https://www.reddit.com/r/dataisbeautiful/*'\n",
    "url = 'https://www.workana.com/*'"
   ]
  },
  {
   "cell_type": "code",
   "execution_count": 17,
   "metadata": {},
   "outputs": [],
   "source": [
    "cdx = cdx_toolkit.CDXFetcher(source='cc')"
   ]
  },
  {
   "cell_type": "markdown",
   "metadata": {},
   "source": [
    "Note: from_ts rather than from in CLI"
   ]
  },
  {
   "cell_type": "code",
   "execution_count": 18,
   "metadata": {},
   "outputs": [],
   "source": [
    "#objs = list(cdx.iter(url, from_ts='202101', to='202102', limit=5, filter='=status:200'))\n",
    "objs = list(cdx.iter(url, from_ts='202101', to='202102', filter='=status:200'))"
   ]
  },
  {
   "cell_type": "code",
   "execution_count": 19,
   "metadata": {},
   "outputs": [],
   "source": [
    "df = pd.DataFrame([o.data for o in objs])"
   ]
  },
  {
   "cell_type": "code",
   "execution_count": 20,
   "metadata": {},
   "outputs": [
    {
     "data": {
      "text/plain": [
       "(23705, 12)"
      ]
     },
     "execution_count": 20,
     "metadata": {},
     "output_type": "execute_result"
    }
   ],
   "source": [
    "df.shape"
   ]
  },
  {
   "cell_type": "code",
   "execution_count": 21,
   "metadata": {},
   "outputs": [
    {
     "data": {
      "text/html": [
       "<div>\n",
       "<style scoped>\n",
       "    .dataframe tbody tr th:only-of-type {\n",
       "        vertical-align: middle;\n",
       "    }\n",
       "\n",
       "    .dataframe tbody tr th {\n",
       "        vertical-align: top;\n",
       "    }\n",
       "\n",
       "    .dataframe thead th {\n",
       "        text-align: right;\n",
       "    }\n",
       "</style>\n",
       "<table border=\"1\" class=\"dataframe\">\n",
       "  <thead>\n",
       "    <tr style=\"text-align: right;\">\n",
       "      <th></th>\n",
       "      <th>urlkey</th>\n",
       "      <th>timestamp</th>\n",
       "      <th>url</th>\n",
       "      <th>mime</th>\n",
       "      <th>mime-detected</th>\n",
       "      <th>status</th>\n",
       "      <th>digest</th>\n",
       "      <th>length</th>\n",
       "      <th>offset</th>\n",
       "      <th>filename</th>\n",
       "      <th>charset</th>\n",
       "      <th>languages</th>\n",
       "    </tr>\n",
       "  </thead>\n",
       "  <tbody>\n",
       "    <tr>\n",
       "      <th>0</th>\n",
       "      <td>com,workana)/</td>\n",
       "      <td>20210115134610</td>\n",
       "      <td>https://www.workana.com/</td>\n",
       "      <td>text/html</td>\n",
       "      <td>text/html</td>\n",
       "      <td>200</td>\n",
       "      <td>RUACBLESF5RHTGR42PP6U5NYKVNSC7G7</td>\n",
       "      <td>13252</td>\n",
       "      <td>3462879</td>\n",
       "      <td>crawl-data/CC-MAIN-2021-04/segments/1610703495...</td>\n",
       "      <td>NaN</td>\n",
       "      <td>NaN</td>\n",
       "    </tr>\n",
       "    <tr>\n",
       "      <th>1</th>\n",
       "      <td>com,workana)/</td>\n",
       "      <td>20210115164606</td>\n",
       "      <td>https://www.workana.com/</td>\n",
       "      <td>text/html</td>\n",
       "      <td>text/html</td>\n",
       "      <td>200</td>\n",
       "      <td>ORS7FELEAMSXRBLRKUGDNNFLPLWZA6MB</td>\n",
       "      <td>13252</td>\n",
       "      <td>3402545</td>\n",
       "      <td>crawl-data/CC-MAIN-2021-04/segments/1610703495...</td>\n",
       "      <td>NaN</td>\n",
       "      <td>NaN</td>\n",
       "    </tr>\n",
       "    <tr>\n",
       "      <th>2</th>\n",
       "      <td>com,workana)/</td>\n",
       "      <td>20210115195200</td>\n",
       "      <td>https://www.workana.com/</td>\n",
       "      <td>text/html</td>\n",
       "      <td>text/html</td>\n",
       "      <td>200</td>\n",
       "      <td>GAHKARH5YMM7L6MQQRAIKINAPN3JKWBN</td>\n",
       "      <td>13249</td>\n",
       "      <td>3758775</td>\n",
       "      <td>crawl-data/CC-MAIN-2021-04/segments/1610703496...</td>\n",
       "      <td>NaN</td>\n",
       "      <td>NaN</td>\n",
       "    </tr>\n",
       "    <tr>\n",
       "      <th>3</th>\n",
       "      <td>com,workana)/</td>\n",
       "      <td>20210115225232</td>\n",
       "      <td>https://www.workana.com/</td>\n",
       "      <td>text/html</td>\n",
       "      <td>text/html</td>\n",
       "      <td>200</td>\n",
       "      <td>U5ZHB5ICS6TMZ36HKI7ZYA2LXI3XWGMQ</td>\n",
       "      <td>13254</td>\n",
       "      <td>2986780</td>\n",
       "      <td>crawl-data/CC-MAIN-2021-04/segments/1610703497...</td>\n",
       "      <td>NaN</td>\n",
       "      <td>NaN</td>\n",
       "    </tr>\n",
       "    <tr>\n",
       "      <th>4</th>\n",
       "      <td>com,workana)/</td>\n",
       "      <td>20210116015831</td>\n",
       "      <td>https://www.workana.com/</td>\n",
       "      <td>text/html</td>\n",
       "      <td>text/html</td>\n",
       "      <td>200</td>\n",
       "      <td>S4XEJ3TZEPMXA6QP3HB7IV4M3ZRRN2TK</td>\n",
       "      <td>13250</td>\n",
       "      <td>3059704</td>\n",
       "      <td>crawl-data/CC-MAIN-2021-04/segments/1610703499...</td>\n",
       "      <td>NaN</td>\n",
       "      <td>NaN</td>\n",
       "    </tr>\n",
       "  </tbody>\n",
       "</table>\n",
       "</div>"
      ],
      "text/plain": [
       "          urlkey       timestamp                       url       mime  \\\n",
       "0  com,workana)/  20210115134610  https://www.workana.com/  text/html   \n",
       "1  com,workana)/  20210115164606  https://www.workana.com/  text/html   \n",
       "2  com,workana)/  20210115195200  https://www.workana.com/  text/html   \n",
       "3  com,workana)/  20210115225232  https://www.workana.com/  text/html   \n",
       "4  com,workana)/  20210116015831  https://www.workana.com/  text/html   \n",
       "\n",
       "  mime-detected status                            digest length   offset  \\\n",
       "0     text/html    200  RUACBLESF5RHTGR42PP6U5NYKVNSC7G7  13252  3462879   \n",
       "1     text/html    200  ORS7FELEAMSXRBLRKUGDNNFLPLWZA6MB  13252  3402545   \n",
       "2     text/html    200  GAHKARH5YMM7L6MQQRAIKINAPN3JKWBN  13249  3758775   \n",
       "3     text/html    200  U5ZHB5ICS6TMZ36HKI7ZYA2LXI3XWGMQ  13254  2986780   \n",
       "4     text/html    200  S4XEJ3TZEPMXA6QP3HB7IV4M3ZRRN2TK  13250  3059704   \n",
       "\n",
       "                                            filename charset languages  \n",
       "0  crawl-data/CC-MAIN-2021-04/segments/1610703495...     NaN       NaN  \n",
       "1  crawl-data/CC-MAIN-2021-04/segments/1610703495...     NaN       NaN  \n",
       "2  crawl-data/CC-MAIN-2021-04/segments/1610703496...     NaN       NaN  \n",
       "3  crawl-data/CC-MAIN-2021-04/segments/1610703497...     NaN       NaN  \n",
       "4  crawl-data/CC-MAIN-2021-04/segments/1610703499...     NaN       NaN  "
      ]
     },
     "execution_count": 21,
     "metadata": {},
     "output_type": "execute_result"
    }
   ],
   "source": [
    "df.head()"
   ]
  },
  {
   "cell_type": "code",
   "execution_count": 22,
   "metadata": {},
   "outputs": [
    {
     "name": "stderr",
     "output_type": "stream",
     "text": [
      "IOPub data rate exceeded.\n",
      "The notebook server will temporarily stop sending output\n",
      "to the client in order to avoid crashing it.\n",
      "To change this limit, set the config variable\n",
      "`--NotebookApp.iopub_data_rate_limit`.\n",
      "\n",
      "Current values:\n",
      "NotebookApp.iopub_data_rate_limit=1000000.0 (bytes/sec)\n",
      "NotebookApp.rate_limit_window=3.0 (secs)\n",
      "\n"
     ]
    }
   ],
   "source": [
    "print(df.to_markdown())"
   ]
  },
  {
   "cell_type": "code",
   "execution_count": 23,
   "metadata": {},
   "outputs": [],
   "source": [
    "html = objs[0].content"
   ]
  },
  {
   "cell_type": "code",
   "execution_count": 24,
   "metadata": {},
   "outputs": [],
   "source": [
    "soup = BeautifulSoup(html, 'html5lib')"
   ]
  },
  {
   "cell_type": "code",
   "execution_count": 25,
   "metadata": {},
   "outputs": [
    {
     "data": {
      "text/plain": [
       "'\\n        Workana - Find Freelancers & Freelance Jobs Online     '"
      ]
     },
     "execution_count": 25,
     "metadata": {},
     "output_type": "execute_result"
    }
   ],
   "source": [
    "soup.head.title.text"
   ]
  },
  {
   "cell_type": "code",
   "execution_count": 26,
   "metadata": {},
   "outputs": [],
   "source": [
    "o = objs[0]"
   ]
  },
  {
   "cell_type": "code",
   "execution_count": 27,
   "metadata": {},
   "outputs": [
    {
     "data": {
      "text/plain": [
       "'https://www.workana.com/'"
      ]
     },
     "execution_count": 27,
     "metadata": {},
     "output_type": "execute_result"
    }
   ],
   "source": [
    "o.warc_record.rec_headers.get_header('WARC-Target-URI')"
   ]
  },
  {
   "cell_type": "markdown",
   "metadata": {},
   "source": [
    "# Requesting CDX endpoint Directly"
   ]
  },
  {
   "cell_type": "markdown",
   "metadata": {},
   "source": [
    "We can request the [Index directly](https://index.commoncrawl.org/) using [pywb's CDX API](https://github.com/webrecorder/pywb/wiki/CDX-Server-API#api-reference).\n",
    "\n",
    "But first we need to know what indexes are available."
   ]
  },
  {
   "cell_type": "code",
   "execution_count": 28,
   "metadata": {},
   "outputs": [],
   "source": [
    "cdx_indexes = requests.get('https://index.commoncrawl.org/collinfo.json').json()"
   ]
  },
  {
   "cell_type": "code",
   "execution_count": 29,
   "metadata": {},
   "outputs": [],
   "source": [
    "pd.options.display.max_colwidth=150\n",
    "pd.options.display.max_rows=6"
   ]
  },
  {
   "cell_type": "code",
   "execution_count": 30,
   "metadata": {},
   "outputs": [
    {
     "data": {
      "text/html": [
       "<div>\n",
       "<style scoped>\n",
       "    .dataframe tbody tr th:only-of-type {\n",
       "        vertical-align: middle;\n",
       "    }\n",
       "\n",
       "    .dataframe tbody tr th {\n",
       "        vertical-align: top;\n",
       "    }\n",
       "\n",
       "    .dataframe thead th {\n",
       "        text-align: right;\n",
       "    }\n",
       "</style>\n",
       "<table border=\"1\" class=\"dataframe\">\n",
       "  <thead>\n",
       "    <tr style=\"text-align: right;\">\n",
       "      <th></th>\n",
       "      <th>id</th>\n",
       "      <th>name</th>\n",
       "      <th>timegate</th>\n",
       "      <th>cdx-api</th>\n",
       "    </tr>\n",
       "  </thead>\n",
       "  <tbody>\n",
       "    <tr>\n",
       "      <th>0</th>\n",
       "      <td>CC-MAIN-2021-04</td>\n",
       "      <td>January 2021 Index</td>\n",
       "      <td>https://index.commoncrawl.org/CC-MAIN-2021-04/</td>\n",
       "      <td>https://index.commoncrawl.org/CC-MAIN-2021-04-index</td>\n",
       "    </tr>\n",
       "    <tr>\n",
       "      <th>1</th>\n",
       "      <td>CC-MAIN-2020-50</td>\n",
       "      <td>November 2020 Index</td>\n",
       "      <td>https://index.commoncrawl.org/CC-MAIN-2020-50/</td>\n",
       "      <td>https://index.commoncrawl.org/CC-MAIN-2020-50-index</td>\n",
       "    </tr>\n",
       "    <tr>\n",
       "      <th>2</th>\n",
       "      <td>CC-MAIN-2020-45</td>\n",
       "      <td>October 2020 Index</td>\n",
       "      <td>https://index.commoncrawl.org/CC-MAIN-2020-45/</td>\n",
       "      <td>https://index.commoncrawl.org/CC-MAIN-2020-45-index</td>\n",
       "    </tr>\n",
       "    <tr>\n",
       "      <th>...</th>\n",
       "      <td>...</td>\n",
       "      <td>...</td>\n",
       "      <td>...</td>\n",
       "      <td>...</td>\n",
       "    </tr>\n",
       "    <tr>\n",
       "      <th>75</th>\n",
       "      <td>CC-MAIN-2012</td>\n",
       "      <td>Index of 2012 ARC files</td>\n",
       "      <td>https://index.commoncrawl.org/CC-MAIN-2012/</td>\n",
       "      <td>https://index.commoncrawl.org/CC-MAIN-2012-index</td>\n",
       "    </tr>\n",
       "    <tr>\n",
       "      <th>76</th>\n",
       "      <td>CC-MAIN-2009-2010</td>\n",
       "      <td>Index of 2009 - 2010 ARC files</td>\n",
       "      <td>https://index.commoncrawl.org/CC-MAIN-2009-2010/</td>\n",
       "      <td>https://index.commoncrawl.org/CC-MAIN-2009-2010-index</td>\n",
       "    </tr>\n",
       "    <tr>\n",
       "      <th>77</th>\n",
       "      <td>CC-MAIN-2008-2009</td>\n",
       "      <td>Index of 2008 - 2009 ARC files</td>\n",
       "      <td>https://index.commoncrawl.org/CC-MAIN-2008-2009/</td>\n",
       "      <td>https://index.commoncrawl.org/CC-MAIN-2008-2009-index</td>\n",
       "    </tr>\n",
       "  </tbody>\n",
       "</table>\n",
       "<p>78 rows × 4 columns</p>\n",
       "</div>"
      ],
      "text/plain": [
       "                   id                            name  \\\n",
       "0     CC-MAIN-2021-04              January 2021 Index   \n",
       "1     CC-MAIN-2020-50             November 2020 Index   \n",
       "2     CC-MAIN-2020-45              October 2020 Index   \n",
       "..                ...                             ...   \n",
       "75       CC-MAIN-2012         Index of 2012 ARC files   \n",
       "76  CC-MAIN-2009-2010  Index of 2009 - 2010 ARC files   \n",
       "77  CC-MAIN-2008-2009  Index of 2008 - 2009 ARC files   \n",
       "\n",
       "                                            timegate  \\\n",
       "0     https://index.commoncrawl.org/CC-MAIN-2021-04/   \n",
       "1     https://index.commoncrawl.org/CC-MAIN-2020-50/   \n",
       "2     https://index.commoncrawl.org/CC-MAIN-2020-45/   \n",
       "..                                               ...   \n",
       "75       https://index.commoncrawl.org/CC-MAIN-2012/   \n",
       "76  https://index.commoncrawl.org/CC-MAIN-2009-2010/   \n",
       "77  https://index.commoncrawl.org/CC-MAIN-2008-2009/   \n",
       "\n",
       "                                                  cdx-api  \n",
       "0     https://index.commoncrawl.org/CC-MAIN-2021-04-index  \n",
       "1     https://index.commoncrawl.org/CC-MAIN-2020-50-index  \n",
       "2     https://index.commoncrawl.org/CC-MAIN-2020-45-index  \n",
       "..                                                    ...  \n",
       "75       https://index.commoncrawl.org/CC-MAIN-2012-index  \n",
       "76  https://index.commoncrawl.org/CC-MAIN-2009-2010-index  \n",
       "77  https://index.commoncrawl.org/CC-MAIN-2008-2009-index  \n",
       "\n",
       "[78 rows x 4 columns]"
      ]
     },
     "execution_count": 30,
     "metadata": {},
     "output_type": "execute_result"
    }
   ],
   "source": [
    "pd.DataFrame(cdx_indexes)"
   ]
  },
  {
   "cell_type": "code",
   "execution_count": 31,
   "metadata": {},
   "outputs": [
    {
     "name": "stdout",
     "output_type": "stream",
     "text": [
      "|    | id              | name                 | timegate                                       | cdx-api                                             |\n",
      "|---:|:----------------|:---------------------|:-----------------------------------------------|:----------------------------------------------------|\n",
      "|  0 | CC-MAIN-2021-04 | January 2021 Index   | https://index.commoncrawl.org/CC-MAIN-2021-04/ | https://index.commoncrawl.org/CC-MAIN-2021-04-index |\n",
      "|  1 | CC-MAIN-2020-50 | November 2020 Index  | https://index.commoncrawl.org/CC-MAIN-2020-50/ | https://index.commoncrawl.org/CC-MAIN-2020-50-index |\n",
      "|  2 | CC-MAIN-2020-45 | October 2020 Index   | https://index.commoncrawl.org/CC-MAIN-2020-45/ | https://index.commoncrawl.org/CC-MAIN-2020-45-index |\n",
      "|  3 | CC-MAIN-2020-40 | September 2020 Index | https://index.commoncrawl.org/CC-MAIN-2020-40/ | https://index.commoncrawl.org/CC-MAIN-2020-40-index |\n",
      "|  4 | CC-MAIN-2020-34 | August 2020 Index    | https://index.commoncrawl.org/CC-MAIN-2020-34/ | https://index.commoncrawl.org/CC-MAIN-2020-34-index |\n",
      "|  5 | CC-MAIN-2020-29 | July 2020 Index      | https://index.commoncrawl.org/CC-MAIN-2020-29/ | https://index.commoncrawl.org/CC-MAIN-2020-29-index |\n",
      "|  6 | CC-MAIN-2020-24 | May 2020 Index       | https://index.commoncrawl.org/CC-MAIN-2020-24/ | https://index.commoncrawl.org/CC-MAIN-2020-24-index |\n",
      "|  7 | CC-MAIN-2020-16 | March 2020 Index     | https://index.commoncrawl.org/CC-MAIN-2020-16/ | https://index.commoncrawl.org/CC-MAIN-2020-16-index |\n",
      "|  8 | CC-MAIN-2020-10 | February 2020 Index  | https://index.commoncrawl.org/CC-MAIN-2020-10/ | https://index.commoncrawl.org/CC-MAIN-2020-10-index |\n",
      "|  9 | CC-MAIN-2020-05 | January 2020 Index   | https://index.commoncrawl.org/CC-MAIN-2020-05/ | https://index.commoncrawl.org/CC-MAIN-2020-05-index |\n"
     ]
    }
   ],
   "source": [
    "print(pd.DataFrame(cdx_indexes).head(10).to_markdown())"
   ]
  },
  {
   "cell_type": "code",
   "execution_count": 32,
   "metadata": {},
   "outputs": [
    {
     "name": "stdout",
     "output_type": "stream",
     "text": [
      "|    | id                | name                           | timegate                                         | cdx-api                                               |\n",
      "|---:|:------------------|:-------------------------------|:-------------------------------------------------|:------------------------------------------------------|\n",
      "| 68 | CC-MAIN-2014-41   | September 2014 Index           | https://index.commoncrawl.org/CC-MAIN-2014-41/   | https://index.commoncrawl.org/CC-MAIN-2014-41-index   |\n",
      "| 69 | CC-MAIN-2014-35   | August 2014 Index              | https://index.commoncrawl.org/CC-MAIN-2014-35/   | https://index.commoncrawl.org/CC-MAIN-2014-35-index   |\n",
      "| 70 | CC-MAIN-2014-23   | July 2014 Index                | https://index.commoncrawl.org/CC-MAIN-2014-23/   | https://index.commoncrawl.org/CC-MAIN-2014-23-index   |\n",
      "| 71 | CC-MAIN-2014-15   | April 2014 Index               | https://index.commoncrawl.org/CC-MAIN-2014-15/   | https://index.commoncrawl.org/CC-MAIN-2014-15-index   |\n",
      "| 72 | CC-MAIN-2014-10   | March 2014 Index               | https://index.commoncrawl.org/CC-MAIN-2014-10/   | https://index.commoncrawl.org/CC-MAIN-2014-10-index   |\n",
      "| 73 | CC-MAIN-2013-48   | Winter 2013 Index              | https://index.commoncrawl.org/CC-MAIN-2013-48/   | https://index.commoncrawl.org/CC-MAIN-2013-48-index   |\n",
      "| 74 | CC-MAIN-2013-20   | Summer 2013 Index              | https://index.commoncrawl.org/CC-MAIN-2013-20/   | https://index.commoncrawl.org/CC-MAIN-2013-20-index   |\n",
      "| 75 | CC-MAIN-2012      | Index of 2012 ARC files        | https://index.commoncrawl.org/CC-MAIN-2012/      | https://index.commoncrawl.org/CC-MAIN-2012-index      |\n",
      "| 76 | CC-MAIN-2009-2010 | Index of 2009 - 2010 ARC files | https://index.commoncrawl.org/CC-MAIN-2009-2010/ | https://index.commoncrawl.org/CC-MAIN-2009-2010-index |\n",
      "| 77 | CC-MAIN-2008-2009 | Index of 2008 - 2009 ARC files | https://index.commoncrawl.org/CC-MAIN-2008-2009/ | https://index.commoncrawl.org/CC-MAIN-2008-2009-index |\n"
     ]
    }
   ],
   "source": [
    "print(pd.DataFrame(cdx_indexes).tail(10).to_markdown())"
   ]
  },
  {
   "cell_type": "code",
   "execution_count": 33,
   "metadata": {},
   "outputs": [
    {
     "data": {
      "text/plain": [
       "'https://index.commoncrawl.org/CC-MAIN-2021-04-index'"
      ]
     },
     "execution_count": 33,
     "metadata": {},
     "output_type": "execute_result"
    }
   ],
   "source": [
    "api_url = cdx_indexes[0]['cdx-api']\n",
    "api_url"
   ]
  },
  {
   "cell_type": "markdown",
   "metadata": {},
   "source": [
    "## Basic usage"
   ]
  },
  {
   "cell_type": "code",
   "execution_count": 34,
   "metadata": {},
   "outputs": [],
   "source": [
    "#r = requests.get(api_url,\n",
    "#                 params = {\n",
    "#                     'url': 'workana.com',\n",
    "#                     'limit': 100,\n",
    "#                     'output': 'json'\n",
    "#                 })"
   ]
  },
  {
   "cell_type": "code",
   "execution_count": 35,
   "metadata": {},
   "outputs": [],
   "source": [
    "r = requests.get(api_url,\n",
    "                 params = {\n",
    "                     'url': 'https://workana.com',\n",
    "                     'output': 'json',\n",
    "                     'filter': ['=status:200', '=mime-detected:text/html']\n",
    "                 })"
   ]
  },
  {
   "cell_type": "code",
   "execution_count": 36,
   "metadata": {},
   "outputs": [],
   "source": [
    "records = [json.loads(line) for line in r.text.split('\\n') if line]"
   ]
  },
  {
   "cell_type": "code",
   "execution_count": 37,
   "metadata": {},
   "outputs": [],
   "source": [
    "df = pd.DataFrame(records)"
   ]
  },
  {
   "cell_type": "code",
   "execution_count": 38,
   "metadata": {
    "scrolled": false
   },
   "outputs": [
    {
     "name": "stdout",
     "output_type": "stream",
     "text": [
      "|    | urlkey        |      timestamp | url                      | mime      | mime-detected   |   status | digest                           |   length |   offset | filename                                                                                                          |   charset |   languages |\n",
      "|---:|:--------------|---------------:|:-------------------------|:----------|:----------------|---------:|:---------------------------------|---------:|---------:|:------------------------------------------------------------------------------------------------------------------|----------:|------------:|\n",
      "|  0 | com,workana)/ | 20210115134610 | https://www.workana.com/ | text/html | text/html       |      200 | RUACBLESF5RHTGR42PP6U5NYKVNSC7G7 |    13252 |  3462879 | crawl-data/CC-MAIN-2021-04/segments/1610703495901.0/robotstxt/CC-MAIN-20210115134101-20210115164101-00528.warc.gz |       nan |         nan |\n",
      "|  1 | com,workana)/ | 20210115164606 | https://www.workana.com/ | text/html | text/html       |      200 | ORS7FELEAMSXRBLRKUGDNNFLPLWZA6MB |    13252 |  3402545 | crawl-data/CC-MAIN-2021-04/segments/1610703495936.3/robotstxt/CC-MAIN-20210115164417-20210115194417-00528.warc.gz |       nan |         nan |\n",
      "|  2 | com,workana)/ | 20210115195200 | https://www.workana.com/ | text/html | text/html       |      200 | GAHKARH5YMM7L6MQQRAIKINAPN3JKWBN |    13249 |  3758775 | crawl-data/CC-MAIN-2021-04/segments/1610703496947.2/robotstxt/CC-MAIN-20210115194851-20210115224851-00608.warc.gz |       nan |         nan |\n",
      "|  3 | com,workana)/ | 20210115225232 | https://www.workana.com/ | text/html | text/html       |      200 | U5ZHB5ICS6TMZ36HKI7ZYA2LXI3XWGMQ |    13254 |  2986780 | crawl-data/CC-MAIN-2021-04/segments/1610703497681.4/robotstxt/CC-MAIN-20210115224908-20210116014908-00608.warc.gz |       nan |         nan |\n",
      "|  4 | com,workana)/ | 20210116015831 | https://www.workana.com/ | text/html | text/html       |      200 | S4XEJ3TZEPMXA6QP3HB7IV4M3ZRRN2TK |    13250 |  3059704 | crawl-data/CC-MAIN-2021-04/segments/1610703499999.6/robotstxt/CC-MAIN-20210116014637-20210116044637-00608.warc.gz |       nan |         nan |\n"
     ]
    }
   ],
   "source": [
    "print(df.head().to_markdown())"
   ]
  },
  {
   "cell_type": "code",
   "execution_count": 39,
   "metadata": {},
   "outputs": [
    {
     "data": {
      "text/plain": [
       "(55, 12)"
      ]
     },
     "execution_count": 39,
     "metadata": {},
     "output_type": "execute_result"
    }
   ],
   "source": [
    "df.shape"
   ]
  },
  {
   "cell_type": "code",
   "execution_count": 40,
   "metadata": {},
   "outputs": [
    {
     "data": {
      "text/html": [
       "<div>\n",
       "<style scoped>\n",
       "    .dataframe tbody tr th:only-of-type {\n",
       "        vertical-align: middle;\n",
       "    }\n",
       "\n",
       "    .dataframe tbody tr th {\n",
       "        vertical-align: top;\n",
       "    }\n",
       "\n",
       "    .dataframe thead th {\n",
       "        text-align: right;\n",
       "    }\n",
       "</style>\n",
       "<table border=\"1\" class=\"dataframe\">\n",
       "  <thead>\n",
       "    <tr style=\"text-align: right;\">\n",
       "      <th></th>\n",
       "      <th>urlkey</th>\n",
       "      <th>timestamp</th>\n",
       "      <th>url</th>\n",
       "      <th>mime</th>\n",
       "      <th>mime-detected</th>\n",
       "      <th>status</th>\n",
       "      <th>digest</th>\n",
       "      <th>length</th>\n",
       "      <th>offset</th>\n",
       "      <th>filename</th>\n",
       "      <th>charset</th>\n",
       "      <th>languages</th>\n",
       "    </tr>\n",
       "  </thead>\n",
       "  <tbody>\n",
       "    <tr>\n",
       "      <th>0</th>\n",
       "      <td>com,workana)/</td>\n",
       "      <td>20210115134610</td>\n",
       "      <td>https://www.workana.com/</td>\n",
       "      <td>text/html</td>\n",
       "      <td>text/html</td>\n",
       "      <td>200</td>\n",
       "      <td>RUACBLESF5RHTGR42PP6U5NYKVNSC7G7</td>\n",
       "      <td>13252</td>\n",
       "      <td>3462879</td>\n",
       "      <td>crawl-data/CC-MAIN-2021-04/segments/1610703495901.0/robotstxt/CC-MAIN-20210115134101-20210115164101-00528.warc.gz</td>\n",
       "      <td>NaN</td>\n",
       "      <td>NaN</td>\n",
       "    </tr>\n",
       "    <tr>\n",
       "      <th>1</th>\n",
       "      <td>com,workana)/</td>\n",
       "      <td>20210115164606</td>\n",
       "      <td>https://www.workana.com/</td>\n",
       "      <td>text/html</td>\n",
       "      <td>text/html</td>\n",
       "      <td>200</td>\n",
       "      <td>ORS7FELEAMSXRBLRKUGDNNFLPLWZA6MB</td>\n",
       "      <td>13252</td>\n",
       "      <td>3402545</td>\n",
       "      <td>crawl-data/CC-MAIN-2021-04/segments/1610703495936.3/robotstxt/CC-MAIN-20210115164417-20210115194417-00528.warc.gz</td>\n",
       "      <td>NaN</td>\n",
       "      <td>NaN</td>\n",
       "    </tr>\n",
       "    <tr>\n",
       "      <th>2</th>\n",
       "      <td>com,workana)/</td>\n",
       "      <td>20210115195200</td>\n",
       "      <td>https://www.workana.com/</td>\n",
       "      <td>text/html</td>\n",
       "      <td>text/html</td>\n",
       "      <td>200</td>\n",
       "      <td>GAHKARH5YMM7L6MQQRAIKINAPN3JKWBN</td>\n",
       "      <td>13249</td>\n",
       "      <td>3758775</td>\n",
       "      <td>crawl-data/CC-MAIN-2021-04/segments/1610703496947.2/robotstxt/CC-MAIN-20210115194851-20210115224851-00608.warc.gz</td>\n",
       "      <td>NaN</td>\n",
       "      <td>NaN</td>\n",
       "    </tr>\n",
       "    <tr>\n",
       "      <th>3</th>\n",
       "      <td>com,workana)/</td>\n",
       "      <td>20210115225232</td>\n",
       "      <td>https://www.workana.com/</td>\n",
       "      <td>text/html</td>\n",
       "      <td>text/html</td>\n",
       "      <td>200</td>\n",
       "      <td>U5ZHB5ICS6TMZ36HKI7ZYA2LXI3XWGMQ</td>\n",
       "      <td>13254</td>\n",
       "      <td>2986780</td>\n",
       "      <td>crawl-data/CC-MAIN-2021-04/segments/1610703497681.4/robotstxt/CC-MAIN-20210115224908-20210116014908-00608.warc.gz</td>\n",
       "      <td>NaN</td>\n",
       "      <td>NaN</td>\n",
       "    </tr>\n",
       "    <tr>\n",
       "      <th>4</th>\n",
       "      <td>com,workana)/</td>\n",
       "      <td>20210116015831</td>\n",
       "      <td>https://www.workana.com/</td>\n",
       "      <td>text/html</td>\n",
       "      <td>text/html</td>\n",
       "      <td>200</td>\n",
       "      <td>S4XEJ3TZEPMXA6QP3HB7IV4M3ZRRN2TK</td>\n",
       "      <td>13250</td>\n",
       "      <td>3059704</td>\n",
       "      <td>crawl-data/CC-MAIN-2021-04/segments/1610703499999.6/robotstxt/CC-MAIN-20210116014637-20210116044637-00608.warc.gz</td>\n",
       "      <td>NaN</td>\n",
       "      <td>NaN</td>\n",
       "    </tr>\n",
       "  </tbody>\n",
       "</table>\n",
       "</div>"
      ],
      "text/plain": [
       "          urlkey       timestamp                       url       mime  \\\n",
       "0  com,workana)/  20210115134610  https://www.workana.com/  text/html   \n",
       "1  com,workana)/  20210115164606  https://www.workana.com/  text/html   \n",
       "2  com,workana)/  20210115195200  https://www.workana.com/  text/html   \n",
       "3  com,workana)/  20210115225232  https://www.workana.com/  text/html   \n",
       "4  com,workana)/  20210116015831  https://www.workana.com/  text/html   \n",
       "\n",
       "  mime-detected status                            digest length   offset  \\\n",
       "0     text/html    200  RUACBLESF5RHTGR42PP6U5NYKVNSC7G7  13252  3462879   \n",
       "1     text/html    200  ORS7FELEAMSXRBLRKUGDNNFLPLWZA6MB  13252  3402545   \n",
       "2     text/html    200  GAHKARH5YMM7L6MQQRAIKINAPN3JKWBN  13249  3758775   \n",
       "3     text/html    200  U5ZHB5ICS6TMZ36HKI7ZYA2LXI3XWGMQ  13254  2986780   \n",
       "4     text/html    200  S4XEJ3TZEPMXA6QP3HB7IV4M3ZRRN2TK  13250  3059704   \n",
       "\n",
       "                                                                                                            filename  \\\n",
       "0  crawl-data/CC-MAIN-2021-04/segments/1610703495901.0/robotstxt/CC-MAIN-20210115134101-20210115164101-00528.warc.gz   \n",
       "1  crawl-data/CC-MAIN-2021-04/segments/1610703495936.3/robotstxt/CC-MAIN-20210115164417-20210115194417-00528.warc.gz   \n",
       "2  crawl-data/CC-MAIN-2021-04/segments/1610703496947.2/robotstxt/CC-MAIN-20210115194851-20210115224851-00608.warc.gz   \n",
       "3  crawl-data/CC-MAIN-2021-04/segments/1610703497681.4/robotstxt/CC-MAIN-20210115224908-20210116014908-00608.warc.gz   \n",
       "4  crawl-data/CC-MAIN-2021-04/segments/1610703499999.6/robotstxt/CC-MAIN-20210116014637-20210116044637-00608.warc.gz   \n",
       "\n",
       "  charset languages  \n",
       "0     NaN       NaN  \n",
       "1     NaN       NaN  \n",
       "2     NaN       NaN  \n",
       "3     NaN       NaN  \n",
       "4     NaN       NaN  "
      ]
     },
     "execution_count": 40,
     "metadata": {},
     "output_type": "execute_result"
    }
   ],
   "source": [
    "df.head()"
   ]
  },
  {
   "cell_type": "code",
   "execution_count": 41,
   "metadata": {},
   "outputs": [
    {
     "data": {
      "text/plain": [
       "Index(['urlkey', 'timestamp', 'url', 'mime', 'mime-detected', 'status',\n",
       "       'digest', 'length', 'offset', 'filename', 'charset', 'languages'],\n",
       "      dtype='object')"
      ]
     },
     "execution_count": 41,
     "metadata": {},
     "output_type": "execute_result"
    }
   ],
   "source": [
    "df.columns"
   ]
  },
  {
   "cell_type": "markdown",
   "metadata": {},
   "source": [
    "## Filters and fields"
   ]
  },
  {
   "cell_type": "markdown",
   "metadata": {},
   "source": [
    "Let's use a few of the bells and whistles form the API.\n",
    "\n",
    "Particularly interesting are the [filters](https://github.com/webrecorder/pywb/wiki/CDX-Server-API#filter) which let us to only get rows that we need."
   ]
  },
  {
   "cell_type": "code",
   "execution_count": 42,
   "metadata": {},
   "outputs": [],
   "source": [
    "#r = requests.get(api_url,\n",
    "#                 params = {\n",
    "#                     'url': 'https://www.reddit.com/r/',\n",
    "#                     'matchType': 'prefix',\n",
    "#                     'limit': 10,\n",
    "#                     'output': 'json',\n",
    "#                     'fl': 'url,filename,offset,length',\n",
    "#                     'filter': ['=status:200', '=mime-detected:text/html', '~url:.*/comments/']\n",
    "#                 })"
   ]
  },
  {
   "cell_type": "code",
   "execution_count": 43,
   "metadata": {},
   "outputs": [],
   "source": [
    "r = requests.get(api_url,\n",
    "                 params = {\n",
    "                     'url': 'https://workana.com',\n",
    "                     'matchType': 'prefix',\n",
    "                     'output': 'json',\n",
    "                     'fl': 'url,filename,offset,length',\n",
    "                     'filter': ['=status:200', '=mime-detected:text/html']\n",
    "                 })"
   ]
  },
  {
   "cell_type": "code",
   "execution_count": 44,
   "metadata": {},
   "outputs": [],
   "source": [
    "r.raise_for_status()"
   ]
  },
  {
   "cell_type": "code",
   "execution_count": 45,
   "metadata": {},
   "outputs": [],
   "source": [
    "df = pd.DataFrame([json.loads(line) for line in r.text.split('\\n') if line])"
   ]
  },
  {
   "cell_type": "code",
   "execution_count": 46,
   "metadata": {},
   "outputs": [
    {
     "data": {
      "text/plain": [
       "(6822, 4)"
      ]
     },
     "execution_count": 46,
     "metadata": {},
     "output_type": "execute_result"
    }
   ],
   "source": [
    "df.shape"
   ]
  },
  {
   "cell_type": "code",
   "execution_count": 47,
   "metadata": {},
   "outputs": [
    {
     "data": {
      "text/html": [
       "<div>\n",
       "<style scoped>\n",
       "    .dataframe tbody tr th:only-of-type {\n",
       "        vertical-align: middle;\n",
       "    }\n",
       "\n",
       "    .dataframe tbody tr th {\n",
       "        vertical-align: top;\n",
       "    }\n",
       "\n",
       "    .dataframe thead th {\n",
       "        text-align: right;\n",
       "    }\n",
       "</style>\n",
       "<table border=\"1\" class=\"dataframe\">\n",
       "  <thead>\n",
       "    <tr style=\"text-align: right;\">\n",
       "      <th></th>\n",
       "      <th>url</th>\n",
       "      <th>filename</th>\n",
       "      <th>offset</th>\n",
       "      <th>length</th>\n",
       "    </tr>\n",
       "  </thead>\n",
       "  <tbody>\n",
       "    <tr>\n",
       "      <th>0</th>\n",
       "      <td>https://www.workana.com/</td>\n",
       "      <td>crawl-data/CC-MAIN-2021-04/segments/1610703495901.0/robotstxt/CC-MAIN-20210115134101-20210115164101-00528.warc.gz</td>\n",
       "      <td>3462879</td>\n",
       "      <td>13252</td>\n",
       "    </tr>\n",
       "    <tr>\n",
       "      <th>1</th>\n",
       "      <td>https://www.workana.com/</td>\n",
       "      <td>crawl-data/CC-MAIN-2021-04/segments/1610703495936.3/robotstxt/CC-MAIN-20210115164417-20210115194417-00528.warc.gz</td>\n",
       "      <td>3402545</td>\n",
       "      <td>13252</td>\n",
       "    </tr>\n",
       "    <tr>\n",
       "      <th>2</th>\n",
       "      <td>https://www.workana.com/</td>\n",
       "      <td>crawl-data/CC-MAIN-2021-04/segments/1610703496947.2/robotstxt/CC-MAIN-20210115194851-20210115224851-00608.warc.gz</td>\n",
       "      <td>3758775</td>\n",
       "      <td>13249</td>\n",
       "    </tr>\n",
       "    <tr>\n",
       "      <th>3</th>\n",
       "      <td>https://www.workana.com/</td>\n",
       "      <td>crawl-data/CC-MAIN-2021-04/segments/1610703497681.4/robotstxt/CC-MAIN-20210115224908-20210116014908-00608.warc.gz</td>\n",
       "      <td>2986780</td>\n",
       "      <td>13254</td>\n",
       "    </tr>\n",
       "    <tr>\n",
       "      <th>4</th>\n",
       "      <td>https://www.workana.com/</td>\n",
       "      <td>crawl-data/CC-MAIN-2021-04/segments/1610703499999.6/robotstxt/CC-MAIN-20210116014637-20210116044637-00608.warc.gz</td>\n",
       "      <td>3059704</td>\n",
       "      <td>13250</td>\n",
       "    </tr>\n",
       "  </tbody>\n",
       "</table>\n",
       "</div>"
      ],
      "text/plain": [
       "                        url  \\\n",
       "0  https://www.workana.com/   \n",
       "1  https://www.workana.com/   \n",
       "2  https://www.workana.com/   \n",
       "3  https://www.workana.com/   \n",
       "4  https://www.workana.com/   \n",
       "\n",
       "                                                                                                            filename  \\\n",
       "0  crawl-data/CC-MAIN-2021-04/segments/1610703495901.0/robotstxt/CC-MAIN-20210115134101-20210115164101-00528.warc.gz   \n",
       "1  crawl-data/CC-MAIN-2021-04/segments/1610703495936.3/robotstxt/CC-MAIN-20210115164417-20210115194417-00528.warc.gz   \n",
       "2  crawl-data/CC-MAIN-2021-04/segments/1610703496947.2/robotstxt/CC-MAIN-20210115194851-20210115224851-00608.warc.gz   \n",
       "3  crawl-data/CC-MAIN-2021-04/segments/1610703497681.4/robotstxt/CC-MAIN-20210115224908-20210116014908-00608.warc.gz   \n",
       "4  crawl-data/CC-MAIN-2021-04/segments/1610703499999.6/robotstxt/CC-MAIN-20210116014637-20210116044637-00608.warc.gz   \n",
       "\n",
       "    offset length  \n",
       "0  3462879  13252  \n",
       "1  3402545  13252  \n",
       "2  3758775  13249  \n",
       "3  2986780  13254  \n",
       "4  3059704  13250  "
      ]
     },
     "execution_count": 47,
     "metadata": {},
     "output_type": "execute_result"
    }
   ],
   "source": [
    "df.head()"
   ]
  },
  {
   "cell_type": "markdown",
   "metadata": {},
   "source": [
    "## Pagination\n",
    "\n",
    "The [introductory blog post to CDX on Common Crawl](https://commoncrawl.org/2015/04/announcing-the-common-crawl-index/) mentions it's paginated to 15,000 results by default.\n",
    "\n",
    "Let's test that"
   ]
  },
  {
   "cell_type": "code",
   "execution_count": 48,
   "metadata": {},
   "outputs": [],
   "source": [
    "r = requests.get(api_url,\n",
    "                 params = {\n",
    "                     'url': '*.workana.com',\n",
    "                     'output': 'json',\n",
    "                     'showNumPages': True,\n",
    "                 })"
   ]
  },
  {
   "cell_type": "markdown",
   "metadata": {},
   "source": [
    "* pageSize is number of results in (compressed) blocks\n",
    "* blocks is total number of compressed blocks\n",
    "* pages = (blocks // page_size)\n"
   ]
  },
  {
   "cell_type": "code",
   "execution_count": 49,
   "metadata": {},
   "outputs": [
    {
     "data": {
      "text/plain": [
       "{'pages': 5, 'pageSize': 5, 'blocks': 24}"
      ]
     },
     "execution_count": 49,
     "metadata": {},
     "output_type": "execute_result"
    }
   ],
   "source": [
    "num_pages = r.json()\n",
    "num_pages"
   ]
  },
  {
   "cell_type": "code",
   "execution_count": 50,
   "metadata": {},
   "outputs": [],
   "source": [
    "import math"
   ]
  },
  {
   "cell_type": "code",
   "execution_count": 51,
   "metadata": {},
   "outputs": [
    {
     "data": {
      "text/plain": [
       "True"
      ]
     },
     "execution_count": 51,
     "metadata": {},
     "output_type": "execute_result"
    }
   ],
   "source": [
    "math.ceil(num_pages['blocks'] / num_pages['pageSize']) == num_pages['pages']"
   ]
  },
  {
   "cell_type": "code",
   "execution_count": 52,
   "metadata": {},
   "outputs": [],
   "source": [
    "r = requests.get(api_url,\n",
    "                 params = {\n",
    "                     'url': '*.workana.com',\n",
    "                     'output': 'json',\n",
    "                 })"
   ]
  },
  {
   "cell_type": "code",
   "execution_count": 53,
   "metadata": {},
   "outputs": [],
   "source": [
    "results = [json.loads(line) for line in r.text.split('\\n') if line]"
   ]
  },
  {
   "cell_type": "code",
   "execution_count": 54,
   "metadata": {},
   "outputs": [
    {
     "data": {
      "text/plain": [
       "12099"
      ]
     },
     "execution_count": 54,
     "metadata": {},
     "output_type": "execute_result"
    }
   ],
   "source": [
    "len(results)"
   ]
  },
  {
   "cell_type": "code",
   "execution_count": 55,
   "metadata": {},
   "outputs": [
    {
     "data": {
      "text/plain": [
       "{'urlkey': 'com,workana)/es/job/validador-de-imei-para-text-input',\n",
       " 'timestamp': '20210118043611',\n",
       " 'url': 'https://www.workana.com/es/job/validador-de-imei-para-text-input',\n",
       " 'mime': 'text/html',\n",
       " 'mime-detected': 'text/html',\n",
       " 'status': '200',\n",
       " 'digest': 'L6CEA7OGHNNL37BJSHG5OKQTB5UBE42N',\n",
       " 'length': '12847',\n",
       " 'offset': '1064473553',\n",
       " 'filename': 'crawl-data/CC-MAIN-2021-04/segments/1610703514121.8/warc/CC-MAIN-20210118030549-20210118060549-00672.warc.gz',\n",
       " 'charset': 'UTF-8',\n",
       " 'languages': 'spa'}"
      ]
     },
     "execution_count": 55,
     "metadata": {},
     "output_type": "execute_result"
    }
   ],
   "source": [
    "results[-1]"
   ]
  },
  {
   "cell_type": "markdown",
   "metadata": {},
   "source": [
    "We can adjust the pageSize (in blocks) as well"
   ]
  },
  {
   "cell_type": "code",
   "execution_count": 56,
   "metadata": {},
   "outputs": [],
   "source": [
    "r = requests.get(api_url,\n",
    "                 params = {\n",
    "                     'url': '*.workana.com',\n",
    "                     'output': 'json',\n",
    "                     'page': 3,\n",
    "                     'pageSize': 1,\n",
    "                 })"
   ]
  },
  {
   "cell_type": "code",
   "execution_count": 57,
   "metadata": {},
   "outputs": [],
   "source": [
    "results2 = [json.loads(line) for line in r.text.split('\\n') if line]"
   ]
  },
  {
   "cell_type": "markdown",
   "metadata": {},
   "source": [
    "About 3,000 results per page"
   ]
  },
  {
   "cell_type": "code",
   "execution_count": 58,
   "metadata": {},
   "outputs": [
    {
     "data": {
      "text/plain": [
       "3000"
      ]
     },
     "execution_count": 58,
     "metadata": {},
     "output_type": "execute_result"
    }
   ],
   "source": [
    "len(results2)"
   ]
  },
  {
   "cell_type": "code",
   "execution_count": 59,
   "metadata": {
    "scrolled": true
   },
   "outputs": [
    {
     "data": {
      "text/plain": [
       "{'urlkey': 'com,workana)/',\n",
       " 'timestamp': '20210115134610',\n",
       " 'url': 'https://www.workana.com/',\n",
       " 'mime': 'text/html',\n",
       " 'mime-detected': 'text/html',\n",
       " 'status': '200',\n",
       " 'digest': 'RUACBLESF5RHTGR42PP6U5NYKVNSC7G7',\n",
       " 'length': '13252',\n",
       " 'offset': '3462879',\n",
       " 'filename': 'crawl-data/CC-MAIN-2021-04/segments/1610703495901.0/robotstxt/CC-MAIN-20210115134101-20210115164101-00528.warc.gz'}"
      ]
     },
     "execution_count": 59,
     "metadata": {},
     "output_type": "execute_result"
    }
   ],
   "source": [
    "results[0]"
   ]
  },
  {
   "cell_type": "markdown",
   "metadata": {},
   "source": [
    "This should correspond to the 3rd fifth of results"
   ]
  },
  {
   "cell_type": "code",
   "execution_count": 60,
   "metadata": {
    "scrolled": true
   },
   "outputs": [
    {
     "data": {
      "text/plain": [
       "[]"
      ]
     },
     "execution_count": 60,
     "metadata": {},
     "output_type": "execute_result"
    }
   ],
   "source": [
    "[r for r in results2 if r not in results]"
   ]
  },
  {
   "cell_type": "markdown",
   "metadata": {},
   "source": [
    "Going past the last page"
   ]
  },
  {
   "cell_type": "code",
   "execution_count": 61,
   "metadata": {},
   "outputs": [],
   "source": [
    "r = requests.get(api_url,\n",
    "                 params = {\n",
    "                     'url': '*.workana.com',\n",
    "                     'output': 'json',\n",
    "                     'page': 409,\n",
    "                 })"
   ]
  },
  {
   "cell_type": "code",
   "execution_count": 62,
   "metadata": {},
   "outputs": [
    {
     "data": {
      "text/plain": [
       "400"
      ]
     },
     "execution_count": 62,
     "metadata": {},
     "output_type": "execute_result"
    }
   ],
   "source": [
    "r.status_code"
   ]
  },
  {
   "cell_type": "code",
   "execution_count": 63,
   "metadata": {},
   "outputs": [
    {
     "name": "stdout",
     "output_type": "stream",
     "text": [
      "<!DOCTYPE html>\n",
      "<html>\n",
      "<head>\n",
      "<link rel=\"stylesheet\" href=\"/static/__shared/shared.css\"/>\n",
      "</head>\n",
      "<body>\n",
      "<h2>Common Crawl Index Server Error</h2>\n",
      "<b>Page 409 invalid: First Page is 0, Last Page is 4</b>\n",
      "\n",
      "</body>\n",
      "</html>\n"
     ]
    }
   ],
   "source": [
    "print(r.text)"
   ]
  },
  {
   "cell_type": "markdown",
   "metadata": {},
   "source": [
    "# Retrieving content"
   ]
  },
  {
   "cell_type": "code",
   "execution_count": 64,
   "metadata": {},
   "outputs": [],
   "source": [
    "record = records[0]"
   ]
  },
  {
   "cell_type": "code",
   "execution_count": 65,
   "metadata": {},
   "outputs": [
    {
     "data": {
      "text/plain": [
       "{'urlkey': 'com,workana)/',\n",
       " 'timestamp': '20210115134610',\n",
       " 'url': 'https://www.workana.com/',\n",
       " 'mime': 'text/html',\n",
       " 'mime-detected': 'text/html',\n",
       " 'status': '200',\n",
       " 'digest': 'RUACBLESF5RHTGR42PP6U5NYKVNSC7G7',\n",
       " 'length': '13252',\n",
       " 'offset': '3462879',\n",
       " 'filename': 'crawl-data/CC-MAIN-2021-04/segments/1610703495901.0/robotstxt/CC-MAIN-20210115134101-20210115164101-00528.warc.gz'}"
      ]
     },
     "execution_count": 65,
     "metadata": {},
     "output_type": "execute_result"
    }
   ],
   "source": [
    "record"
   ]
  },
  {
   "cell_type": "code",
   "execution_count": 66,
   "metadata": {},
   "outputs": [
    {
     "data": {
      "text/plain": [
       "'https://commoncrawl.s3.amazonaws.com/crawl-data/CC-MAIN-2021-04/segments/1610703495901.0/robotstxt/CC-MAIN-20210115134101-20210115164101-00528.warc.gz'"
      ]
     },
     "execution_count": 66,
     "metadata": {},
     "output_type": "execute_result"
    }
   ],
   "source": [
    "data_url = 'https://commoncrawl.s3.amazonaws.com/' + record['filename']\n",
    "data_url"
   ]
  },
  {
   "cell_type": "markdown",
   "metadata": {},
   "source": [
    "Use a [Range header](https://developer.mozilla.org/en-US/docs/Web/HTTP/Headers/Range) to get just the data we need."
   ]
  },
  {
   "cell_type": "code",
   "execution_count": 67,
   "metadata": {
    "scrolled": true
   },
   "outputs": [
    {
     "data": {
      "text/plain": [
       "{'Range': 'bytes=3462879-3476131'}"
      ]
     },
     "execution_count": 67,
     "metadata": {},
     "output_type": "execute_result"
    }
   ],
   "source": [
    "headers = {'Range': f'bytes={int(record[\"offset\"])}-{int(record[\"offset\"]) + int(record[\"length\"])}'}\n",
    "headers"
   ]
  },
  {
   "cell_type": "code",
   "execution_count": 68,
   "metadata": {},
   "outputs": [],
   "source": [
    "r = requests.get(data_url, headers=headers)"
   ]
  },
  {
   "cell_type": "code",
   "execution_count": 69,
   "metadata": {},
   "outputs": [],
   "source": [
    "import zlib"
   ]
  },
  {
   "cell_type": "code",
   "execution_count": 71,
   "metadata": {},
   "outputs": [],
   "source": [
    "#data = zlib.decompress(r.content)"
   ]
  },
  {
   "cell_type": "markdown",
   "metadata": {},
   "source": [
    "We have to use zlib instead of gzip because we're not reading from the start of the file, and so gzip headers aren't there.\n",
    "\n",
    "For gzip compatible we need to [set the wbits](https://stackoverflow.com/a/22310760)."
   ]
  },
  {
   "cell_type": "code",
   "execution_count": 72,
   "metadata": {},
   "outputs": [],
   "source": [
    "data = zlib.decompress(r.content, wbits = zlib.MAX_WBITS | 16)"
   ]
  },
  {
   "cell_type": "code",
   "execution_count": 73,
   "metadata": {
    "scrolled": false
   },
   "outputs": [
    {
     "name": "stdout",
     "output_type": "stream",
     "text": [
      "WARC/1.0\r\n",
      "WARC-Type: response\r\n",
      "WARC-Date: 2021-01-15T13:46:10Z\r\n",
      "WARC-Record-ID: <urn:uuid:77120c70-1982-49c3-9c83-5477dc4b666a>\r\n",
      "Content-Length: 60269\r\n",
      "Content-Type: application/http; msgtype=response\r\n",
      "WARC-Warcinfo-ID: <urn:uuid:543fe5c9-060f-48c3-bd88-c6474ad8410f>\r\n",
      "WARC-Concurrent-To: <urn:uuid:343c496c-1230-408d-89ed-94b3e112f5b6>\r\n",
      "WARC-IP-Address: 40.70.170.72\r\n",
      "WARC-Target-URI: https://www.workana.com/\r\n",
      "WARC-Payload-Digest: sha1:RUACBLESF5RHTGR42PP6U5NYKVNSC7G7\r\n",
      "WARC-Block-Digest: sha1:L4DM2QGXZTGP7CWK53MGLPOILN25KK2Z\r\n",
      "WARC-Identified-Payload-Type: text/html\r\n",
      "\r\n",
      "HTTP/1.1 200 OK\r\n",
      "Date: Fri, 15 Jan 2021 13:46:10 GMT\r\n",
      "Content-Type: text/html; charset=UTF-8\r\n",
      "X-Crawler-Transfer-Encoding: chunked\r\n",
      "Connection: keep-alive\r\n",
      "Set-Cookie: appcookie[user_locale]=en_US; expires=Sat, 15-Jan-2022 13:46:10 GMT; Max-Age=31536000; path=/; domain=www.workana.com; secure; HttpOnly\r\n",
      "X-Frame-Options: DENY\r\n",
      "X-XSS-Protection: 1; mode=block\r\n",
      "X-Content-Type-Options: nosniff\r\n",
      "X-Workana-Company-Hash: null\r\n",
      "Strict-Transport-Security: max-age=31536000\r\n",
      "X-Crawler-Content-Encoding: gzip\r\n",
      "Content-Length: 59741\r\n",
      "\r\n",
      "\r\n",
      "<!DOCTYPE html>\n",
      "<html\n",
      "        lang=\"en\"\n",
      "        xmlns:fb=\"http://ogp.me/ns/fb#\"\n",
      "        prefix=\"og: http://ogp.me/ns# fb: http://ogp.me/ns/fb# article: http://ogp.me/ns/article#\">\n",
      "<head>\n",
      "    <meta charset=\"UTF-8\"/>\n",
      "    <meta http-equiv=\"content-type\" content=\"text/html; charset=utf-8\" />\n",
      "    <meta http-equiv=\"X-UA-Compatible\" content=\"IE=edge\">\n",
      "    <meta name=\"viewport\" content=\"width=device-width, initial-scale=1.0, user-scalable=0\">\n",
      "    <meta name=\"theme-color\" content=\"#253556\">\n",
      "\n",
      "            <link href=\"https://www.workana.com/\" rel=\"canonical\" title=\"Canonical URL\" /><link href=\"https://www.workana.com/\" rel=\"alternate\" hreflang=\"x-default\" title=\"Canonical URL for x-default\" /><link href=\"https://www.workana.com/en\" rel=\"alternate\" hreflang=\"en\" title=\"Canonical URL for en\" /><link href=\"https://www.workana.com/es\" rel=\"alternate\" hreflang=\"es\" title=\"Canonical URL for es\" /><link href=\"https://www.workana.com/pt\" rel=\"alternate\" hreflang=\"pt\" title=\"Canonical URL for pt\" />\n",
      "    \n",
      "    <title>\n",
      "        Workana - Find Freelancers &amp; Freelance Jobs Online     </title>\n",
      "\n",
      "            <meta name=\"description\" content=\"Hire top freelancers: developers, web designers, writers and all kind of experts, and find freelance jobs on Workana, the leading freelance marketplace.\"/>\n",
      "    \n",
      "    <link href=\"https://wkncdn.com/newx/assets/build/img/favicon.b28151b07.png\" rel=\"shortcut icon\" type=\"image/png\" /><link href=\"https://wkncdn.com/newx/assets/build/img/touch-icons/apple-touch-icon-57x57.0c28cc6a1.png\" rel=\"apple-touch-icon\" sizes=\"57x57\" type=\"image/png\" /><link href=\"https://wkncdn.com/newx/assets/build/img/touch-icons/apple-touch-icon-60x60.9eb416060.png\" rel=\"apple-touch-icon\" sizes=\"60x60\" type=\"image/png\" /><link href=\"https://wkncdn.com/newx/assets/build/img/touch-icons/apple-touch-icon-72x72.b95fd0370.png\" rel=\"apple-touch-icon\" sizes=\"72x72\" type=\"image/png\" /><link href=\"https://wkncdn.com/newx/assets/build/img/touch-icons/apple-touch-icon-76x76.ad766f6be.png\" rel=\"apple-touch-icon\" sizes=\"76x76\" type=\"image/png\" /><link href=\"https://wkncdn.com/newx/assets/build/img/touch-icons/apple-touch-icon-114x114.4008ed826.png\" rel=\"apple-touch-icon\" sizes=\"114x114\" type=\"image/png\" /><link href=\"https://wkncdn.com/newx/assets/build/img/touch-icons/apple-touch-icon-120x120.aadaea0eb.png\" rel=\"apple-touch-icon\" sizes=\"120x120\" type=\"image/png\" /><link href=\"https://wkncdn.com/newx/assets/build/img/touch-icons/apple-touch-icon-144x144.620691b6d.png\" rel=\"apple-touch-icon\" sizes=\"144x144\" type=\"image/png\" /><link href=\"https://wkncdn.com/newx/assets/build/img/touch-icons/apple-touch-icon-152x152.e16a1cf18.png\" rel=\"apple-touch-icon\" sizes=\"152x152\" type=\"image/png\" /><link href=\"https://wkncdn.com/newx/assets/build/img/touch-icons/apple-touch-icon-180x180.8461cf216.png\" rel=\"apple-touch-icon\" sizes=\"180x180\" type=\"image/png\" /><link href=\"https://wkncdn.com/newx/assets/build/img/touch-icons/android-chrome-192x192.312fd6689.png\" rel=\"icon\" sizes=\"192x192\" type=\"image/png\" />\n",
      "\n",
      "    <link rel=\"stylesheet\" type=\"text/css\" href=\"https://wkncdn.com/newx/assets/build/bundle.home.3f72f5f17.css\">\n",
      "    <link rel=\"manifest\" href=\"/manifest.json\">\n",
      "    <!-- Global site tag (gtag.js) - Google Analytics -->\n",
      "<script async src=\"https://www.googletagmanager.com/gtag/js?id=UA-29894336-4\"></script>\n",
      "<script>\n",
      "    window.dataLayer = window.dataLayer || [];\n",
      "    function gtag(){dataLayer.push(arguments);}\n",
      "    gtag('js', new Date());\n",
      "\n",
      "    gtag('config', 'UA-29894336-4', {'send_page_view': false});\n",
      "        gtag('config', 'AW-1007132020');\n",
      "        gtag('config', 'AW-933686298');\n",
      "        gtag('config', 'AW-938156306');\n",
      "    </script>\n",
      "\n",
      "\n",
      "    \n",
      "    \n",
      "    <script type=\"text/javascript\">\n",
      "    (function(i,s,o,g,r,a,m){i['GoogleAnalyticsObject']=r;i[r]=i[r]||function(){\n",
      "    (i[r].q=i[r].q||[]).push(arguments)},i[r].l=1*new Date();a=s.createElement(o),\n",
      "    m=s.getElementsByTagName(o)[0];a.async=1;a.src=g;m.parentNode.insertBefore(a,m)\n",
      "    })(window,document,'script','//www.google-analytics.com/analytics.js','ga');\n",
      "\n",
      "    ga('create', 'UA-29894336-4', 'auto', {'legacyCookieDomain': 'workana.com'});\n",
      "\n",
      "    \n",
      "    \n",
      "    \n",
      "    ga('send', 'pageview');\n",
      "\n",
      "    (function () {\n",
      "        var errorListener = function(e) {\n",
      "            try {\n",
      "                var label;\n",
      "                var filename = '';\n",
      "                var lineno = '';\n",
      "                var cdn = 'https://wkncdn.com/newx/assets/build/';\n",
      "                if (e.filename) {\n",
      "                    filename = e.filename;\n",
      "                    lineno = e.lineno;\n",
      "                } else if (e.fileName) {\n",
      "                    // Mozilla\n",
      "                    filename = e.fileName;\n",
      "                    lineno = e.lineNumber;\n",
      "                } else {\n",
      "                    filename = '' + e.name;\n",
      "                }\n",
      "                label = filename.split(cdn).join('') + ':' + lineno;\n",
      "                if (e && e.error && e.error.stack && typeof(e.error.stack) === \"string\") {\n",
      "                    var stack = e.error.stack.split(\"    \").join('').split(\"\\n\").join(' | ');\n",
      "                    if (filename) {\n",
      "                        stack = stack.split(cdn).join(':')\n",
      "                    }\n",
      "                    label += ' | ' + stack;\n",
      "                }\n",
      "                var ignore = [\n",
      "                    /SecurityError +\\(?DOM +Exception +18\\)?:.+\\\"https:\\/\\/www.workana.com\\\".+/,\n",
      "                    /Script error\\./\n",
      "                ];\n",
      "                for (var i = 0 ; i < ignore.length ; i++) {\n",
      "                    if (ignore[i].test(e.message)) {\n",
      "                        return;\n",
      "                    }\n",
      "                }\n",
      "                ga('send', 'event', 'JavaScript Error', e.message, label, 1, {'nonInteraction': 1});\n",
      "            } catch (e) {\n",
      "            }\n",
      "        };\n",
      "        if (window.addEventListener) {\n",
      "            window.addEventListener('error', errorListener);\n",
      "        } else if (window.attachEvent) {\n",
      "            // IE < 9\n",
      "            window.attachEvent('onerror', errorListener);\n",
      "        } else {\n",
      "            // DOM 0\n",
      "            window.onerror = errorListener;\n",
      "        }\n",
      "    })();\n",
      "</script>\n",
      "\n",
      "\n",
      "\n",
      "    \n",
      "    <script type=\"text/javascript\">\n",
      "  var _prum = [['id', '51703653abe53dad59000000'],\n",
      "              ['mark', 'firstbyte', (new Date()).getTime()]];\n",
      "  (function () {\n",
      "      var s = document.getElementsByTagName('script')[0]\n",
      "      , p = document.createElement('script');\n",
      "      p.async = 'async';\n",
      "      p.src = '//rum-static.pingdom.net/prum.min.js';\n",
      "      s.parentNode.insertBefore(p, s);\n",
      "  })();\n",
      "</script>\n",
      "\n",
      "    \n",
      "    <script type=\"text/javascript\">\n",
      "        (function(e,t){var n=e.amplitude||{_q:[],_iq:{}};var r=t.createElement(\"script\")\n",
      "        ;r.type=\"text/javascript\";r.async=true\n",
      "        ;r.src=\"https://cdn.amplitude.com/libs/amplitude-4.5.2-min.gz.js\"\n",
      "        ;r.integrity=\"sha384-f1maK8oMrCMNEWGGg3Hx3dMTOQBbXr4e1ZIjB/J0TcgJx5UeE0g5S5PM5BbWPe4E\"\n",
      "        ;r.crossOrigin=\"anonymous\"\n",
      "        ;r.onload=function(){if(e.amplitude.runQueuedFunctions){\n",
      "            e.amplitude.runQueuedFunctions()}else{\n",
      "            console.log(\"[Amplitude] Error: could not load SDK\")}}\n",
      "        ;var i=t.getElementsByTagName(\"script\")[0];i.parentNode.insertBefore(r,i)\n",
      "        ;function s(e,t){e.prototype[t]=function(){\n",
      "            this._q.push([t].concat(Array.prototype.slice.call(arguments,0)));return this}}\n",
      "            var o=function(){this._q=[];return this}\n",
      "            ;var a=[\"add\",\"append\",\"clearAll\",\"prepend\",\"set\",\"setOnce\",\"unset\"]\n",
      "            ;for(var u=0;u<a.length;u++){s(o,a[u])}n.Identify=o;var c=function(){this._q=[]\n",
      "                ;return this}\n",
      "            ;var l=[\"setProductId\",\"setQuantity\",\"setPrice\",\"setRevenueType\",\"setEventProperties\"]\n",
      "            ;for(var p=0;p<l.length;p++){s(c,l[p])}n.Revenue=c\n",
      "            ;var d=[\"init\",\"logEvent\",\"logRevenue\",\"setUserId\",\"setUserProperties\",\"setOptOut\",\"setVersionName\",\"setDomain\",\"setDeviceId\",\"setGlobalUserProperties\",\"identify\",\"clearUserProperties\",\"setGroup\",\"logRevenueV2\",\"regenerateDeviceId\",\"groupIdentify\",\"logEventWithTimestamp\",\"logEventWithGroups\",\"setSessionId\",\"resetSessionId\"]\n",
      "            ;function v(e){function t(t){e[t]=function(){\n",
      "                e._q.push([t].concat(Array.prototype.slice.call(arguments,0)))}}\n",
      "                for(var n=0;n<d.length;n++){t(d[n])}}v(n);n.getInstance=function(e){\n",
      "                e=(!e||e.length===0?\"$default_instance\":e).toLowerCase()\n",
      "                ;if(!n._iq.hasOwnProperty(e)){n._iq[e]={_q:[]};v(n._iq[e])}return n._iq[e]}\n",
      "            ;e.amplitude=n})(window,document);\n",
      "\n",
      "        amplitude.getInstance().init('c790a5904bdc552ae4abc200f7067347', null, {\n",
      "            forceHttps : true,\n",
      "            includeUtm: true,\n",
      "            includeReferrer: true\n",
      "        });\n",
      "\n",
      "                                \n",
      "                                                    amplitude.getInstance().logEvent('/home', {\"language\":\"en_US\",\"segment\":\"default\",\"path\":\"\\/\"});\n",
      "                                        </script>\n",
      "\n",
      "        <meta property=\"fb:app_id\" content=\"372060966192875\">\n",
      "    <meta property=\"og:type\" content=\"article\">\n",
      "    <meta property=\"og:site_name\" content=\"WORKANA\">\n",
      "            <meta property=\"og:url\" content=\"https://www.workana.com/\">\n",
      "                <meta property=\"og:image\" content=\"https://wkncdn.com/newx/assets/build/img/share-fb-en.a01f9e555.png\">\n",
      "                <meta property=\"og:title\" content=\"Workana - Find Freelancers &amp; Freelance Jobs Online\">\n",
      "                <meta property=\"og:description\" content=\"Find Design, IT &amp; Programming, Marketing and Content freelancers and freelance jobs on the largest Latin American freelance network.\">\n",
      "        \n",
      "                \n",
      "\n",
      "                    <script type=\"text/javascript\">\n",
      "                !function(f,b,e,v,n,t,s){if(f.fbq)return;n=f.fbq=function(){n.callMethod?\n",
      "                    n.callMethod.apply(n,arguments):n.queue.push(arguments)};if(!f._fbq)f._fbq=n;\n",
      "                    n.push=n;n.loaded=!0;n.version='2.0';n.queue=[];t=b.createElement(e);t.async=!0;\n",
      "                    t.src=v;s=b.getElementsByTagName(e)[0];s.parentNode.insertBefore(t,s)}(window,\n",
      "                    document,'script','//connect.facebook.net/en_US/fbevents.js?v=2.9.29');\n",
      "\n",
      "                fbq('init', '723886130982526');\n",
      "\n",
      "                                                fbq('track', 'PageView');\n",
      "                                                \n",
      "            </script>\n",
      "            <noscript>\n",
      "                <img height=\"1\" width=\"1\" alt=\"\" style=\"display:none\" src=\"https://www.facebook.com/tr?id=723886130982526&ev=PageView&noscript=1\" />\n",
      "            </noscript>\n",
      "\n",
      "        \n",
      "    \n",
      "        <meta property=\"twitter:card\" content=\"summary_large_image\" />\n",
      "    <meta property=\"twitter:site\" content=\"@workana\" />\n",
      "\n",
      "            <meta property=\"twitter:title\" content=\"Develop your business with the best freelancers in the region!\" />\n",
      "    \n",
      "            <meta property=\"twitter:description\" content=\"Hundreds of independent entrepreneurs and freelancers are creating the great companies of the future on the first Latin American freelance network.\" />\n",
      "    \n",
      "            <meta property=\"twitter:image:src\" content=\"https://wkncdn.com/newx/assets/build/img/share-tw-es.9a44f0a56.png\" />\n",
      "    \n",
      "\n",
      "    <!-- HTML5 Shim and Respond.js IE8 support of HTML5 elements and media queries -->\n",
      "    <!--[if lt IE 9]>\n",
      "    <script src=\"https://wkncdn.com/newx/assets/js/default-v2/html5shiv-3.7.0.js\"></script>\n",
      "\t<script src=\"https://wkncdn.com/newx/assets/js/default-v2/respond.min-1.4.2.min.js\"></script>\n",
      "\n",
      "    <![endif]-->\n",
      "\n",
      "        <script type=\"text/javascript\" src=\"https://script.crazyegg.com/pages/scripts/0084/9551.js\" async=\"async\"></script>\n",
      "    \n",
      "    <script type=\"text/javascript\">\n",
      "        var Workana = {\"isMobile\":false,\"isTablet\":false,\"isDesktop\":true,\"ajaxCSRFHeaderKey\":\"X-Csrf-Token\",\"ajaxCSRFToken\":\"csrf60019ca273917\\/07a78fceccc09b590d81455aaba0be42\",\"disableNotify\":{\"all\":false,\"custom\":false,\"desktop\":false},\"webPushNotifications\":{\"applicationServerKey\":\"BI6E8pd2nHmHCzEDuSYcJ1PCZMUjNW0e2Y9L9q-Guf8QYUduXXHPQvL3rkcyX256P96jOhfqANRamuzJJyqPeq0\",\"subscribeUrl\":\"https:\\/\\/www.workana.com\\/web_push_notifications\\/subscribe\"},\"swDebug\":false,\"debug\":false,\"userId\":null,\"chatChannel\":null,\"notificationAudioUrl\":\"https:\\/\\/wkncdn.com\\/newx\\/assets\\/build\\/sounds\\/new.af210ab9e.mp3\",\"videoCallAudioUrl\":\"https:\\/\\/wkncdn.com\\/newx\\/assets\\/build\\/sounds\\/video-call.31283e802.mp3\",\"cdnBlankImage\":\"https:\\/\\/wkncdn.com\\/newx\\/assets\\/build\\/img\\/blank.e5634ce39.gif\",\"language\":\"en\",\"locale\":\"en_US\",\"chatEnabled\":false,\"freelancerCollectionsAddDialog\":{\"enabled\":true,\"endpoint\":\"https:\\/\\/www.workana.com\\/talent_pools\\/freelancer\\/choices\\/{freelancerHash}\"},\"amplitudeIsEnabled\":true};\n",
      "    </script>\n",
      "    <script>\n",
      "    if ('serviceWorker' in navigator) {\n",
      "        window.addEventListener('load', function () {\n",
      "            var language = Workana.language;\n",
      "            var platform = '';\n",
      "            var swDebug = Workana.swDebug;\n",
      "\n",
      "            try {\n",
      "                platform = localStorage.getItem('_$_workana_$_pwa_platform');\n",
      "            } catch(e) {\n",
      "                console.error(e);\n",
      "            }\n",
      "\n",
      "            var swUrl = '/sw.js?sentryUrl=' + encodeURIComponent(\"https://a5a7a84f4d654157bdbe12663489c1ff@reporting.workana.com/3\") + '&language=' + language + '&platform=' + platform + '&debug=' + swDebug;\n",
      ";\n",
      "            try {\n",
      "                navigator.serviceWorker.register(swUrl).then(function (registration) {\n",
      "                    // Registration was successful\n",
      "                    if (Workana) {\n",
      "                        Workana.swRegistration = registration;\n",
      "                        var notificationsSupport = ('Notification' in window);\n",
      "                        if (notificationsSupport && Notification.permission === \"granted\") {\n",
      "                            if (Workana.migrateWPN) {\n",
      "                                Workana.migrateWPN();\n",
      "                            }\n",
      "                        }\n",
      "                    }\n",
      "                }).catch(function(err) {\n",
      "                    console.error('SW failed to register', err);\n",
      "                });\n",
      "            } catch(e) {\n",
      "                console.error('SW failed to register Service Worker', e);\n",
      "            }\n",
      "\n",
      "        });\n",
      "    }\n",
      "    if (window.addEventListener) {\n",
      "        window.addEventListener('beforeinstallprompt', function (e) {\n",
      "            // beforeinstallprompt Event fired\n",
      "            e.userChoice.then(function (choiceResult) {\n",
      "                if (Workana && Workana.amplitudeIsEnabled) {\n",
      "                    amplitude.getInstance().logEvent('home_screen_install', {'outcome': choiceResult.outcome});\n",
      "                }\n",
      "            });\n",
      "        });\n",
      "    }\n",
      "</script>\n",
      "</head>\n",
      "\n",
      "<body>\n",
      "    <header class=\"home\">\n",
      "    <nav class=\"navbar navbar-inverse navbar-fixed-top\">\n",
      "        <div class=\"container\">\n",
      "            <div class=\"navbar-header\">\n",
      "                <button type=\"button\" class=\"navbar-toggle\" data-toggle=\"collapse\" data-target=\".navbar-inverse-collapse\">\n",
      "                    <span class=\"icon-bar\"></span>\n",
      "                    <span class=\"icon-bar\"></span>\n",
      "                    <span class=\"icon-bar\"></span>\n",
      "                </button>\n",
      "                <div class=\"signup-link visible-sm visible-xs\">\n",
      "                    <a href=\"/login?ref=home_header&r=%2F\" role=\"button\" title=\"Sign in\">Sign in</a>                </div>\n",
      "                <a\n",
      "    class=\"navbar-brand\"\n",
      "    data-cy=\"navbarLogoLink\"\n",
      "    href=\"https://www.workana.com/\"\n",
      "    title=\"Home\"\n",
      "    tabIndex =\"-1\">\n",
      "    <img\n",
      "        src=\"https://wkncdn.com/newx/assets/build/img/logos-v3/free_logo_en_US.2d25b226d.png?v=1\"\n",
      "        alt=\"Workana - Access the best talent in Latin America\"\n",
      "        class=\"hidden-xs hidden-sm hidden-md\"\n",
      "        width=\"130\"/>\n",
      "    <img\n",
      "        src=\"https://wkncdn.com/newx/assets/build/img/logos-v3/m_logo.41a18e128.png\"\n",
      "        alt=\"Workana - Access the best talent in Latin America\"\n",
      "        class=\"visible-xs-inline visible-sm-inline visible-md-inline\"\n",
      "        height=\"35\" />\n",
      "</a>\n",
      "            </div>\n",
      "            <div class=\"navbar-collapse collapse navbar-inverse-collapse navbar-loggedout js-header-menu\">\n",
      "    <ul class=\"nav navbar-nav main-menu\">\n",
      "                    <li>\n",
      "                <a href=\"https://www.workana.com/freelancers?ref=home_top_bar\" title=\"Freelancers\">Freelancers</a>            </li>\n",
      "                        <li>\n",
      "                <a href=\"https://www.workana.com/jobs?ref=home_top_bar\" title=\"Jobs\">Jobs</a>            </li>\n",
      "                        <li>\n",
      "                <a href=\"https://www.workana.com/how-it-works?ref=home_top_bar\" title=\"How it works\">How it works</a>            </li>\n",
      "            \n",
      "        <li class=\"visible-xs visible-sm\">\n",
      "            <a href=\"/signup?ref=home_top_bar\" role=\"button\" title=\"Register\" class=\"\">Register</a>        </li>\n",
      "\n",
      "        <div class=\"visible-xs visible-sm\">\n",
      "            <a href=\"/projects/add?ref=home_top_bar\" role=\"button\" title=\"Post a project\" class=\"btn btn-success btn-lg btn-block\">Post a project</a>        </div>\n",
      "    </ul>\n",
      "    <ul class=\"nav navbar-nav navbar-right loggedout-menu hidden-xs hidden-sm\">\n",
      "        <li>\n",
      "            <a href=\"/signup?ref=home_top_bar\" role=\"button\" title=\"Register\" class=\"\">Register</a>        </li>\n",
      "        <li>\n",
      "            <a href=\"/login?ref=home_top_bar&r=%2F\" role=\"button\" title=\"Sign in\" class=\"\" data-cy=\"signInButton\">Sign in</a>        </li>\n",
      "        <li>\n",
      "            <p class=\"navbar-btn\">\n",
      "                <a href=\"/projects/add?ref=home_top_bar\" role=\"button\" title=\"Post a project\" class=\"btn btn-success\" data-cy=\"postProjectButton\">Post a project</a>            </p>\n",
      "        </li>\n",
      "    </ul>\n",
      "</div>\n",
      "        </div>\n",
      "    </nav>\n",
      "</header>\n",
      "\n",
      "\n",
      "    <div id=\"wrapper\">\n",
      "            <header id=\"top\" class=\"carousel slide carousel-fade\" data-ride=\"carousel\">\n",
      "\n",
      "    <div class=\"carousel-inner\" role=\"listbox\">\n",
      "        <div class=\"item active\">\n",
      "            <div class=\"main-image\">\n",
      "\n",
      "                \n",
      "            <div class=\"alert alert-covid alert-dismissable row\">\n",
      "            <div class=\"col-md-11 col-xs-11\">\n",
      "                <h4>\n",
      "                    Do you need help adapting to and surviving Covid-19?\n",
      "                    <a\n",
      "                            href=\"https://go.workana.com/help-center-covid-19-en/\"\n",
      "                            target=\"_blank\">\n",
      "                        Don&#039;t paralyze your business.                    </a>\n",
      "\n",
      "                </h4>\n",
      "            </div>\n",
      "            <div class=\"col-md-1 col-xs-1\">\n",
      "                <button type=\"button\" data-dismiss=\"alert\" class=\"close\">×</button>\n",
      "            </div>\n",
      "        </div>\n",
      "    \n",
      "                <div class=\"container\"  data-cy=\"mainImageContainer\">\n",
      "                    <h1 class=\"animated fadeInUp\">Thousands of <span class=\"highlighted\">freelancers</span> are ready to start working on your project</h1>\n",
      "                    <span>\n",
      "                        <a href=\"/projects/add?ref=home_hero&from_home=1\" class=\"btn btn-success transitions animated fadeIn js-track-event js-track-create-project\" data-ga-category=\"Home\" data-ga-action=\"hero\" data-cy=\"postProjectCTA\" title=\"Post a project\">Post a project</a>                    </span>\n",
      "                    <span>\n",
      "                        <a href=\"/signup/w?ref=home_hero\" class=\"btn btn-link transitions animated fadeIn js-track-event js-track-work-as-freelancer\" data-ga-category=\"Home\" data-ga-action=\"hero\" data-cy=\"workAsFreelancerCTA\" title=\"Work as a Freelancer\">Work as a Freelancer</a>                    </span>\n",
      "                </div>\n",
      "            </div>\n",
      "        </div>\n",
      "    </div>\n",
      "</header>\n",
      "<section data-cy=\"howItWorksSection\" class=\"js-ua-desktop how-it-works\">\n",
      "    <div id=\"como-funciona\" class=\"container\">\n",
      "\n",
      "        <div class=\"h2\" data-cy=\"howItWorksTitle\">How does it work?</div>\n",
      "        <a href=\"https://www.workana.com/how-it-works?ref=from_home\" data-cy=\"howItWorksLink\" class=\"more link-blue\">Learn more</a>\n",
      "\n",
      "        <div class=\"row\" data-cy=\"howItWorksSteps\">\n",
      "            <div class=\"col-sm-3\">\n",
      "                <h4 class=\"h3\">Post</h4>\n",
      "                <p class=\"h4\">Describe the project. Specify the skills needed and scope. Posting is absolutely free.</p>\n",
      "            </div>\n",
      "            <div class=\"col-sm-3\">\n",
      "                <h4 class=\"h3\">Select</h4>\n",
      "                <p class=\"h4\">You'll immediately start receiving proposals from our qualified freelancers. Choose the best one for your project.</p>\n",
      "            </div>\n",
      "            <div class=\"col-sm-3\">\n",
      "                <h4 class=\"h3\">Get started</h4>\n",
      "                <p class=\"h4\">Make the full payment for the project to get it started. Workana holds the payment in escrow.</p>\n",
      "            </div>\n",
      "            <div class=\"col-sm-3\">\n",
      "                <h4 class=\"h3\">Accept</h4>\n",
      "                <p class=\"h4\">Accept the completed project. Release the funds to the freelancer.</p>\n",
      "            </div>\n",
      "        </div>\n",
      "\n",
      "        <div class=\"call-to-action\">\n",
      "                <a href=\"/projects/add?ref=home_how_works&from_home=1\" class=\"btn btn-success transitions js-track-event js-track-create-project\" role=\"button\" title=\"Post a project\" data-cy=\"postProjectCTA\" data-ga-category=\"Home\" data-ga-action=\"how-it-works\" data-ga-label=\"project-add\">Post a project</a>                <a href=\"/signup/w?ref=home_how_works\" class=\"link-blue transitions js-track-event js-track-work-as-freelancer\" role=\"button\" title=\"Work as a Freelancer\" data-cy=\"workAsFreelancerCTA\" data-ga-category=\"Home\" data-ga-action=\"how-it-works\" data-ga-label=\"worker-signup\">Work as a Freelancer</a>        </div>\n",
      "\n",
      "    </div>\n",
      "</section>\n",
      "<section class=\"goals js-ua-desktop\" data-cy=\"goalsSection\">\n",
      "    <div id=\"tus-ideas\" class=\"container\">\n",
      "        <div class=\"h2\">Turn your ideas into action today</div>\n",
      "        <div class=\"row\">\n",
      "\n",
      "                        <div class=\"col-sm-6 col-md-4\">\n",
      "                    <article data-cy=\"goalsArticle\">\n",
      "                        <a href=\"https://www.workana.com/projects/add?mainSkill=it-programming&tpl_subcategory=web-development&ref=home_goals&from_home=1\">\n",
      "                            <img src=\"https://wkncdn.com/newx/assets/build/img/home/achieve-your-goals/web-design.a985586c7.png\" alt=\"A new look for your website\" class=\"hidden-xs\">\n",
      "                            <h4 class=\"h3\">\n",
      "                                A new look for your website                                <i class=\"icon-right\"></i>\n",
      "                            </h4>\n",
      "                        </a>\n",
      "                        <p>Make it mobile-ready and better optimised to drive sales.</p>\n",
      "                    </article>\n",
      "            </div>\n",
      "                        <div class=\"col-sm-6 col-md-4\">\n",
      "                    <article data-cy=\"goalsArticle\">\n",
      "                        <a href=\"https://www.workana.com/projects/add?mainSkill=it-programming&tpl_subcategory=mobile-development&ref=home_goals&from_home=1\">\n",
      "                            <img src=\"https://wkncdn.com/newx/assets/build/img/home/achieve-your-goals/app-mobile.3ad18bb82.png\" alt=\"Launch your mobile app\" class=\"hidden-xs\">\n",
      "                            <h4 class=\"h3\">\n",
      "                                Launch your mobile app                                <i class=\"icon-right\"></i>\n",
      "                            </h4>\n",
      "                        </a>\n",
      "                        <p>Engage audiences in new ways with an iOS and Android app.</p>\n",
      "                    </article>\n",
      "            </div>\n",
      "                        <div class=\"col-sm-6 col-md-4\">\n",
      "                    <article data-cy=\"goalsArticle\">\n",
      "                        <a href=\"https://www.workana.com/projects/add?mainSkill=design-multimedia&tpl_subcategory=&ref=home_goals&from_home=1\">\n",
      "                            <img src=\"https://wkncdn.com/newx/assets/build/img/home/achieve-your-goals/graphic-design.a9c1e5e91.png\" alt=\"Amazing designers\" class=\"hidden-xs\">\n",
      "                            <h4 class=\"h3\">\n",
      "                                Amazing designers                                <i class=\"icon-right\"></i>\n",
      "                            </h4>\n",
      "                        </a>\n",
      "                        <p>Make your brand stand out from the crowd!</p>\n",
      "                    </article>\n",
      "            </div>\n",
      "                        <div class=\"col-sm-6 col-md-4\">\n",
      "                    <article data-cy=\"goalsArticle\">\n",
      "                        <a href=\"https://www.workana.com/projects/add?mainSkill=writing-translation&tpl_subcategory=&ref=home_goals&from_home=1\">\n",
      "                            <img src=\"https://wkncdn.com/newx/assets/build/img/home/achieve-your-goals/translations.61cbcadeb.png\" alt=\"Copywriters and Translators\" class=\"hidden-xs\">\n",
      "                            <h4 class=\"h3\">\n",
      "                                Copywriters and Translators                                <i class=\"icon-right\"></i>\n",
      "                            </h4>\n",
      "                        </a>\n",
      "                        <p>Content sells! Have it created or translated. Explore new markets.</p>\n",
      "                    </article>\n",
      "            </div>\n",
      "                        <div class=\"col-sm-6 col-md-4\">\n",
      "                    <article data-cy=\"goalsArticle\">\n",
      "                        <a href=\"https://www.workana.com/projects/add?mainSkill=sales-marketing&tpl_subcategory=&ref=home_goals&from_home=1\">\n",
      "                            <img src=\"https://wkncdn.com/newx/assets/build/img/home/achieve-your-goals/marketing.0fa70919a.png\" alt=\"Marketing and Sales Experts\" class=\"hidden-xs\">\n",
      "                            <h4 class=\"h3\">\n",
      "                                Marketing and Sales Experts                                <i class=\"icon-right\"></i>\n",
      "                            </h4>\n",
      "                        </a>\n",
      "                        <p>Reach out to the right audiences via online advertising, social media, email marketing and other platforms.</p>\n",
      "                    </article>\n",
      "            </div>\n",
      "                        <div class=\"col-sm-6 col-md-4\">\n",
      "                    <article data-cy=\"goalsArticle\">\n",
      "                        <a href=\"https://www.workana.com/projects/add?ref=home_goals&from_home=1\">\n",
      "                            <img src=\"https://wkncdn.com/newx/assets/build/img/home/achieve-your-goals/and-more.b448b5be5.png\" alt=\"...and many more!\" class=\"hidden-xs\">\n",
      "                            <h4 class=\"h3\">\n",
      "                                ...and many more!                                <i class=\"icon-right\"></i>\n",
      "                            </h4>\n",
      "                        </a>\n",
      "                        <p>Financial consultants, video editors, legal advisors, virtual assistants. Everything you need to make your business thrive and grow is right here.</p>\n",
      "                    </article>\n",
      "            </div>\n",
      "                    </div>\n",
      "    </div>\n",
      "</section>\n",
      "<section class=\"enterprise js-ua-desktop\"\n",
      "         data-cy=\"enterpriseSection\">\n",
      "    <div class=\"container\">\n",
      "        <h1 class=\"h2\" data-cy=\"enterpriseTitle\">Workana for Companies</p>\n",
      "        <p class=\"h3\" data-cy=\"enterpriseSubtitle\">\n",
      "            Find out how your company can do more with freelance talent.        </p>\n",
      "                <a href=\"https://www.workana.com/enterprise?ref=enterprise_home_banner\" class=\"btn btn-lg btn-violet\">\n",
      "            Find out        </a>\n",
      "    </div>\n",
      "</section>\n",
      "<section class=\"enterprise-companies js-ua-desktop\"\n",
      "         data-cy=\"enterpriseCompaniesSection\">\n",
      "    <div class=\"container\">\n",
      "        <p class=\"h3 text-center\" data-cy=\"enterpriseCompaniesTitle\">\n",
      "            Companies that are being empowered by us        </p>\n",
      "        <ul class=\"list-unstyled list-inline\" data-cy=\"enterpriseCompaniesItems\">\n",
      "                        <li>\n",
      "                <img src=\"https://wkncdn.com/newx/assets/build/img/enterprise/logo-uber.7747ca975.jpg\" alt=\"Uber\">\n",
      "            </li>\n",
      "                        <li>\n",
      "                <img src=\"https://wkncdn.com/newx/assets/build/img/enterprise/logo-unilever.5b67c3070.jpg\" alt=\"Unilever\">\n",
      "            </li>\n",
      "                        <li>\n",
      "                <img src=\"https://wkncdn.com/newx/assets/build/img/enterprise/logo-ambev.09e66396e.jpg\" alt=\"Ambev\">\n",
      "            </li>\n",
      "                    </ul>\n",
      "    </div>\n",
      "</section>\n",
      "<section id=\"quotes\" data-cy=\"quotesSection\" class=\"quotes js-ua-desktop\">\n",
      "            <div class=\"h2\" data-cy=\"quotesTitle\">Find out how these entrepreneurs are developing innovative products and services.</div>\n",
      "        <div id=\"quotes-carousel\" class=\"carousel slide carousel-fade\" data-ride=\"carousel\">\n",
      "        <ol class=\"carousel-indicators\">\n",
      "                            <li data-target=\"#quotes-carousel\" data-slide-to=\"0\" class=\"active\">\n",
      "                    Educatemia (AR)                </li>\n",
      "                            <li data-target=\"#quotes-carousel\" data-slide-to=\"1\" class=\"\">\n",
      "                    Zenteno y asoc. (MX)                </li>\n",
      "                            <li data-target=\"#quotes-carousel\" data-slide-to=\"2\" class=\"\">\n",
      "                    Mister Salad (BR)                </li>\n",
      "                            <li data-target=\"#quotes-carousel\" data-slide-to=\"3\" class=\"\">\n",
      "                    Dakve                </li>\n",
      "                    </ol>\n",
      "        <div class=\"carousel-inner\" role=\"listbox\">\n",
      "                            <div class=\"item active\">\n",
      "                    <div class=\"container\">\n",
      "                        <article>\n",
      "                            <blockquote class=\"h3\">\n",
      "                                <i>Thanks to Workana, we have achieved incredible short-term results without having to hire an in-house professional or invest in training.</i>\n",
      "                            </blockquote>\n",
      "                            <h4>\n",
      "                                <span>Juan Martitegui</span>\n",
      "                                <span>- Founder and CEO</span>\n",
      "                            </h4>\n",
      "                            <figure>\n",
      "                                <img class=\"img-responsive\" src=\"https://wkncdn.com/newx/assets/build/img/home/quotes/logo-educatemia.2fec30a29.png\" alt=\"Juan Martitegui\"/>\n",
      "                            </figure>\n",
      "                         </article>\n",
      "                     </div>\n",
      "                </div>\n",
      "                            <div class=\"item \">\n",
      "                    <div class=\"container\">\n",
      "                        <article>\n",
      "                            <blockquote class=\"h3\">\n",
      "                                <i>Workana became an invaluable tool for hiring professionals in my company. Without a doubt, it is the largest freelance talent market in Latin America, and it is also in Spanish!</i>\n",
      "                            </blockquote>\n",
      "                            <h4>\n",
      "                                <span>Daniel Jimenez</span>\n",
      "                                <span></span>\n",
      "                            </h4>\n",
      "                            <figure>\n",
      "                                <img class=\"img-responsive\" src=\"https://wkncdn.com/newx/assets/build/img/home/quotes/logo-zentenoshop.e2d43d0e9.png\" alt=\"Daniel Jimenez\"/>\n",
      "                            </figure>\n",
      "                         </article>\n",
      "                     </div>\n",
      "                </div>\n",
      "                            <div class=\"item \">\n",
      "                    <div class=\"container\">\n",
      "                        <article>\n",
      "                            <blockquote class=\"h3\">\n",
      "                                <i>With Workana, I can hire several freelancers at the same time to avoid delays, and the results have been great. I’ve experienced some issues of course, but I have complete autonomy to solve them and move forward with a new professional.</i>\n",
      "                            </blockquote>\n",
      "                            <h4>\n",
      "                                <span>Cleiton Mendonça</span>\n",
      "                                <span></span>\n",
      "                            </h4>\n",
      "                            <figure>\n",
      "                                <img class=\"img-responsive\" src=\"https://wkncdn.com/newx/assets/build/img/home/quotes/logo-mistersalad.b48d359c5.png\" alt=\"Cleiton Mendonça\"/>\n",
      "                            </figure>\n",
      "                         </article>\n",
      "                     </div>\n",
      "                </div>\n",
      "                            <div class=\"item \">\n",
      "                    <div class=\"container\">\n",
      "                        <article>\n",
      "                            <blockquote class=\"h3\">\n",
      "                                <i>Workana has facilitated the development of many projects. Without this tool, we would not have achieved in time, form and cost what we have been able to achieve.</i>\n",
      "                            </blockquote>\n",
      "                            <h4>\n",
      "                                <span>Daniel Venegas (MX)</span>\n",
      "                                <span></span>\n",
      "                            </h4>\n",
      "                            <figure>\n",
      "                                <img class=\"img-responsive\" src=\"https://wkncdn.com/newx/assets/build/img/home/quotes/logo-davke.a14f13319.png\" alt=\"Daniel Venegas (MX)\"/>\n",
      "                            </figure>\n",
      "                         </article>\n",
      "                     </div>\n",
      "                </div>\n",
      "                    </div>\n",
      "    </div>\n",
      "</section>\n",
      "\n",
      "<section id=\"skill-list\" data-cy=\"skillListSection\" class=\"skill-list js-ua-desktop\">\n",
      "    <div class=\"container\">\n",
      "        <h2 data-cy=\"skillListTitle\">Our freelancers’ top skills</h2>\n",
      "        <div class=\"row\">\n",
      "                            <div class=\"col-xs-6 col-sm-6 col-md-3\" data-cy=\"topSkillsColumn\">\n",
      "                    <ul>\n",
      "                                                    <li>\n",
      "                                <a href=\"https://www.workana.com/hire/internet-marketing\">Digital marketing analyst</a>\n",
      "                            </li>\n",
      "                                                    <li>\n",
      "                                <a href=\"https://www.workana.com/hire/community-management-1\">Community manager</a>\n",
      "                            </li>\n",
      "                                                    <li>\n",
      "                                <a href=\"https://www.workana.com/hire/google-adwords\">Google AdWords Expert</a>\n",
      "                            </li>\n",
      "                                                    <li>\n",
      "                                <a href=\"https://www.workana.com/hire/customer-service\">Customer Service Expert</a>\n",
      "                            </li>\n",
      "                                                    <li>\n",
      "                                <a href=\"https://www.workana.com/hire/virtual-assistant\">Virtual assistant</a>\n",
      "                            </li>\n",
      "                                                    <li>\n",
      "                                <a href=\"https://www.workana.com/hire/data-entry\">Data entry specialist</a>\n",
      "                            </li>\n",
      "                                                    <li>\n",
      "                                <a href=\"https://www.workana.com/hire/accounting\">Accounting analyst</a>\n",
      "                            </li>\n",
      "                                            </ul>\n",
      "                </div>\n",
      "                            <div class=\"col-xs-6 col-sm-6 col-md-3\" data-cy=\"topSkillsColumn\">\n",
      "                    <ul>\n",
      "                                                    <li>\n",
      "                                <a href=\"https://www.workana.com/hire/seo-1\">SEO consultant</a>\n",
      "                            </li>\n",
      "                                                    <li>\n",
      "                                <a href=\"https://www.workana.com/hire/logo-design-1\">Logo designer</a>\n",
      "                            </li>\n",
      "                                                    <li>\n",
      "                                <a href=\"https://www.workana.com/hire/graphic-design\">Graphic designer</a>\n",
      "                            </li>\n",
      "                                                    <li>\n",
      "                                <a href=\"https://www.workana.com/hire/web-design-2\">Web designer</a>\n",
      "                            </li>\n",
      "                                                    <li>\n",
      "                                <a href=\"https://www.workana.com/hire/user-interface\">UI designer</a>\n",
      "                            </li>\n",
      "                                                    <li>\n",
      "                                <a href=\"https://www.workana.com/hire/user-experience-design\">UX designer</a>\n",
      "                            </li>\n",
      "                                                    <li>\n",
      "                                <a href=\"https://www.workana.com/hire/autocad\">AutoCAD Expert</a>\n",
      "                            </li>\n",
      "                                            </ul>\n",
      "                </div>\n",
      "                            <div class=\"col-xs-6 col-sm-6 col-md-3\" data-cy=\"topSkillsColumn\">\n",
      "                    <ul>\n",
      "                                                    <li>\n",
      "                                <a href=\"https://www.workana.com/hire/css\">CSS developer</a>\n",
      "                            </li>\n",
      "                                                    <li>\n",
      "                                <a href=\"https://www.workana.com/hire/android\">Android Developer</a>\n",
      "                            </li>\n",
      "                                                    <li>\n",
      "                                <a href=\"https://www.workana.com/hire/ios\">IOS Developer</a>\n",
      "                            </li>\n",
      "                                                    <li>\n",
      "                                <a href=\"https://www.workana.com/hire/java\">Java Developer</a>\n",
      "                            </li>\n",
      "                                                    <li>\n",
      "                                <a href=\"https://www.workana.com/hire/php\">PHP Developer</a>\n",
      "                            </li>\n",
      "                                                    <li>\n",
      "                                <a href=\"https://www.workana.com/hire/python\">Python Developer</a>\n",
      "                            </li>\n",
      "                                                    <li>\n",
      "                                <a href=\"https://www.workana.com/hire/wordpress\">WordPress Developer</a>\n",
      "                            </li>\n",
      "                                            </ul>\n",
      "                </div>\n",
      "                            <div class=\"col-xs-6 col-sm-6 col-md-3\" data-cy=\"topSkillsColumn\">\n",
      "                    <ul>\n",
      "                                                    <li>\n",
      "                                <a href=\"https://www.workana.com/hire/article-writing\">Article writer</a>\n",
      "                            </li>\n",
      "                                                    <li>\n",
      "                                <a href=\"https://www.workana.com/hire/transcription\">Transcriber</a>\n",
      "                            </li>\n",
      "                                                    <li>\n",
      "                                <a href=\"https://www.workana.com/hire/voice-talent\">Announcer</a>\n",
      "                            </li>\n",
      "                                                    <li>\n",
      "                                <a href=\"https://www.workana.com/hire/spanish-translation\">English-Spanish translator</a>\n",
      "                            </li>\n",
      "                                                    <li>\n",
      "                                <a href=\"https://www.workana.com/hire/english-translation\">English-Spanish translator</a>\n",
      "                            </li>\n",
      "                                                    <li>\n",
      "                                <a href=\"https://www.workana.com/hire/portuguese-translation\">Spanish-Portuguese translator</a>\n",
      "                            </li>\n",
      "                                            </ul>\n",
      "                </div>\n",
      "                    </div>\n",
      "        <a class=\"more link-blue\" href=\"https://www.workana.com/hire/?ref=home_hire\">Explore</a>\n",
      "    </div>\n",
      "</section>\n",
      "<section id=\"press\" data-cy=\"pressSection\" class=\"press js-ua-desktop\">\n",
      "    <div class=\"container\">\n",
      "        <h2 data-cy=\"pressTitle\">The world believes in freelancing.</h2>\n",
      "        <div class=\"row\" data-cy=\"pressArticles\">\n",
      "            <article class=\"col-xs-4\">\n",
      "                <a href=\"https://www.forbes.com.mx/31-startups-con-las-que-google-quiere-transformar-al-mundo/\" title=\"31 start-ups that have what it takes to change the world with Google\" target=\"_blank\">\n",
      "                    <img class=\"img-responsive\" src=\"https://wkncdn.com/newx/assets/build/img/home/press/logo-forbes.b952ea4f7.jpg\" alt=\"Forbes\"/>\n",
      "                    <p class=\"h3\">31 start-ups that have what it takes to change the world with Google</p>\n",
      "                    <p class=\"link-blue\" data-cy=\"readMore\">Read more</p>\n",
      "                </a>\n",
      "            </article>\n",
      "            <article class=\"col-xs-4\">\n",
      "                <a href=\"http://www.lanacion.com.ar/1943669-cuanto-vale-la-hora-de-trabajo-de-los-freelancers\" title=\"How much to charge as a freelancer\" target=\"_blank\">\n",
      "                    <img class=\"img-responsive\" src=\"https://wkncdn.com/newx/assets/build/img/home/press/logo-lanacion.45a28aa2a.jpg\" alt=\"La Nación\" />\n",
      "                    <p class=\"h3\">How much to charge as a freelancer</p>\n",
      "                    <p class=\"link-blue\" data-cy=\"readMore\">Read more</p>\n",
      "                </a>\n",
      "            </article>\n",
      "            <article class=\"col-xs-4\">\n",
      "                <a href=\"https://techcrunch.com/2016/05/14/what-startups-are-saying-about-raising-cash-in-latin-america/\" title=\"What startups are saying about raising cash in Latin America\" target=\"_blank\">\n",
      "                    <img class=\"img-responsive\" src=\"https://wkncdn.com/newx/assets/build/img/home/press/logo-techcrunch.191f10680.jpg\" alt=\"TechCrunch\" />\n",
      "                    <p class=\"h3\">What startups are saying about raising cash in Latin America</p>\n",
      "                    <p class=\"link-blue\" data-cy=\"readMore\">Read more</p>\n",
      "                </a>\n",
      "            </article>\n",
      "        </div>\n",
      "                        <a href=\"https://www.workana.com/en/press\" title=\"Go to press\" target=\"_blank\" class=\"btn btn-primary\" data-cy=\"pressCTA\" rel=\"noopener\">Go to press</a>            </div>\n",
      "</section>\n",
      "    <section id=\"tu-negocio\" data-cy=\"businessSection\" class=\"business container js-ua-desktop\">\n",
      "    <div class=\"h2\" data-cy=\"businessTitle\">What can you do with Workana?</div>\n",
      "    <div class=\"row\">\n",
      "        <div class=\"col-sm-6\">\n",
      "            <article class=\"client\" data-cy=\"businessItem\">\n",
      "                <img class=\"img-responsive\" src=\"https://wkncdn.com/newx/assets/build/img/home/business/background-client.8b52d2efb.png\" alt=\"Post a project\" />\n",
      "                <h3>Find the perfect freelancer</h3>\n",
      "                <p class=\"h4\">Is it your first time on Workana? See how to post a job and access proposals from freelancers to put your ideas to work.</p>\n",
      "                <a href=\"/projects/add?ref=home_start_business&from_home=1\" class=\"btn btn-success js-track-event\" title=\"Post a project\" data-ga-category=\"Home\" data-ga-action=\"your-business\" data-ga-label=\"get-started-1\">Post a project</a>            </article>\n",
      "        </div>\n",
      "        <div class=\"col-sm-6\">\n",
      "            <article class=\"freelancer\" data-cy=\"businessItem\">\n",
      "                <img class=\"img-responsive\" src=\"https://wkncdn.com/newx/assets/build/img/home/business/background-freelancer.5bc5c6c97.png\" alt=\"Work as a Freelancer\" />\n",
      "                <h3>Start working as a freelancer today</h3>\n",
      "                <p class=\"h4\">Are you a freelancer? At Workana you can choose from hundreds of projects to add to your workload from wherever you are.</p>\n",
      "                <a href=\"/signup/w?ref=home_start_business\" class=\"btn btn-primary js-track-event\" title=\"Work as a Freelancer\" data-ga-category=\"Home\" data-ga-action=\"your-business\" data-ga-label=\"get-started-1\">Work as a Freelancer</a>            </article>\n",
      "        </div>\n",
      "    </div>\n",
      "</section>\n",
      "\n",
      "\n",
      "        <section class=\"footer-counter\" data-cy=\"footerCounterSection\">\n",
      "    <div class=\"container\">\n",
      "        <div class=\"row datos\">\n",
      "            <div class=\"col-md-6 col-sm-12\">\n",
      "                <div class=\"row\">\n",
      "                    <div class=\"col-sm-4 numbers\" data-cy=\"counterItem\">\n",
      "                        <p class=\"contador\" data-count=\"2575457\">0</p>\n",
      "                        <span>freelancers</span>\n",
      "                    </div>\n",
      "                    <div class=\"col-sm-4 numbers\" data-cy=\"counterItem\">\n",
      "                        <p class=\"contador\" data-count=\"30337\">0</p>\n",
      "                        <span>Monthly Projects</span>\n",
      "                    </div>\n",
      "                    <div class=\"col-sm-4 numbers\" data-cy=\"counterItem\">\n",
      "                        <p class=\"contador\" data-count=\"33768\">0</p>\n",
      "                        <span>users online</span>\n",
      "                    </div>\n",
      "                </div>\n",
      "            </div>\n",
      "            <div class=\"col-md-6 col-sm-12 footer-call\"\">\n",
      "\n",
      "                <div class=\"row\">\n",
      "                    <div class=\"col-md-6 col-xs-6\">\n",
      "                        <a href=\"/projects/add?ref=home_footer\" class=\"btn btn-success btn-block transitions js-track-event\" role=\"button\" data-ga-category=\"Home\" data-ga-action=\"your-business\" data-ga-label=\"projects-add\" data-cy=\"postProjectCTA\">Create a project</a>                    </div>\n",
      "                    <div class=\"col-md-6 col-xs-6\">\n",
      "                        <a href=\"/signup/w?ref=home_footer\" class=\"btn btn-primary btn-block transitions js-track-event\" role=\"button\" title=\"Work as a Freelancer\" data-ga-category=\"Home\" data-ga-action=\"your-business\" data-ga-label=\"workers-signup\" data-cy=\"workAsFreelancerCTA\">Work as a Freelancer</a>                    </div>\n",
      "                </div>\n",
      "\n",
      "            </div>\n",
      "        </div>\n",
      "    </div>\n",
      "</section>\n",
      "\n",
      "<footer class=\"footer\">\n",
      "    <div class=\"container\">\n",
      "\n",
      "    <div class=\"row row-condensed footer__copy\">\n",
      "        <div class=\"col-lg-6 col-xs-12 col-sm-6 col-full-left\">\n",
      "            <p>\n",
      "                <a href=\"/dashboard\">\n",
      "                    <img src=\"https://wkncdn.com/newx/assets/build/img/logos-v3/workana_footer.9e32f4d83.png\" alt=\"Workana\" width=\"142\">\n",
      "                </a>\n",
      "            </p>\n",
      "            &copy; 2012 - 2021 | Workana LLC - All rights reserved        </div>\n",
      "        <div class=\"col-lg-6 col-xs-12 col-sm-6 text-right\">\n",
      "            <div class=\"dropdown language-switch\">\n",
      "    <a class=\"dropdown-toggle dropdown-toggle\"\n",
      "       type=\"button\"\n",
      "       role=\"button\"\n",
      "       data-toggle=\"dropdown\"\n",
      "       aria-haspopup=\"true\"\n",
      "       aria-expanded=\"false\"\n",
      "       id=\"language-home\"\n",
      "       href=\"#\">English <b class=\"caret\"></b></a>\n",
      "    <ul class=\"dropdown-menu\" role=\"menu\" aria-labelledby=\"language-home\">\n",
      "                    <li role=\"presentation\">\n",
      "                            <li role=\"presentation\">\n",
      "                                <a href=\"https://www.workana.com/es\" role=\"menuitem\" tabindex=\"-1\">Español</a>            </li>\n",
      "                    <li role=\"presentation\">\n",
      "                                <a href=\"https://www.workana.com/pt\" role=\"menuitem\" tabindex=\"-1\">Português</a>            </li>\n",
      "            </ul>\n",
      "</div>\n",
      "            <div class=\"footer__social-icons\">\n",
      "                \n",
      "                                    <a href=\"http://instagram.com/workanafreelance\" target=\"_blank\" rel=\"noopener\" title=\"Follow us on Instagram\">\n",
      "                        <span class=\"icon-instagram\"></span>\n",
      "                    </a>\n",
      "                \n",
      "                                    <a href=\"https://www.facebook.com/workanafreelance\" target=\"_blank\" rel=\"noopener\" title=\"Follow us on Facebook\">\n",
      "                        <span class=\"icon-facebook\"></span>\n",
      "                    </a>\n",
      "                \n",
      "                                    <a href=\"https://twitter.com/workana_en\" target=\"_blank\" rel=\"noopener\" title=\"Follow us on Twitter\">\n",
      "                        <span class=\"icon-twitter-b\"></span>\n",
      "                    </a>\n",
      "                \n",
      "                                    <a href=\"https://www.linkedin.com/company/workana/\" target=\"_blank\" rel=\"noopener\" title=\"Follow us on Linkedin\">\n",
      "                        <span class=\"icon-linkedin\"></span>\n",
      "                    </a>\n",
      "                            </div>\n",
      "        </div>\n",
      "    </div>\n",
      "\n",
      "    <div class=\"row footer__links\">\n",
      "        <ul class=\"col-md-3 col-sm-3 col-xs-12 list-unstyled pull-left\">\n",
      "            <li class=\"hidden-xs\"><strong>Who are we?</strong></li>\n",
      "\n",
      "            <li>\n",
      "                <a href=\"/about\" title=\"About us\">About us</a>            </li>\n",
      "\n",
      "            <li>\n",
      "                <a href=\"/hiring\" title=\"Join the Workana team\">Join the Workana team</a>            </li>\n",
      "\n",
      "            <li>\n",
      "                <a href=\"/contact\" title=\"Contact us\">Contact us</a>            </li>\n",
      "\n",
      "                            <li>\n",
      "                    <a href=\"https://blog.workana.com/en/\" title=\"Blog\" target=\"_blank\" rel=\"noopener\">Blog</a>                </li>\n",
      "                                        <li>\n",
      "                    <a href=\"https://www.workana.com/i/glossary/\" title=\"Glossary\" target=\"_blank\" rel=\"noopener\">Glossary</a>                </li>\n",
      "                                        <li>\n",
      "                    <a href=\"https://help.workana.com/hc/en-us/articles/360040841214-workana-policies\" title=\"Workana Policies\" target=\"_blank\" rel=\"noopener\">Workana Policies</a>                </li>\n",
      "                                        <li>\n",
      "                    <a href=\"https://help.workana.com/hc/en-us/articles/360041613914-privacy-policies\" title=\"Privacy Policy\" target=\"_blank\" rel=\"noopener\">Privacy Policy</a>                </li>\n",
      "                                        <li>\n",
      "                    <a href=\"https://help.workana.com/hc/en-us/articles/360041499974-WORKANA-TERMS-AND-CONDITIONS\" title=\"Terms of Service\" target=\"_blank\" rel=\"noopener\">Terms of Service</a>                </li>\n",
      "                    </ul>\n",
      "\n",
      "        <ul class=\"col-md-3 col-sm-3 col-xs-12 hidden-xs hidden-sm list-unstyled pull-left\">\n",
      "            <li><strong>Resources</strong></li>\n",
      "                            <li>\n",
      "                    <a href=\"https://help.workana.com/hc/en-us\" title=\"Help Center\" target=\"_blank\" rel=\"noopener\">Help Center</a>                </li>\n",
      "                        <li>\n",
      "                <a href=\"https://www.workana.com/how-it-works\" title=\"How it works\">How it works</a>            </li>\n",
      "\n",
      "                        <li>\n",
      "                <a href=\"/plans?ref=home_footer\" title=\"Membership Plans\">Membership Plans</a>            </li>\n",
      "                            <li>\n",
      "                    <a href=\"https://www.workana.com/en/press\" title=\"Press\" target=\"_blank\" rel=\"noopener\">Press</a>                </li>\n",
      "                                    \n",
      "                    <li>\n",
      "                        <a href=\"/time-report\" title=\"Workana Time Report\">Workana Time Report</a>                    </li>\n",
      "                    <li>\n",
      "                        <a href=\"/sitemap\" title=\"Sitemap\">Sitemap</a>                    </li>\n",
      "                </ul>\n",
      "\n",
      "        <ul class=\"col-md-3 col-sm-3 col-xs-12 hidden-xs list-unstyled pull-left\">\n",
      "            <li><strong>Find work</strong></li>\n",
      "                            <li>\n",
      "                    <a href=\"/jobs?category=it-programming\" title=\"IT &amp; Programming\">IT &amp; Programming</a>                </li>\n",
      "                            <li>\n",
      "                    <a href=\"/jobs?category=design-multimedia\" title=\"Design &amp; Multimedia\">Design &amp; Multimedia</a>                </li>\n",
      "                            <li>\n",
      "                    <a href=\"/jobs?category=writing-translation\" title=\"Writing &amp; Translation\">Writing &amp; Translation</a>                </li>\n",
      "                            <li>\n",
      "                    <a href=\"/jobs?category=sales-marketing\" title=\"Sales &amp; Marketing\">Sales &amp; Marketing</a>                </li>\n",
      "                            <li>\n",
      "                    <a href=\"/jobs?category=admin-support\" title=\"Admin Support\">Admin Support</a>                </li>\n",
      "                            <li>\n",
      "                    <a href=\"/jobs?category=legal\" title=\"Legal\">Legal</a>                </li>\n",
      "                            <li>\n",
      "                    <a href=\"/jobs?category=finance-management\" title=\"Finance &amp; Management\">Finance &amp; Management</a>                </li>\n",
      "                            <li>\n",
      "                    <a href=\"/jobs?category=engineering-manufacturing\" title=\"Engineering &amp; Manufacturing\">Engineering &amp; Manufacturing</a>                </li>\n",
      "                    </ul>\n",
      "\n",
      "        <ul class=\"col-md-3 col-sm-3 col-xs-12 hidden-xs list-unstyled pull-left col-full-right\">\n",
      "            <li><strong>Freelancers</strong></li>\n",
      "                            <li>\n",
      "                    <a href=\"/freelancers/malaysia\" title=\"Freelancers Malaysia\">Freelancers Malaysia</a>                </li>\n",
      "                            <li>\n",
      "                    <a href=\"/freelancers/singapore\" title=\"Freelancers Singapore\">Freelancers Singapore</a>                </li>\n",
      "                            <li>\n",
      "                    <a href=\"/freelancers/hong-kong\" title=\"Freelancers Hong Kong\">Freelancers Hong Kong</a>                </li>\n",
      "                            <li>\n",
      "                    <a href=\"/freelancers/indonesia\" title=\"Freelancers Indonesia\">Freelancers Indonesia</a>                </li>\n",
      "                            <li>\n",
      "                    <a href=\"/freelancers/philippines\" title=\"Freelancers Philippines\">Freelancers Philippines</a>                </li>\n",
      "                    </ul>\n",
      "\n",
      "        <ul class=\"col-md-3 col-sm-3 col-xs-12 hidden-xs list-unstyled pull-left col-full-right\">\n",
      "            <li><strong>International partners</strong></li>\n",
      "            <input class=\"list-expandable-toggle\" type=\"checkbox\" name=\"partnersListExpandable\" id=\"partnersListExpandable\">\n",
      "            <span class=\"list-expandable\">\n",
      "                                    <li >\n",
      "                        <a href=\"https://www.bdjobs.com\" target=\"_blank\" rel=\"noopener\">Bdjobs (Bangladesh)</a>                    </li>\n",
      "                                    <li >\n",
      "                        <a href=\"https://www.catho.com.br\" target=\"_blank\" rel=\"noopener\">Catho (Brazil)</a>                    </li>\n",
      "                                    <li >\n",
      "                        <a href=\"https://www.jobberman.com\" target=\"_blank\" rel=\"noopener\">Jobberman (West Africa)</a>                    </li>\n",
      "                                    <li >\n",
      "                        <a href=\"http://www.jobsdb.com\" target=\"_blank\" rel=\"noopener\">jobsDB (S.E. Asia)</a>                    </li>\n",
      "                                    <li >\n",
      "                        <a href=\"https://www.jobstreet.com\" target=\"_blank\" rel=\"noopener\">JobStreet (S.E. Asia)</a>                    </li>\n",
      "                                    <li >\n",
      "                        <a href=\"https://www.jora.com\" target=\"_blank\" rel=\"noopener\">Jora (Worldwide)</a>                    </li>\n",
      "                                    <li >\n",
      "                        <a href=\"https://www.manager.com.br\" target=\"_blank\" rel=\"noopener\">Manager (Brazil)</a>                    </li>\n",
      "                                    <li >\n",
      "                        <a href=\"https://www.occ.com.mx\" target=\"_blank\" rel=\"noopener\">OCC Mundial (Mexico)</a>                    </li>\n",
      "                                    <li class=\"list-expandable-item\">\n",
      "                        <a href=\"https://www.seek.com.au\" target=\"_blank\" rel=\"noopener\">SEEK (Australia)</a>                    </li>\n",
      "                                    <li class=\"list-expandable-item\">\n",
      "                        <a href=\"https://www.zhaopin.com\" target=\"_blank\" rel=\"noopener\">Zhaopin (China)</a>                    </li>\n",
      "                                    <li class=\"list-expandable-item\">\n",
      "                        <a href=\"https://ar.jora.com\" target=\"_blank\" rel=\"noopener\">Jora (Argentina)</a>                    </li>\n",
      "                                    <li class=\"list-expandable-item\">\n",
      "                        <a href=\"https://br.jora.com\" target=\"_blank\" rel=\"noopener\">Jora (Brazil)</a>                    </li>\n",
      "                            </span>\n",
      "            <label class=\"list-expandable-label\" for=\"partnersListExpandable\">\n",
      "                <span class=\"less\">View less</span>\n",
      "                <span class=\"more\">View more</span>\n",
      "            </label>\n",
      "        </ul>\n",
      "    </div>\n",
      "\n",
      "</div>\n",
      "</footer>\n",
      "\n",
      "    </div>\n",
      "\n",
      "    \n",
      "<script crossorigin=\"anonymous\"\n",
      "        src=\"https://polyfill.io/v3/polyfill.min.js?features=requestIdleCallback%2CArray.prototype.find%2CString.prototype.padStart%2CArray.prototype.findIndex%2CObject.assign%2CNumber.isNaN%2CString.prototype.includes%2CArray.prototype.includes%2CPromise%2CPromise.prototype.finally%2CArray.prototype.filter\">\n",
      "</script>\n",
      "\n",
      "    <script src=\"https://browser.sentry-cdn.com/5.20.1/bundle.min.js\" crossorigin=\"anonymous\"></script>\n",
      "    <script src=\"https://browser.sentry-cdn.com/5.20.1/vue.min.js\" crossorigin=\"anonymous\"></script>\n",
      "    <script>\n",
      "        if (window.Sentry) {\n",
      "            if (Workana) {\n",
      "                Workana.sentryOptions = {\n",
      "                    dsn: 'https://a5a7a84f4d654157bdbe12663489c1ff@reporting.workana.com/3',\n",
      "                    release: '4362086ab126b6300289e9707d7b718a0a6426d5',\n",
      "                    logger: 'WorkanaLogger',\n",
      "                    ignoreErrors: [\n",
      "                        'fb_xd_fragment',\n",
      "                        'document.getElementsByClassName.ToString',\n",
      "                        'gcm_sender_id',\n",
      "                        'top.GLOBALS',\n",
      "                        'canvas.contentDocument',\n",
      "                        'Script error.',\n",
      "                        'UET',\n",
      "                        'AbortError: Registration failed - push service error'\n",
      "                    ]\n",
      "                };\n",
      "                if (window.Workana.userId) {\n",
      "                    var userContext = \"{&quot;id&quot;:null,&quot;email&quot;:null}\";\n",
      "                    Workana.sentryContext = JSON.parse(userContext.replace(/&quot;/g, '\"'));\n",
      "                }\n",
      "            }\n",
      "        }\n",
      "    </script>\n",
      "\n",
      "\n",
      "    <script crossorigin=\"anonymous\" src=\"https://wkncdn.com/newx/assets/build/bundle.commons.64abcc432.js\"\n",
      "            type=\"application/javascript\"></script>\n",
      "    <script crossorigin=\"anonymous\" src=\"https://wkncdn.com/newx/assets/build/bundle.home.1cc06b871.js\"\n",
      "            type=\"application/javascript\"></script>\n",
      "\n",
      "\n",
      "        \n",
      "                        <script type=\"text/javascript\">\n",
      "                /* <![CDATA[ */\n",
      "                var google_conversion_id = 938156306;\n",
      "\n",
      "                \n",
      "                var google_custom_params = [];\n",
      "                var google_remarketing_only = true;\n",
      "                /* ]]> */\n",
      "            </script>\n",
      "            <script type=\"text/javascript\" src=\"//www.googleadservices.com/pagead/conversion.js\"></script>\n",
      "            <noscript>\n",
      "                <div style=\"display:inline;\">\n",
      "                    <img height=\"1\" width=\"1\" style=\"border-style:none;\" alt=\"\" src=\"//googleads.g.doubleclick.net/pagead/viewthroughconversion/938156306/?value=1.00&guid=ON&currency_code=BRL&script=0\"/>\n",
      "                </div>\n",
      "            </noscript>\n",
      "                                <script type=\"text/javascript\">\n",
      "                /* <![CDATA[ */\n",
      "                var google_conversion_id = 933686298;\n",
      "\n",
      "                \n",
      "                var google_custom_params = [];\n",
      "                var google_remarketing_only = true;\n",
      "                /* ]]> */\n",
      "            </script>\n",
      "            <script type=\"text/javascript\" src=\"//www.googleadservices.com/pagead/conversion.js\"></script>\n",
      "            <noscript>\n",
      "                <div style=\"display:inline;\">\n",
      "                    <img height=\"1\" width=\"1\" style=\"border-style:none;\" alt=\"\" src=\"//googleads.g.doubleclick.net/pagead/viewthroughconversion/933686298/?value=1.00&guid=ON&currency_code=ARS&script=0\"/>\n",
      "                </div>\n",
      "            </noscript>\n",
      "                                <script type=\"text/javascript\">\n",
      "                /* <![CDATA[ */\n",
      "                var google_conversion_id = 1007132020;\n",
      "\n",
      "                \n",
      "                var google_custom_params = [];\n",
      "                var google_remarketing_only = true;\n",
      "                /* ]]> */\n",
      "            </script>\n",
      "            <script type=\"text/javascript\" src=\"//www.googleadservices.com/pagead/conversion.js\"></script>\n",
      "            <noscript>\n",
      "                <div style=\"display:inline;\">\n",
      "                    <img height=\"1\" width=\"1\" style=\"border-style:none;\" alt=\"\" src=\"//googleads.g.doubleclick.net/pagead/viewthroughconversion/1007132020/?value=1.00&guid=ON&currency_code=USD&script=0\"/>\n",
      "                </div>\n",
      "            </noscript>\n",
      "            \n",
      "\n",
      "</body>\n",
      "</html>\n",
      "\r\n",
      "\r\n",
      "\n"
     ]
    }
   ],
   "source": [
    "print(data.decode('utf-8'))"
   ]
  },
  {
   "cell_type": "code",
   "execution_count": null,
   "metadata": {},
   "outputs": [],
   "source": []
  }
 ],
 "metadata": {
  "kernelspec": {
   "display_name": "Python 3",
   "language": "python",
   "name": "python3"
  },
  "language_info": {
   "codemirror_mode": {
    "name": "ipython",
    "version": 3
   },
   "file_extension": ".py",
   "mimetype": "text/x-python",
   "name": "python",
   "nbconvert_exporter": "python",
   "pygments_lexer": "ipython3",
   "version": "3.8.5"
  }
 },
 "nbformat": 4,
 "nbformat_minor": 2
}
