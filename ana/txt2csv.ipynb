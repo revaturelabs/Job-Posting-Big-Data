{
 "cells": [
  {
   "cell_type": "code",
   "execution_count": 1,
   "metadata": {},
   "outputs": [],
   "source": [
    "import pandas as pd"
   ]
  },
  {
   "cell_type": "code",
   "execution_count": 2,
   "metadata": {},
   "outputs": [],
   "source": [
    "websites = pd.read_csv(\"ccmain_2021-04_long.txt\", header = None, sep = '|') "
   ]
  },
  {
   "cell_type": "code",
   "execution_count": 3,
   "metadata": {},
   "outputs": [
    {
     "data": {
      "text/html": [
       "<div>\n",
       "<style scoped>\n",
       "    .dataframe tbody tr th:only-of-type {\n",
       "        vertical-align: middle;\n",
       "    }\n",
       "\n",
       "    .dataframe tbody tr th {\n",
       "        vertical-align: top;\n",
       "    }\n",
       "\n",
       "    .dataframe thead th {\n",
       "        text-align: right;\n",
       "    }\n",
       "</style>\n",
       "<table border=\"1\" class=\"dataframe\">\n",
       "  <thead>\n",
       "    <tr style=\"text-align: right;\">\n",
       "      <th></th>\n",
       "      <th>0</th>\n",
       "      <th>1</th>\n",
       "      <th>2</th>\n",
       "      <th>3</th>\n",
       "      <th>4</th>\n",
       "    </tr>\n",
       "  </thead>\n",
       "  <tbody>\n",
       "    <tr>\n",
       "      <th>0</th>\n",
       "      <td>NaN</td>\n",
       "      <td>globalannal.wordpress.com                     ...</td>\n",
       "      <td>/tag/careers/                                 ...</td>\n",
       "      <td>crawl-data/CC-MAIN-2021-04/segments/1610703528...</td>\n",
       "      <td>NaN</td>\n",
       "    </tr>\n",
       "    <tr>\n",
       "      <th>1</th>\n",
       "      <td>NaN</td>\n",
       "      <td>globalannal.wordpress.com                     ...</td>\n",
       "      <td>/tag/jobs-numbers/                            ...</td>\n",
       "      <td>crawl-data/CC-MAIN-2021-04/segments/1610703528...</td>\n",
       "      <td>NaN</td>\n",
       "    </tr>\n",
       "    <tr>\n",
       "      <th>2</th>\n",
       "      <td>NaN</td>\n",
       "      <td>globalannal.wordpress.com                     ...</td>\n",
       "      <td>/tag/jobs-report/                             ...</td>\n",
       "      <td>crawl-data/CC-MAIN-2021-04/segments/1610703528...</td>\n",
       "      <td>NaN</td>\n",
       "    </tr>\n",
       "    <tr>\n",
       "      <th>3</th>\n",
       "      <td>NaN</td>\n",
       "      <td>globalshapersbucharest.wordpress.com          ...</td>\n",
       "      <td>/2018/04/11/programs-officer-job-global-shaper...</td>\n",
       "      <td>crawl-data/CC-MAIN-2021-04/segments/1610703506...</td>\n",
       "      <td>NaN</td>\n",
       "    </tr>\n",
       "    <tr>\n",
       "      <th>4</th>\n",
       "      <td>NaN</td>\n",
       "      <td>globalyouthbook.wordpress.com                 ...</td>\n",
       "      <td>/tag/career-planning/                         ...</td>\n",
       "      <td>crawl-data/CC-MAIN-2021-04/segments/1610704798...</td>\n",
       "      <td>NaN</td>\n",
       "    </tr>\n",
       "  </tbody>\n",
       "</table>\n",
       "</div>"
      ],
      "text/plain": [
       "    0                                                  1  \\\n",
       "0 NaN  globalannal.wordpress.com                     ...   \n",
       "1 NaN  globalannal.wordpress.com                     ...   \n",
       "2 NaN  globalannal.wordpress.com                     ...   \n",
       "3 NaN  globalshapersbucharest.wordpress.com          ...   \n",
       "4 NaN  globalyouthbook.wordpress.com                 ...   \n",
       "\n",
       "                                                   2  \\\n",
       "0  /tag/careers/                                 ...   \n",
       "1  /tag/jobs-numbers/                            ...   \n",
       "2  /tag/jobs-report/                             ...   \n",
       "3  /2018/04/11/programs-officer-job-global-shaper...   \n",
       "4  /tag/career-planning/                         ...   \n",
       "\n",
       "                                                   3   4  \n",
       "0  crawl-data/CC-MAIN-2021-04/segments/1610703528... NaN  \n",
       "1  crawl-data/CC-MAIN-2021-04/segments/1610703528... NaN  \n",
       "2  crawl-data/CC-MAIN-2021-04/segments/1610703528... NaN  \n",
       "3  crawl-data/CC-MAIN-2021-04/segments/1610703506... NaN  \n",
       "4  crawl-data/CC-MAIN-2021-04/segments/1610704798... NaN  "
      ]
     },
     "execution_count": 3,
     "metadata": {},
     "output_type": "execute_result"
    }
   ],
   "source": [
    "websites.head()"
   ]
  },
  {
   "cell_type": "code",
   "execution_count": 4,
   "metadata": {},
   "outputs": [
    {
     "data": {
      "text/plain": [
       "Int64Index([0, 1, 2, 3, 4], dtype='int64')"
      ]
     },
     "execution_count": 4,
     "metadata": {},
     "output_type": "execute_result"
    }
   ],
   "source": [
    "websites.columns"
   ]
  },
  {
   "cell_type": "code",
   "execution_count": 5,
   "metadata": {},
   "outputs": [
    {
     "data": {
      "text/html": [
       "<div>\n",
       "<style scoped>\n",
       "    .dataframe tbody tr th:only-of-type {\n",
       "        vertical-align: middle;\n",
       "    }\n",
       "\n",
       "    .dataframe tbody tr th {\n",
       "        vertical-align: top;\n",
       "    }\n",
       "\n",
       "    .dataframe thead th {\n",
       "        text-align: right;\n",
       "    }\n",
       "</style>\n",
       "<table border=\"1\" class=\"dataframe\">\n",
       "  <thead>\n",
       "    <tr style=\"text-align: right;\">\n",
       "      <th></th>\n",
       "      <th>1</th>\n",
       "      <th>2</th>\n",
       "      <th>3</th>\n",
       "    </tr>\n",
       "  </thead>\n",
       "  <tbody>\n",
       "    <tr>\n",
       "      <th>0</th>\n",
       "      <td>globalannal.wordpress.com                     ...</td>\n",
       "      <td>/tag/careers/                                 ...</td>\n",
       "      <td>crawl-data/CC-MAIN-2021-04/segments/1610703528...</td>\n",
       "    </tr>\n",
       "    <tr>\n",
       "      <th>1</th>\n",
       "      <td>globalannal.wordpress.com                     ...</td>\n",
       "      <td>/tag/jobs-numbers/                            ...</td>\n",
       "      <td>crawl-data/CC-MAIN-2021-04/segments/1610703528...</td>\n",
       "    </tr>\n",
       "    <tr>\n",
       "      <th>2</th>\n",
       "      <td>globalannal.wordpress.com                     ...</td>\n",
       "      <td>/tag/jobs-report/                             ...</td>\n",
       "      <td>crawl-data/CC-MAIN-2021-04/segments/1610703528...</td>\n",
       "    </tr>\n",
       "    <tr>\n",
       "      <th>3</th>\n",
       "      <td>globalshapersbucharest.wordpress.com          ...</td>\n",
       "      <td>/2018/04/11/programs-officer-job-global-shaper...</td>\n",
       "      <td>crawl-data/CC-MAIN-2021-04/segments/1610703506...</td>\n",
       "    </tr>\n",
       "    <tr>\n",
       "      <th>4</th>\n",
       "      <td>globalyouthbook.wordpress.com                 ...</td>\n",
       "      <td>/tag/career-planning/                         ...</td>\n",
       "      <td>crawl-data/CC-MAIN-2021-04/segments/1610704798...</td>\n",
       "    </tr>\n",
       "  </tbody>\n",
       "</table>\n",
       "</div>"
      ],
      "text/plain": [
       "                                                   1  \\\n",
       "0  globalannal.wordpress.com                     ...   \n",
       "1  globalannal.wordpress.com                     ...   \n",
       "2  globalannal.wordpress.com                     ...   \n",
       "3  globalshapersbucharest.wordpress.com          ...   \n",
       "4  globalyouthbook.wordpress.com                 ...   \n",
       "\n",
       "                                                   2  \\\n",
       "0  /tag/careers/                                 ...   \n",
       "1  /tag/jobs-numbers/                            ...   \n",
       "2  /tag/jobs-report/                             ...   \n",
       "3  /2018/04/11/programs-officer-job-global-shaper...   \n",
       "4  /tag/career-planning/                         ...   \n",
       "\n",
       "                                                   3  \n",
       "0  crawl-data/CC-MAIN-2021-04/segments/1610703528...  \n",
       "1  crawl-data/CC-MAIN-2021-04/segments/1610703528...  \n",
       "2  crawl-data/CC-MAIN-2021-04/segments/1610703528...  \n",
       "3  crawl-data/CC-MAIN-2021-04/segments/1610703506...  \n",
       "4  crawl-data/CC-MAIN-2021-04/segments/1610704798...  "
      ]
     },
     "execution_count": 5,
     "metadata": {},
     "output_type": "execute_result"
    }
   ],
   "source": [
    "websites.drop([0, 4], axis=1, inplace=True)\n",
    "websites.head()"
   ]
  },
  {
   "cell_type": "code",
   "execution_count": 6,
   "metadata": {},
   "outputs": [
    {
     "data": {
      "text/html": [
       "<div>\n",
       "<style scoped>\n",
       "    .dataframe tbody tr th:only-of-type {\n",
       "        vertical-align: middle;\n",
       "    }\n",
       "\n",
       "    .dataframe tbody tr th {\n",
       "        vertical-align: top;\n",
       "    }\n",
       "\n",
       "    .dataframe thead th {\n",
       "        text-align: right;\n",
       "    }\n",
       "</style>\n",
       "<table border=\"1\" class=\"dataframe\">\n",
       "  <thead>\n",
       "    <tr style=\"text-align: right;\">\n",
       "      <th></th>\n",
       "      <th>url_host</th>\n",
       "      <th>url_path</th>\n",
       "      <th>warc_file</th>\n",
       "    </tr>\n",
       "  </thead>\n",
       "  <tbody>\n",
       "    <tr>\n",
       "      <th>0</th>\n",
       "      <td>globalannal.wordpress.com                     ...</td>\n",
       "      <td>/tag/careers/                                 ...</td>\n",
       "      <td>crawl-data/CC-MAIN-2021-04/segments/1610703528...</td>\n",
       "    </tr>\n",
       "    <tr>\n",
       "      <th>1</th>\n",
       "      <td>globalannal.wordpress.com                     ...</td>\n",
       "      <td>/tag/jobs-numbers/                            ...</td>\n",
       "      <td>crawl-data/CC-MAIN-2021-04/segments/1610703528...</td>\n",
       "    </tr>\n",
       "    <tr>\n",
       "      <th>2</th>\n",
       "      <td>globalannal.wordpress.com                     ...</td>\n",
       "      <td>/tag/jobs-report/                             ...</td>\n",
       "      <td>crawl-data/CC-MAIN-2021-04/segments/1610703528...</td>\n",
       "    </tr>\n",
       "    <tr>\n",
       "      <th>3</th>\n",
       "      <td>globalshapersbucharest.wordpress.com          ...</td>\n",
       "      <td>/2018/04/11/programs-officer-job-global-shaper...</td>\n",
       "      <td>crawl-data/CC-MAIN-2021-04/segments/1610703506...</td>\n",
       "    </tr>\n",
       "    <tr>\n",
       "      <th>4</th>\n",
       "      <td>globalyouthbook.wordpress.com                 ...</td>\n",
       "      <td>/tag/career-planning/                         ...</td>\n",
       "      <td>crawl-data/CC-MAIN-2021-04/segments/1610704798...</td>\n",
       "    </tr>\n",
       "  </tbody>\n",
       "</table>\n",
       "</div>"
      ],
      "text/plain": [
       "                                            url_host  \\\n",
       "0  globalannal.wordpress.com                     ...   \n",
       "1  globalannal.wordpress.com                     ...   \n",
       "2  globalannal.wordpress.com                     ...   \n",
       "3  globalshapersbucharest.wordpress.com          ...   \n",
       "4  globalyouthbook.wordpress.com                 ...   \n",
       "\n",
       "                                            url_path  \\\n",
       "0  /tag/careers/                                 ...   \n",
       "1  /tag/jobs-numbers/                            ...   \n",
       "2  /tag/jobs-report/                             ...   \n",
       "3  /2018/04/11/programs-officer-job-global-shaper...   \n",
       "4  /tag/career-planning/                         ...   \n",
       "\n",
       "                                           warc_file  \n",
       "0  crawl-data/CC-MAIN-2021-04/segments/1610703528...  \n",
       "1  crawl-data/CC-MAIN-2021-04/segments/1610703528...  \n",
       "2  crawl-data/CC-MAIN-2021-04/segments/1610703528...  \n",
       "3  crawl-data/CC-MAIN-2021-04/segments/1610703506...  \n",
       "4  crawl-data/CC-MAIN-2021-04/segments/1610704798...  "
      ]
     },
     "execution_count": 6,
     "metadata": {},
     "output_type": "execute_result"
    }
   ],
   "source": [
    "websites.columns = ['url_host','url_path', 'warc_file']\n",
    "websites.head()"
   ]
  },
  {
   "cell_type": "code",
   "execution_count": 7,
   "metadata": {},
   "outputs": [
    {
     "data": {
      "text/plain": [
       "www.workana.com                                              14148\n",
       "www.workopolis.com                                            6140\n",
       "www.worknrby.com                                              2827\n",
       "www.workinsports.com                                          2458\n",
       "seeker.worksourcewa.com                                       2078\n",
       "                                                             ...  \n",
       "vdp-polizei.de                                                   1\n",
       "primorisnetwork.wordpress.com                                    1\n",
       "www.working-grandmothers.com                                     1\n",
       "jillbarth.wordpress.com                                          1\n",
       "idaelizabethblog.wordpress.com                                   1\n",
       "Name: url_host, Length: 7345, dtype: int64"
      ]
     },
     "execution_count": 7,
     "metadata": {},
     "output_type": "execute_result"
    }
   ],
   "source": [
    "websites.url_host.value_counts()"
   ]
  },
  {
   "cell_type": "code",
   "execution_count": null,
   "metadata": {},
   "outputs": [],
   "source": []
  }
 ],
 "metadata": {
  "kernelspec": {
   "display_name": "learn-env",
   "language": "python",
   "name": "learn-env"
  },
  "language_info": {
   "codemirror_mode": {
    "name": "ipython",
    "version": 3
   },
   "file_extension": ".py",
   "mimetype": "text/x-python",
   "name": "python",
   "nbconvert_exporter": "python",
   "pygments_lexer": "ipython3",
   "version": "3.8.5"
  }
 },
 "nbformat": 4,
 "nbformat_minor": 4
}
