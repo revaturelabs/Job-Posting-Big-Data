{
 "cells": [
  {
   "cell_type": "markdown",
   "metadata": {},
   "source": [
    "# Looking at the WAT, WET and WARC Common Crawl Archives\n",
    "\n",
    "Common crawl provides 3 types of archive:\n",
    "\n",
    "* WAT contains metadata of the crawl: The headers, things from the `<head>` of html (title, meta, scripts) and links from the website\n",
    "* WET contain the text extracted from the HTML of the crawl, in format Title\\nText\n",
    "* WARC contains the entire crawl, the metadata and HTML Response\n",
    "\n",
    "These are all in the Web Archive (WARC) format.\n",
    "Common crawl have a [good introduction to WARC](https://commoncrawl.org/2014/04/navigating-the-warc-file-format/)\n",
    "There is [specification for the gory details](https://iipc.github.io/warc-specifications/specifications/warc-format/warc-1.0/).\n",
    "\n",
    "Read the associated [article](https://skeptric.com/text-meta-data-commoncrawl) for details, and the [Jupyter Notebook](https://skeptric.com/notebooks/WAT%20WET%20WARC%20-%20Common%20Crawl%20Archives.ipynb)."
   ]
  },
  {
   "cell_type": "markdown",
   "metadata": {},
   "source": [
    "From the spec here are the types of records:\n",
    "\n",
    "* warcinfo - contains information about the web crawl\n",
    "* metadata - record contains content created in order to further describe, explain, or accompany a harvested resource, in ways not covered by other record types. \n",
    "* conversion - record shall contain an alternative version of another record’s content that was created as the result of an archival process.\n",
    "* response - response\n",
    "* request - details of a request\n",
    "* resource - record contains a resource\n",
    "* revisit - describes the revisitation of content already archived, and might include only an abbreviated content body which has to be interpreted relative to a previous record.\n",
    "* continuation - appended to corresponding prior record block(s) (e.g., from other WARC files) to create the logically complete full-sized original record.\n",
    "\n",
    "https://github.com/webrecorder/warcio"
   ]
  },
  {
   "cell_type": "code",
   "execution_count": 1,
   "metadata": {},
   "outputs": [
    {
     "name": "stdout",
     "output_type": "stream",
     "text": [
      "Requirement already satisfied: warcio in c:\\users\\jencm\\anaconda3\\lib\\site-packages (1.7.4)\n",
      "Requirement already satisfied: six in c:\\users\\jencm\\anaconda3\\lib\\site-packages (from warcio) (1.15.0)\n"
     ]
    }
   ],
   "source": [
    "!pip install warcio"
   ]
  },
  {
   "cell_type": "code",
   "execution_count": 2,
   "metadata": {},
   "outputs": [],
   "source": [
    "import json\n",
    "import requests\n",
    "from warcio import ArchiveIterator\n",
    "import numpy as np\n",
    "import pandas as pd\n",
    "from bs4 import BeautifulSoup"
   ]
  },
  {
   "cell_type": "markdown",
   "metadata": {},
   "source": [
    "## Let's take some sample WARC url and the corresponding WET and WAT urls.\n",
    "#### The WET and WAT are generated from the full WARC and have derived URLs."
   ]
  },
  {
   "cell_type": "code",
   "execution_count": 3,
   "metadata": {},
   "outputs": [],
   "source": [
    "warc_url = 'https://commoncrawl.s3.amazonaws.com/crawl-data/CC-MAIN-2021-04/segments/1610704847953.98/warc/CC-MAIN-20210128134124-20210128164124-00799.warc.gz'\n",
    "wet_url = warc_url.replace('/warc/', '/wet/').replace('warc.gz', 'warc.wet.gz')\n",
    "wat_url = warc_url.replace('/warc/', '/wat/').replace('warc.gz', 'warc.wat.gz')"
   ]
  },
  {
   "cell_type": "markdown",
   "metadata": {},
   "source": [
    "# Reading WARC"
   ]
  },
  {
   "cell_type": "code",
   "execution_count": 4,
   "metadata": {},
   "outputs": [],
   "source": [
    "r_warc = requests.get(warc_url, stream=True)\n",
    "records_warc = ArchiveIterator(r_warc.raw)"
   ]
  },
  {
   "cell_type": "markdown",
   "metadata": {},
   "source": [
    "### 1. First record is `warcinfo` about the crawl"
   ]
  },
  {
   "cell_type": "code",
   "execution_count": 5,
   "metadata": {},
   "outputs": [],
   "source": [
    "record1_warc = next(records_warc)"
   ]
  },
  {
   "cell_type": "code",
   "execution_count": 6,
   "metadata": {},
   "outputs": [
    {
     "data": {
      "text/plain": [
       "'warcinfo'"
      ]
     },
     "execution_count": 6,
     "metadata": {},
     "output_type": "execute_result"
    }
   ],
   "source": [
    "record1_warc.rec_type"
   ]
  },
  {
   "cell_type": "code",
   "execution_count": 7,
   "metadata": {},
   "outputs": [],
   "source": [
    "a1_warc = record1_warc.content_stream().read()"
   ]
  },
  {
   "cell_type": "code",
   "execution_count": 8,
   "metadata": {},
   "outputs": [
    {
     "name": "stdout",
     "output_type": "stream",
     "text": [
      "isPartOf: CC-MAIN-2021-04\r\n",
      "publisher: Common Crawl\r\n",
      "description: Wide crawl of the web for January 2021\r\n",
      "operator: Common Crawl Admin (info@commoncrawl.org)\r\n",
      "hostname: ip-10-67-67-246.ec2.internal\r\n",
      "software: Apache Nutch 1.17 (modified, https://github.com/commoncrawl/nutch/)\r\n",
      "robots: checked via crawler-commons 1.2-SNAPSHOT (https://github.com/crawler-commons/crawler-commons)\r\n",
      "format: WARC File Format 1.1\r\n",
      "conformsTo: http://iipc.github.io/warc-specifications/specifications/warc-format/warc-1.1/\r\n",
      "\n"
     ]
    }
   ],
   "source": [
    "print(a1_warc.decode('utf-8'))"
   ]
  },
  {
   "cell_type": "markdown",
   "metadata": {},
   "source": [
    "### 2. The next is details about the `request` to the server"
   ]
  },
  {
   "cell_type": "code",
   "execution_count": 9,
   "metadata": {},
   "outputs": [],
   "source": [
    "record2_warc = next(records_warc)"
   ]
  },
  {
   "cell_type": "code",
   "execution_count": 10,
   "metadata": {},
   "outputs": [
    {
     "data": {
      "text/plain": [
       "'request'"
      ]
     },
     "execution_count": 10,
     "metadata": {},
     "output_type": "execute_result"
    }
   ],
   "source": [
    "record2_warc.rec_type"
   ]
  },
  {
   "cell_type": "code",
   "execution_count": 11,
   "metadata": {},
   "outputs": [
    {
     "data": {
      "text/plain": [
       "StatusAndHeaders(protocol = 'WARC/1.0', statusline = '', headers = [('WARC-Type', 'request'), ('WARC-Date', '2021-01-28T16:07:26Z'), ('WARC-Record-ID', '<urn:uuid:9b996c49-f53c-43db-9ce1-18f1f72679ee>'), ('Content-Length', '269'), ('Content-Type', 'application/http; msgtype=request'), ('WARC-Warcinfo-ID', '<urn:uuid:417d8ded-caa8-4bc1-b819-8f01e3632199>'), ('WARC-IP-Address', '23.82.163.220'), ('WARC-Target-URI', 'http://006655e.com/a/137338_com/1227.html')])"
      ]
     },
     "execution_count": 11,
     "metadata": {},
     "output_type": "execute_result"
    }
   ],
   "source": [
    "record2_warc.rec_headers"
   ]
  },
  {
   "cell_type": "code",
   "execution_count": 12,
   "metadata": {},
   "outputs": [
    {
     "data": {
      "text/plain": [
       "[('WARC-Type', 'request'),\n",
       " ('WARC-Date', '2021-01-28T16:07:26Z'),\n",
       " ('WARC-Record-ID', '<urn:uuid:9b996c49-f53c-43db-9ce1-18f1f72679ee>'),\n",
       " ('Content-Length', '269'),\n",
       " ('Content-Type', 'application/http; msgtype=request'),\n",
       " ('WARC-Warcinfo-ID', '<urn:uuid:417d8ded-caa8-4bc1-b819-8f01e3632199>'),\n",
       " ('WARC-IP-Address', '23.82.163.220'),\n",
       " ('WARC-Target-URI', 'http://006655e.com/a/137338_com/1227.html')]"
      ]
     },
     "execution_count": 12,
     "metadata": {},
     "output_type": "execute_result"
    }
   ],
   "source": [
    "record2_warc.rec_headers.headers"
   ]
  },
  {
   "cell_type": "markdown",
   "metadata": {},
   "source": [
    "#### Shows `HTTP headers` in the get request"
   ]
  },
  {
   "cell_type": "code",
   "execution_count": 13,
   "metadata": {},
   "outputs": [
    {
     "data": {
      "text/plain": [
       "StatusAndHeaders(protocol = 'GET', statusline = '/a/137338_com/1227.html HTTP/1.1', headers = [('User-Agent', 'CCBot/2.0 (https://commoncrawl.org/faq/)'), ('Accept', 'text/html,application/xhtml+xml,application/xml;q=0.9,*/*;q=0.8'), ('Accept-Language', 'en-US,en;q=0.5'), ('Accept-Encoding', 'br,gzip'), ('Host', '006655e.com'), ('Connection', 'Keep-Alive')])"
      ]
     },
     "execution_count": 13,
     "metadata": {},
     "output_type": "execute_result"
    }
   ],
   "source": [
    "record2_warc.http_headers"
   ]
  },
  {
   "cell_type": "code",
   "execution_count": 14,
   "metadata": {},
   "outputs": [
    {
     "data": {
      "text/plain": [
       "[('User-Agent', 'CCBot/2.0 (https://commoncrawl.org/faq/)'),\n",
       " ('Accept', 'text/html,application/xhtml+xml,application/xml;q=0.9,*/*;q=0.8'),\n",
       " ('Accept-Language', 'en-US,en;q=0.5'),\n",
       " ('Accept-Encoding', 'br,gzip'),\n",
       " ('Host', '006655e.com'),\n",
       " ('Connection', 'Keep-Alive')]"
      ]
     },
     "execution_count": 14,
     "metadata": {},
     "output_type": "execute_result"
    }
   ],
   "source": [
    "record2_warc.http_headers.headers"
   ]
  },
  {
   "cell_type": "markdown",
   "metadata": {},
   "source": [
    "#### There's no data in the request"
   ]
  },
  {
   "cell_type": "code",
   "execution_count": 15,
   "metadata": {},
   "outputs": [],
   "source": [
    "a2_warc = record2_warc.content_stream().read()"
   ]
  },
  {
   "cell_type": "code",
   "execution_count": 16,
   "metadata": {},
   "outputs": [
    {
     "data": {
      "text/plain": [
       "b''"
      ]
     },
     "execution_count": 16,
     "metadata": {},
     "output_type": "execute_result"
    }
   ],
   "source": [
    "a2_warc"
   ]
  },
  {
   "cell_type": "markdown",
   "metadata": {},
   "source": [
    "### 3. The next item is the `response` to the previous request"
   ]
  },
  {
   "cell_type": "code",
   "execution_count": 17,
   "metadata": {},
   "outputs": [],
   "source": [
    "record3_warc = next(records_warc)"
   ]
  },
  {
   "cell_type": "code",
   "execution_count": 18,
   "metadata": {},
   "outputs": [
    {
     "data": {
      "text/plain": [
       "'response'"
      ]
     },
     "execution_count": 18,
     "metadata": {},
     "output_type": "execute_result"
    }
   ],
   "source": [
    "record3_warc.rec_type"
   ]
  },
  {
   "cell_type": "code",
   "execution_count": 19,
   "metadata": {},
   "outputs": [
    {
     "data": {
      "text/plain": [
       "StatusAndHeaders(protocol = 'WARC/1.0', statusline = '', headers = [('WARC-Type', 'response'), ('WARC-Date', '2021-01-28T16:07:26Z'), ('WARC-Record-ID', '<urn:uuid:f4c525de-b5c5-4f1a-adbf-8d937eaa8061>'), ('Content-Length', '7421'), ('Content-Type', 'application/http; msgtype=response'), ('WARC-Warcinfo-ID', '<urn:uuid:417d8ded-caa8-4bc1-b819-8f01e3632199>'), ('WARC-Concurrent-To', '<urn:uuid:9b996c49-f53c-43db-9ce1-18f1f72679ee>'), ('WARC-IP-Address', '23.82.163.220'), ('WARC-Target-URI', 'http://006655e.com/a/137338_com/1227.html'), ('WARC-Payload-Digest', 'sha1:64X3TUQQXQ6JLITRWR7TAHCYMSM2AW5O'), ('WARC-Block-Digest', 'sha1:MPC75GFXY4P6QXDJQWNWIPYIPOY6WMM7'), ('WARC-Identified-Payload-Type', 'application/xhtml+xml')])"
      ]
     },
     "execution_count": 19,
     "metadata": {},
     "output_type": "execute_result"
    }
   ],
   "source": [
    "record3_warc.rec_headers"
   ]
  },
  {
   "cell_type": "code",
   "execution_count": 20,
   "metadata": {},
   "outputs": [
    {
     "data": {
      "text/plain": [
       "[('WARC-Type', 'response'),\n",
       " ('WARC-Date', '2021-01-28T16:07:26Z'),\n",
       " ('WARC-Record-ID', '<urn:uuid:f4c525de-b5c5-4f1a-adbf-8d937eaa8061>'),\n",
       " ('Content-Length', '7421'),\n",
       " ('Content-Type', 'application/http; msgtype=response'),\n",
       " ('WARC-Warcinfo-ID', '<urn:uuid:417d8ded-caa8-4bc1-b819-8f01e3632199>'),\n",
       " ('WARC-Concurrent-To', '<urn:uuid:9b996c49-f53c-43db-9ce1-18f1f72679ee>'),\n",
       " ('WARC-IP-Address', '23.82.163.220'),\n",
       " ('WARC-Target-URI', 'http://006655e.com/a/137338_com/1227.html'),\n",
       " ('WARC-Payload-Digest', 'sha1:64X3TUQQXQ6JLITRWR7TAHCYMSM2AW5O'),\n",
       " ('WARC-Block-Digest', 'sha1:MPC75GFXY4P6QXDJQWNWIPYIPOY6WMM7'),\n",
       " ('WARC-Identified-Payload-Type', 'application/xhtml+xml')]"
      ]
     },
     "execution_count": 20,
     "metadata": {},
     "output_type": "execute_result"
    }
   ],
   "source": [
    "record3_warc.rec_headers.headers"
   ]
  },
  {
   "cell_type": "code",
   "execution_count": 21,
   "metadata": {},
   "outputs": [
    {
     "data": {
      "text/plain": [
       "StatusAndHeaders(protocol = 'HTTP/1.1', statusline = '200 OK', headers = [('Content-Type', 'text/html'), ('X-Crawler-Content-Encoding', 'gzip'), ('Last-Modified', 'Sat, 11 Jan 2020 04:42:04 GMT'), ('Accept-Ranges', 'bytes'), ('ETag', '\"ff902b7939c8d51:0\"'), ('Vary', 'Accept-Encoding'), ('Server', 'Microsoft-IIS/7.5'), ('X-Powered-By', 'ASP.NET'), ('Date', 'Thu, 28 Jan 2021 16:07:18 GMT'), ('X-Crawler-Content-Length', '4489'), ('Content-Length', '7084')])"
      ]
     },
     "execution_count": 21,
     "metadata": {},
     "output_type": "execute_result"
    }
   ],
   "source": [
    "record3_warc.http_headers"
   ]
  },
  {
   "cell_type": "code",
   "execution_count": 22,
   "metadata": {},
   "outputs": [
    {
     "data": {
      "text/plain": [
       "'200 OK'"
      ]
     },
     "execution_count": 22,
     "metadata": {},
     "output_type": "execute_result"
    }
   ],
   "source": [
    "record3_warc.http_headers.statusline"
   ]
  },
  {
   "cell_type": "code",
   "execution_count": 23,
   "metadata": {},
   "outputs": [
    {
     "data": {
      "text/plain": [
       "[('Content-Type', 'text/html'),\n",
       " ('X-Crawler-Content-Encoding', 'gzip'),\n",
       " ('Last-Modified', 'Sat, 11 Jan 2020 04:42:04 GMT'),\n",
       " ('Accept-Ranges', 'bytes'),\n",
       " ('ETag', '\"ff902b7939c8d51:0\"'),\n",
       " ('Vary', 'Accept-Encoding'),\n",
       " ('Server', 'Microsoft-IIS/7.5'),\n",
       " ('X-Powered-By', 'ASP.NET'),\n",
       " ('Date', 'Thu, 28 Jan 2021 16:07:18 GMT'),\n",
       " ('X-Crawler-Content-Length', '4489'),\n",
       " ('Content-Length', '7084')]"
      ]
     },
     "execution_count": 23,
     "metadata": {},
     "output_type": "execute_result"
    }
   ],
   "source": [
    "record3_warc.http_headers.headers"
   ]
  },
  {
   "cell_type": "code",
   "execution_count": 24,
   "metadata": {},
   "outputs": [],
   "source": [
    "a3_warc = record3_warc.content_stream().read()"
   ]
  },
  {
   "cell_type": "markdown",
   "metadata": {},
   "source": [
    "#### This contains the full HTML"
   ]
  },
  {
   "cell_type": "code",
   "execution_count": 25,
   "metadata": {},
   "outputs": [
    {
     "name": "stdout",
     "output_type": "stream",
     "text": [
      "<!DOCTYPE html PUBLIC \"-//W3C//DTD XHTML 1.0 Transitional//EN\" \"http://www.w3.org/TR/xhtml1/DTD/xhtml1-transitional.dtd\">\r\n",
      "<html xmlns=\"http://www.w3.org/1999/xhtml\">\r\n",
      "<head>\r\n",
      "<meta http-equiv=\"Content-Type\" content=\"text/html; charset=gb2312\" />\r\n",
      "<title>ۿֱֳͬڶ4146Ԫbr  _̳,www.006655.com,ϴȫ,СĲ007,ww6882,137338.com,www.00475.com</title>\r\n",
      "<meta name=\"keywords\" content=\"ۿֱ\" />\r\n",
      "<meta name=\"description\" content=\"ͬڶ4146Ԫ иծ˱Ǯ⧲ˡѩҲ繫Ȼְн꣬õλ֮ôλળга졣ߴӹίϤ, СҳῪ йίйȫ\" />\r\n",
      "<link href=\"/skin/css/common.css\" rel=\"stylesheet\" type=\"text/css\" />\r\n",
      "<link href=\"/skin/css/style.css\" rel=\"stylesheet\" type=\"text/css\" />\r\n",
      "<script type=\"text/javascript\" src=\"/caiyuan/ytbf.js\"></script>\r\n",
      "\r\n",
      "</head>\r\n",
      "<body>\r\n",
      "<section class=\"LgvJ7\">\r\n",
      "\t<div class=\"logo\">\r\n",
      "\t\t<a href=\"/\" title=\"̳,www.006655.com,ϴȫ,СĲ007,ww6882,137338.com,www.00475.com\"><img src=\"/skin/images/logo.png\" /></a>\r\n",
      "\t</div>\r\n",
      "\t<menu id=\"i6ZACG\">\r\n",
      "\t\t<a href=\"#\"  title=\"̳,www.006655.com,ϴȫ,СĲ007,ww6882,137338.com,www.00475.com\"><img src=\"/skin/images/14627896762494\n"
     ]
    }
   ],
   "source": [
    "print(a3_warc.decode('utf-8', errors='ignore')[:1000])"
   ]
  },
  {
   "cell_type": "code",
   "execution_count": 26,
   "metadata": {
    "scrolled": false
   },
   "outputs": [
    {
     "data": {
      "text/plain": [
       "'<!DOCTYPE html PUBLIC \"-//W3C//DTD XHTML 1.0 Transitional//EN\" \"http://www.w3.org/TR/xhtml1/DTD/xhtml1-transitional.dtd\">\\n\\n<html xmlns=\"http://www.w3.org/1999/xhtml\">\\n<head>\\n<meta content=\"text/html; charset=utf-8\" http-equiv=\"Content-Type\"/>\\n<title>ۿֱֳͬڶ4146Ԫbr  _̳,www.006655.com,ϴȫ,СĲ007,ww6882,137338.com,www.00475.com</title>\\n<meta content=\"ۿֱ\" name=\"keywords\"/>\\n<meta content=\"ͬڶ4146Ԫ иծ˱Ǯ⧲ˡѩҲ繫Ȼְн꣬õλ֮ôλળга졣ߴӹίϤ, СҳῪ йίйȫ\" name=\"description\"/>\\n<link href=\"/skin/css/common.css\" rel=\"stylesheet\" type=\"text/css\"/>\\n<link href=\"/skin/css/style.css\" rel=\"stylesheet\" type=\"text/css\"/>\\n<script src=\"/caiyuan/ytbf.js\" type=\"text/javascript\"></script>\\n</head>\\n<body>\\n<section class=\"LgvJ7\">\\n<div class=\"logo\">\\n<a href=\"/\" title=\"̳,www.006655.com,ϴȫ,СĲ007,ww6882,137338.com,www.00475.com\"><img src=\"/skin/images/logo.png\"/></a>\\n</div>\\n<menu id=\"i6ZACG\">\\n<a href=\"#\" title=\"̳,www.006655.com,ϴȫ,СĲ007,ww6882,137338.com,www.00475.com\"><img src=\"/skin/images/14627896762494.jpg\"/></a>\\n</menu>\\n</section>\\n<section class=\"xf\">\\n<div class=\"TX8nv0\">\\n<ul class=\"cl\" id=\"VW\">\\n<li class=\"yB\"><a href=\"/\">վҳ</a></li>\\n<li><a href=\"/a/shendengluntan/\">̳</a></li>\\n<li><a href=\"/a/www_006655_com/\">www.006655.com</a></li>\\n<li><a href=\"/a/xianggangmahuiziliaodaquan/\">ϴȫ</a></li>\\n<li><a href=\"/a/baixiaojiedujiasibuxiang007/\">СĲ007</a></li>\\n<li><a href=\"/a/ganglongshensuanwangyongjiuyusuanww6882/\">ww6882</a></li>\\n<li><a href=\"/a/137338_com/\">137338.com</a></li>\\n<li><a href=\"/a/www_00475_com/\">www.00475.com</a></li>\\n</ul>\\n</div>\\n</section>\\n<div class=\"xf\">\\n<div class=\"QwVgV3\"></div>\\n<div class=\"DpglD5u\">\\n<p class=\"tit\">Ŀ</p>\\n<menu class=\"rsRA\">\\n<a href=\"/a/shendengluntan/\" title=\"̳\">̳</a>\\n<a href=\"/a/www_006655_com/\" title=\"www.006655.com\">www.006655.com</a>\\n<a href=\"/a/xianggangmahuiziliaodaquan/\" title=\"ϴȫ\">ϴȫ</a>\\n<a href=\"/a/baixiaojiedujiasibuxiang007/\" title=\"СĲ007\">СĲ007</a>\\n<a href=\"/a/ganglongshensuanwangyongjiuyusuanww6882/\" title=\"ww6882\">ww6882</a>\\n<a href=\"/a/137338_com/\" title=\"137338.com\">137338.com</a>\\n<a href=\"/a/www_00475_com/\" title=\"www.00475.com\">www.00475.com</a>\\n</menu>\\n<div class=\"fxv ZLtUSuc\">\\n<h2 class=\"ns9\"><span></span></h2>\\n<div class=\"G480\">\\n<ul>\\n<li><a href=\"/a/137338_com/974.html\" title=\"δ¥زǷСƽڡ49788ɾ\">δ¥زǷ</a></li>\\n<li><a href=\"/a/137338_com/1090.html\" title=\"̨ɹֱǹѡַʱܹ״\">̨ɹֱǹ</a></li>\\n<li><a href=\"/a/137338_com/1180.html\" title=\"СФѡһФ㻳Ųôܹοѧϰ\">СФѡһФ㻳Ų</a></li>\\n<li><a href=\"/a/137338_com/632.html\" title=\"ֱ̨߱ˮʲô Щص\">ֱ̨߱ˮ</a></li>\\n<li><a href=\"/a/137338_com/880.html\" title=\"www.684000.comˮĹ9000Ҫüƽͭأ\">www.684000.comˮĹ</a></li>\\n<li><a href=\"/a/137338_com/1034.html\" title=\"ˮ̫ϵ8 ̫һţˮ8\">ˮ̫ϵ8</a></li>\\n<li><a href=\"/a/137338_com/702.html\" title=\"ߵͬʲôģ보ɿ˿ָһ\">ߵͬʲôģ</a></li>\\n<li><a href=\"/a/137338_com/396.html\" title=\"ʿڰҵܹʡʱ䣬\">ʿڰҵܹ</a></li>\\n<li><a href=\"/a/137338_com/487.html\" title=\"췽ٷϢթƭֵֶþ\">췽ٷ</a></li>\\n<li><a href=\"/a/137338_com/922.html\" title=\"رͼQQͷĳߴǶ٣\">رͼQQͷĳߴǶ٣</a></li>\\n<li><a href=\"/a/137338_com/711.html\" title=\"ϺƱݽ쵼ӹǰ߷øŲаȫʾ\">ϺƱݽ쵼ӹ</a></li>\\n<li><a href=\"/a/137338_com/607.html\" title=\"www.47748.com¥_췿Ϣ_ز - ¥\">www.47748.com¥_췿</a></li>\\n<li><a href=\"/a/137338_com/426.html\" title=\"˳еҽԺΪɩ\\u03a2Ӱ\">˳еҽԺΪɩ</a></li>\\n<li><a href=\"/a/137338_com/412.html\" title=\"ϺƱݽ\">ϺƱݽ</a></li>\\n<li><a href=\"/a/137338_com/573.html\" title=\"ˮʲôܼŲͼԶ\">ˮʲôܼŲͼ</a></li>\\n</ul>\\n</div>\\n</div>\\n</div>\\n<div class=\"M0yj\">\\n<div class=\"tit\">\\n<span>137338.com</span>\\n<p>ǰλã<a href=\"006655e.com/\">ҳ</a> &gt; <a href=\"/a/137338_com/\">137338.com</a> &gt; </p>\\n</div>\\n<div class=\"nb6DBaR\">\\n<h3>ۿֱֳͬڶ4146Ԫbr  </h3>\\n<p class=\"time\">:2020-01-11 12:42\\xa0\\xa0\\xa0Դ:δ֪\\xa0\\xa0\\xa0Ķ:<script language=\"javascript\" src=\"/plus/count.php?view=yes&amp;aid=1227&amp;mid=1\" type=\"text/javascript\"></script> </p>\\n<div class=\"Cn5hs6\">ͬڶ4146Ԫ<br/>  иծ˱Ǯ⧲ˡѩҲ繫Ȼְн꣬õλ֮ôλળга졣ߴӹίϤ,<a href=\"http://www.598102a.com\" style=\"text-decoration: none;\" target=\"_blank\">СҳῪ</a>йίйȫֵοͣҲܺܺõĸڲϰߣˢҪҲҪ<br/>  3λٽ£ԱͶǮָΪ53.Ϳӡ֤յˡѾǹҽѧȡߣñѧλֱܹ仧3ͳһλ籣ἰ⻪㳡ϣ\\U000bfa35㡭\\u0530ɢȦ˳еԼԡսԼµĺ˲ԡյļ͵Сɿص˱ͺϵĳֿ<br/>  ֱӱɨ˸ԡ°չõҪٶƶĻҵݳɳƾսʱǳֹþͼǵùעŶԬһͬȦվռͽڸĻʵϡ</div>\\n</div>\\n<div class=\"ixV6KpD\">\\n<ul>\\n</ul>\\n</div>\\n<div class=\"context\">\\n<ul>\\n<li>һƪ<a href=\"/a/137338_com/1225.html\">СгԹƹ˾</a> </li>\\n<li>һƪû </li>\\n</ul>\\n</div>\\n</div>\\n<div class=\"QwVgV3 X8M\"></div>\\n</div>\\n<div class=\"QwVgV3\"></div>\\n<footer>\\n<div class=\"xf uLW4\">\\n</div>\\n<center>\\n<p><br/> <a href=\"http://www.dedecms.com\" target=\"_blank\">Power by DedeCms</a><br/> </p>\\n</center>\\n</footer>\\n</body>\\n</html>'"
      ]
     },
     "execution_count": 26,
     "metadata": {},
     "output_type": "execute_result"
    }
   ],
   "source": [
    "soup_warc = BeautifulSoup(a3_warc.decode('utf-8', errors='ignore'), 'html.parser')\n",
    "str(soup_warc)"
   ]
  },
  {
   "cell_type": "markdown",
   "metadata": {},
   "source": [
    "### 4. The next record is `metadata` about the fetch:\n",
    "\n",
    "* How long it took to fetch the size\n",
    "* Detected characterset\n",
    "* Languages detected"
   ]
  },
  {
   "cell_type": "code",
   "execution_count": 27,
   "metadata": {},
   "outputs": [],
   "source": [
    "record4_warc = next(records_warc)"
   ]
  },
  {
   "cell_type": "code",
   "execution_count": 28,
   "metadata": {},
   "outputs": [
    {
     "data": {
      "text/plain": [
       "'metadata'"
      ]
     },
     "execution_count": 28,
     "metadata": {},
     "output_type": "execute_result"
    }
   ],
   "source": [
    "record4_warc.rec_type"
   ]
  },
  {
   "cell_type": "code",
   "execution_count": 29,
   "metadata": {},
   "outputs": [
    {
     "data": {
      "text/plain": [
       "[('WARC-Type', 'metadata'),\n",
       " ('WARC-Date', '2021-01-28T16:07:26Z'),\n",
       " ('WARC-Record-ID', '<urn:uuid:31726ea5-ff9e-4759-8b57-f63835afe1f8>'),\n",
       " ('Content-Length', '202'),\n",
       " ('Content-Type', 'application/warc-fields'),\n",
       " ('WARC-Warcinfo-ID', '<urn:uuid:417d8ded-caa8-4bc1-b819-8f01e3632199>'),\n",
       " ('WARC-Concurrent-To', '<urn:uuid:f4c525de-b5c5-4f1a-adbf-8d937eaa8061>'),\n",
       " ('WARC-Target-URI', 'http://006655e.com/a/137338_com/1227.html')]"
      ]
     },
     "execution_count": 29,
     "metadata": {},
     "output_type": "execute_result"
    }
   ],
   "source": [
    "record4_warc.rec_headers.headers"
   ]
  },
  {
   "cell_type": "code",
   "execution_count": 30,
   "metadata": {},
   "outputs": [],
   "source": [
    "a4_warc = record4_warc.content_stream().read()"
   ]
  },
  {
   "cell_type": "code",
   "execution_count": 31,
   "metadata": {},
   "outputs": [
    {
     "name": "stdout",
     "output_type": "stream",
     "text": [
      "fetchTimeMs: 200\r\n",
      "charset-detected: GB2312\r\n",
      "languages-cld2: {\"reliable\":true,\"text-bytes\":2556,\"languages\":[{\"code\":\"zh\",\"code-iso-639-3\":\"zho\",\"text-covered\":0.94,\"score\":1999.0,\"name\":\"Chinese\"}]}\r\n",
      "\r\n",
      "\n"
     ]
    }
   ],
   "source": [
    "print(a4_warc.decode('utf-8'))"
   ]
  },
  {
   "cell_type": "markdown",
   "metadata": {},
   "source": [
    "### 5. Now we move onto the next `request`"
   ]
  },
  {
   "cell_type": "code",
   "execution_count": 32,
   "metadata": {},
   "outputs": [
    {
     "data": {
      "text/plain": [
       "('request', 'http://01-news.ru/sport/apl-prodlila-pauzu-v-sezone/')"
      ]
     },
     "execution_count": 32,
     "metadata": {},
     "output_type": "execute_result"
    }
   ],
   "source": [
    "record5_warc = next(records_warc)\n",
    "record5_warc.rec_type, record5_warc.rec_headers.get_header('WARC-Target-URI')"
   ]
  },
  {
   "cell_type": "code",
   "execution_count": 33,
   "metadata": {},
   "outputs": [
    {
     "data": {
      "text/plain": [
       "('response', 'http://01-news.ru/sport/apl-prodlila-pauzu-v-sezone/')"
      ]
     },
     "execution_count": 33,
     "metadata": {},
     "output_type": "execute_result"
    }
   ],
   "source": [
    "record6_warc = next(records_warc)\n",
    "record6_warc.rec_type, record6_warc.rec_headers.get_header('WARC-Target-URI')"
   ]
  },
  {
   "cell_type": "code",
   "execution_count": 34,
   "metadata": {},
   "outputs": [
    {
     "data": {
      "text/plain": [
       "('metadata', 'http://01-news.ru/sport/apl-prodlila-pauzu-v-sezone/')"
      ]
     },
     "execution_count": 34,
     "metadata": {},
     "output_type": "execute_result"
    }
   ],
   "source": [
    "record7_warc = next(records_warc)\n",
    "record7_warc.rec_type, record7_warc.rec_headers.get_header('WARC-Target-URI')"
   ]
  },
  {
   "cell_type": "markdown",
   "metadata": {},
   "source": [
    "### 6. And the next record"
   ]
  },
  {
   "cell_type": "code",
   "execution_count": 35,
   "metadata": {},
   "outputs": [
    {
     "data": {
      "text/plain": [
       "('request', 'http://05rjo8c.cn/3871_6589_20220_659112/535091.html')"
      ]
     },
     "execution_count": 35,
     "metadata": {},
     "output_type": "execute_result"
    }
   ],
   "source": [
    "record8_warc = next(records_warc)\n",
    "record8_warc.rec_type, record8_warc.rec_headers.get_header('WARC-Target-URI')"
   ]
  },
  {
   "cell_type": "code",
   "execution_count": 36,
   "metadata": {},
   "outputs": [
    {
     "data": {
      "text/plain": [
       "('response', 'http://05rjo8c.cn/3871_6589_20220_659112/535091.html')"
      ]
     },
     "execution_count": 36,
     "metadata": {},
     "output_type": "execute_result"
    }
   ],
   "source": [
    "record9_warc = next(records_warc)\n",
    "record9_warc.rec_type, record9_warc.rec_headers.get_header('WARC-Target-URI')"
   ]
  },
  {
   "cell_type": "code",
   "execution_count": 37,
   "metadata": {},
   "outputs": [
    {
     "data": {
      "text/plain": [
       "('metadata', 'http://05rjo8c.cn/3871_6589_20220_659112/535091.html')"
      ]
     },
     "execution_count": 37,
     "metadata": {},
     "output_type": "execute_result"
    }
   ],
   "source": [
    "record10_warc = next(records_warc)\n",
    "record10_warc.rec_type, record10_warc.rec_headers.get_header('WARC-Target-URI')"
   ]
  },
  {
   "cell_type": "markdown",
   "metadata": {},
   "source": [
    "### 7. And the next"
   ]
  },
  {
   "cell_type": "code",
   "execution_count": 38,
   "metadata": {},
   "outputs": [
    {
     "data": {
      "text/plain": [
       "('request', 'http://07528888888.com.cn/index.php/product/4483.html')"
      ]
     },
     "execution_count": 38,
     "metadata": {},
     "output_type": "execute_result"
    }
   ],
   "source": [
    "record11_warc = next(records_warc)\n",
    "record11_warc.rec_type, record11_warc.rec_headers.get_header('WARC-Target-URI')"
   ]
  },
  {
   "cell_type": "code",
   "execution_count": 39,
   "metadata": {},
   "outputs": [
    {
     "data": {
      "text/plain": [
       "('response', 'http://07528888888.com.cn/index.php/product/4483.html')"
      ]
     },
     "execution_count": 39,
     "metadata": {},
     "output_type": "execute_result"
    }
   ],
   "source": [
    "record12_warc = next(records_warc)\n",
    "record12_warc.rec_type, record12_warc.rec_headers.get_header('WARC-Target-URI')"
   ]
  },
  {
   "cell_type": "code",
   "execution_count": 40,
   "metadata": {},
   "outputs": [
    {
     "data": {
      "text/plain": [
       "('metadata', 'http://07528888888.com.cn/index.php/product/4483.html')"
      ]
     },
     "execution_count": 40,
     "metadata": {},
     "output_type": "execute_result"
    }
   ],
   "source": [
    "record13_warc = next(records_warc)\n",
    "record13_warc.rec_type, record13_warc.rec_headers.get_header('WARC-Target-URI')"
   ]
  },
  {
   "cell_type": "markdown",
   "metadata": {},
   "source": [
    "### 8. And so on"
   ]
  },
  {
   "cell_type": "code",
   "execution_count": 41,
   "metadata": {},
   "outputs": [],
   "source": [
    "r_warc.close()"
   ]
  },
  {
   "cell_type": "markdown",
   "metadata": {},
   "source": [
    "# Reading WET"
   ]
  },
  {
   "cell_type": "code",
   "execution_count": 42,
   "metadata": {},
   "outputs": [],
   "source": [
    "r_wet = requests.get(wet_url, stream=True)\n",
    "records_wet = ArchiveIterator(r_wet.raw)"
   ]
  },
  {
   "cell_type": "markdown",
   "metadata": {},
   "source": [
    "First record is information about the crawl"
   ]
  },
  {
   "cell_type": "code",
   "execution_count": 43,
   "metadata": {},
   "outputs": [],
   "source": [
    "record1_wet = next(records_wet)"
   ]
  },
  {
   "cell_type": "code",
   "execution_count": 44,
   "metadata": {},
   "outputs": [
    {
     "data": {
      "text/plain": [
       "'warcinfo'"
      ]
     },
     "execution_count": 44,
     "metadata": {},
     "output_type": "execute_result"
    }
   ],
   "source": [
    "record1_wet.rec_type"
   ]
  },
  {
   "cell_type": "code",
   "execution_count": 45,
   "metadata": {},
   "outputs": [],
   "source": [
    "a1_wet = record1_wet.content_stream().read()"
   ]
  },
  {
   "cell_type": "code",
   "execution_count": 46,
   "metadata": {},
   "outputs": [
    {
     "name": "stdout",
     "output_type": "stream",
     "text": [
      "Software-Info: ia-web-commons.1.1.10-SNAPSHOT-20210112092133\r\n",
      "Extracted-Date: Tue, 02 Feb 2021 10:23:32 GMT\r\n",
      "robots: checked via crawler-commons 1.2-SNAPSHOT (https://github.com/crawler-commons/crawler-commons)\r\n",
      "isPartOf: CC-MAIN-2021-04\r\n",
      "operator: Common Crawl Admin (info@commoncrawl.org)\r\n",
      "description: Wide crawl of the web for January 2021\r\n",
      "publisher: Common Crawl\r\n",
      "\r\n",
      "\n"
     ]
    }
   ],
   "source": [
    "print(a1_wet.decode('utf-8'))"
   ]
  },
  {
   "cell_type": "markdown",
   "metadata": {},
   "source": [
    "### 1. The WET file doesn't contain the headers just the `title` and `text`."
   ]
  },
  {
   "cell_type": "code",
   "execution_count": 47,
   "metadata": {},
   "outputs": [],
   "source": [
    "record2_wet = next(records_wet)"
   ]
  },
  {
   "cell_type": "code",
   "execution_count": 48,
   "metadata": {},
   "outputs": [
    {
     "data": {
      "text/plain": [
       "'conversion'"
      ]
     },
     "execution_count": 48,
     "metadata": {},
     "output_type": "execute_result"
    }
   ],
   "source": [
    "record2_wet.rec_type"
   ]
  },
  {
   "cell_type": "code",
   "execution_count": 49,
   "metadata": {},
   "outputs": [
    {
     "data": {
      "text/plain": [
       "[('WARC-Type', 'conversion'),\n",
       " ('WARC-Target-URI', 'http://006655e.com/a/137338_com/1227.html'),\n",
       " ('WARC-Date', '2021-01-28T16:07:26Z'),\n",
       " ('WARC-Record-ID', '<urn:uuid:8f604c56-3ec3-4330-9fc5-f8c58385ee26>'),\n",
       " ('WARC-Refers-To', '<urn:uuid:f4c525de-b5c5-4f1a-adbf-8d937eaa8061>'),\n",
       " ('WARC-Block-Digest', 'sha1:4PD4NBQBIFRWCSM527TWPMOCY5P2CUKR'),\n",
       " ('WARC-Identified-Content-Language', 'zho'),\n",
       " ('Content-Type', 'text/plain'),\n",
       " ('Content-Length', '2767')]"
      ]
     },
     "execution_count": 49,
     "metadata": {},
     "output_type": "execute_result"
    }
   ],
   "source": [
    "record2_wet.rec_headers.headers"
   ]
  },
  {
   "cell_type": "code",
   "execution_count": 50,
   "metadata": {},
   "outputs": [],
   "source": [
    "record2_wet.http_headers"
   ]
  },
  {
   "cell_type": "code",
   "execution_count": 51,
   "metadata": {},
   "outputs": [],
   "source": [
    "a2_wet = record2_wet.content_stream().read()"
   ]
  },
  {
   "cell_type": "markdown",
   "metadata": {},
   "source": [
    "### 2. The first line is the `title` of the page, everything else is the `text`."
   ]
  },
  {
   "cell_type": "code",
   "execution_count": 52,
   "metadata": {},
   "outputs": [
    {
     "name": "stdout",
     "output_type": "stream",
     "text": [
      "本港开奖直播现场比上年同期多4146亿元br 导致_神灯论坛,www.006655.com,香港马会资料大全,白小姐独家四不象007,港龙神算网永久域算ww6882,137338.com,www.00475.com\n",
      "网站首页\n",
      "神灯论坛\n",
      "www.006655.com\n",
      "香港马会资料大全\n",
      "白小姐独家四不象007\n",
      "港龙神算网永久域算ww6882\n",
      "137338.com\n",
      "www.00475.com\n",
      "栏目导航\n",
      "神灯论坛 www.006655.com 香港马会资料大全 白小姐独家四不象007 港龙神算网永久域算ww6882 137338.com www.00475.com\n",
      "滚动新闻\n",
      "重庆未来楼市怎样房地产是否还\n",
      "本港台开奖成果直播这就是购房\n",
      "白小姐四肖必选一肖让你怀才不\n",
      "在线本港台直播光电能中央热水\n",
      "www.684000.com中央热水器的功\n",
      "水星是太阳系8大行星中体积最\n",
      "叩富网同城理财是做什么的？想\n",
      "六开彩开奖结果现在办企业能够\n",
      "重庆检方：四种利用虚假房产信\n",
      "藏宝图QQ头像的尺寸是多少？\n",
      "上海票据交易所领导班子国庆节\n",
      "www.47748.com重庆楼市_重庆房\n",
      "抚顺市第四医院为鼓励军嫂自拍\n",
      "上海票据交易所\n",
      "中央热水器是什么？管家婆彩图\n",
      "137338.com\n",
      "当前位置：主页 > 137338.com >\n",
      "本港开奖直播现场比上年同期多4146亿元br 导致\n",
      "发布日期:2020-01-11 12:42 来源:未知 阅读: 次\n",
      "比上年同期多4146亿元。\n",
      "导致银行负债端本钱晋升。就这样猝不迭防地来了。雪天起雾也精力。假如公然职工薪酬，该单位之所以这么做，本次会议由嘀嗒出行承办。记者从国度卫生计生委获悉,小鱼儿主页马会开将，中共北京市委、北京市国民政府代表全市人民向受灾地域人民表现深切慰劳，也能很好的辅助调节不良习惯，刷牙不要过快也不要过慢。\n",
      "持续3个月位于临界点以下，旁边投入价钱指数为53.就可能印证这个谜底了。哪怕已经是国家奖学金取得者，海外获得本科以上学位都能够直接落户。3、统一单位缴满六个月社保，爱吾及吾金光华广场上，五大主题打卡点……从人民公园散步到人民南商圈，例如退出《中导条约》、对《新削减战略武器公约》不满、宣布新的核策略、导弹防备、国防保险等文件，新型的小当量核武器、或可控当量核兵器等新型核武器体系的呈现可能性增添。\n",
      "更是直接表白了扫兴跟反对。奥巴马发展经济的主要举动就是推\n"
     ]
    }
   ],
   "source": [
    "print(a2_wet.decode('utf-8')[:1000])"
   ]
  },
  {
   "cell_type": "code",
   "execution_count": 53,
   "metadata": {},
   "outputs": [
    {
     "data": {
      "text/plain": [
       "'本港开奖直播现场比上年同期多4146亿元br 导致_神灯论坛,www.006655.com,香港马会资料大全,白小姐独家四不象007,港龙神算网永久域算ww6882,137338.com,www.00475.com\\n网站首页\\n神灯论坛\\nwww.006655.com\\n香港马会资料大全\\n白小姐独家四不象007\\n港龙神算网永久域算ww6882\\n137338.com\\nwww.00475.com\\n栏目导航\\n神灯论坛 www.006655.com 香港马会资料大全 白小姐独家四不象007 港龙神算网永久域算ww6882 137338.com www.00475.com\\n滚动新闻\\n重庆未来楼市怎样房地产是否还\\n本港台开奖成果直播这就是购房\\n白小姐四肖必选一肖让你怀才不\\n在线本港台直播光电能中央热水\\nwww.684000.com中央热水器的功\\n水星是太阳系8大行星中体积最\\n叩富网同城理财是做什么的？想\\n六开彩开奖结果现在办企业能够\\n重庆检方：四种利用虚假房产信\\n藏宝图QQ头像的尺寸是多少？\\n上海票据交易所领导班子国庆节\\nwww.47748.com重庆楼市_重庆房\\n抚顺市第四医院为鼓励军嫂自拍\\n上海票据交易所\\n中央热水器是什么？管家婆彩图\\n137338.com\\n当前位置：主页 &gt; 137338.com &gt;\\n本港开奖直播现场比上年同期多4146亿元br 导致\\n发布日期:2020-01-11 12:42 来源:未知 阅读: 次\\n比上年同期多4146亿元。\\n导致银行负债端本钱晋升。就这样猝不迭防地来了。雪天起雾也精力。假如公然职工薪酬，该单位之所以这么做，本次会议由嘀嗒出行承办。记者从国度卫生计生委获悉,小鱼儿主页马会开将，中共北京市委、北京市国民政府代表全市人民向受灾地域人民表现深切慰劳，也能很好的辅助调节不良习惯，刷牙不要过快也不要过慢。\\n持续3个月位于临界点以下，旁边投入价钱指数为53.就可能印证这个谜底了。哪怕已经是国家奖学金取得者，海外获得本科以上学位都能够直接落户。3、统一单位缴满六个月社保，爱吾及吾金光华广场上，五大主题打卡点……从人民公园散步到人民南商圈，例如退出《中导条约》、对《新削减战略武器公约》不满、宣布新的核策略、导弹防备、国防保险等文件，新型的小当量核武器、或可控当量核兵器等新型核武器体系的呈现可能性增添。\\n更是直接表白了扫兴跟反对。奥巴马发展经济的主要举动就是推动美国的互联网企业敏捷成长，达军凭借娴熟的战术动作，有时候浅尝辄止，爱好就记得关注哦！唐天宇与袁一帆同圈进站。终极，徒留让人诟病的话柄。而实际上。\\n上一篇：白小姐盘算从新在汽车范畴进行尝试国外的设计公司\\n下一篇：没有了\\nPower by DedeCms\\n'"
      ]
     },
     "execution_count": 53,
     "metadata": {},
     "output_type": "execute_result"
    }
   ],
   "source": [
    "soup_wet = BeautifulSoup(a2_wet.decode('utf-8', errors='ignore'), 'html.parser')\n",
    "str(soup_wet)"
   ]
  },
  {
   "cell_type": "code",
   "execution_count": 54,
   "metadata": {},
   "outputs": [
    {
     "data": {
      "text/plain": [
       "'conversion'"
      ]
     },
     "execution_count": 54,
     "metadata": {},
     "output_type": "execute_result"
    }
   ],
   "source": [
    "record3_wet = next(records_wet)\n",
    "record3_wet.rec_type"
   ]
  },
  {
   "cell_type": "code",
   "execution_count": 55,
   "metadata": {},
   "outputs": [
    {
     "data": {
      "text/plain": [
       "'http://01-news.ru/sport/apl-prodlila-pauzu-v-sezone/'"
      ]
     },
     "execution_count": 55,
     "metadata": {},
     "output_type": "execute_result"
    }
   ],
   "source": [
    "record3_wet.rec_headers.get_header('WARC-Target-URI')"
   ]
  },
  {
   "cell_type": "code",
   "execution_count": 56,
   "metadata": {},
   "outputs": [],
   "source": [
    "a3_wet = record3_wet.content_stream().read()"
   ]
  },
  {
   "cell_type": "markdown",
   "metadata": {},
   "source": [
    "### 3. This page seems to be broken PHP?"
   ]
  },
  {
   "cell_type": "code",
   "execution_count": 57,
   "metadata": {},
   "outputs": [
    {
     "name": "stdout",
     "output_type": "stream",
     "text": [
      "АПЛ продлила паузу в сезоне\n",
      "НЕ ПРОПУСТИ\n",
      "Конте принял решение о будущем Эриксена\n",
      "Татьяна Волосожар сообщила о беременности\n",
      "Кокорин посмотрел тренировку «Фиорентины» и пообщался с Рибери (видео)\n",
      "Ничушкин забил в меньшинстве! Обокрал соперника и «завёз» шайбу в ворота\n",
      "Вратарь «Рубина» Городовой на правах субаренды перешел в «СКА-Хабаровск»\n",
      "На Халка претендует сразу несколько клубов\n",
      "Косторная объяснила, почему не будет участвовать в Кубке Первого канала\n",
      "Пониженный гемоглобин — симптомы и лечение\n",
      "Густая кровь: 5 продуктов, которые этого не допустят\n",
      "Раскрыты подробности переговоров Хабиба и президента UFC\n",
      "НОВОСТНОЙ ЖУРНАЛ\n",
      "Главная\n",
      "АВТО\n",
      "НАУКА\n",
      "ЗДОРОВЬЕ\n",
      "КУЛЬТУРА\n",
      "ПОЛИТИКА\n",
      "СПОРТ\n",
      "ФИНАНСЫ\n",
      "ЭКОНОМИКА\n",
      "Главная » СПОРТ » АПЛ продлила паузу в сезоне\n",
      "АПЛ продлила паузу в сезоне\n",
      "Фото:\n",
      "Michael Regan / Getty Images\n",
      "Все новости на карте\n",
      "Английская премьер-лига (АПЛ) не возобновит сезон-2019/2020 в начале мая. Пауза в чемпионате продлена на неопределенный срок, говорится в заявлении лиги.\n",
      "«АПЛ вернется, когда э\n"
     ]
    }
   ],
   "source": [
    "print(a3_wet.decode('utf-8')[:1000])"
   ]
  },
  {
   "cell_type": "code",
   "execution_count": 58,
   "metadata": {},
   "outputs": [
    {
     "data": {
      "text/plain": [
       "'АПЛ продлила паузу в сезоне\\nНЕ ПРОПУСТИ\\nКонте принял решение о будущем Эриксена\\nТатьяна Волосожар сообщила о беременности\\nКокорин посмотрел тренировку «Фиорентины» и пообщался с Рибери (видео)\\nНичушкин забил в меньшинстве! Обокрал соперника и «завёз» шайбу в ворота\\nВратарь «Рубина» Городовой на правах субаренды перешел в «СКА-Хабаровск»\\nНа Халка претендует сразу несколько клубов\\nКосторная объяснила, почему не будет участвовать в Кубке Первого канала\\nПониженный гемоглобин — симптомы и лечение\\nГустая кровь: 5 продуктов, которые этого не допустят\\nРаскрыты подробности переговоров Хабиба и президента UFC\\nНОВОСТНОЙ ЖУРНАЛ\\nГлавная\\nАВТО\\nНАУКА\\nЗДОРОВЬЕ\\nКУЛЬТУРА\\nПОЛИТИКА\\nСПОРТ\\nФИНАНСЫ\\nЭКОНОМИКА\\nГлавная » СПОРТ » АПЛ продлила паузу в сезоне\\nАПЛ продлила паузу в сезоне\\nФото:\\nMichael Regan / Getty Images\\nВсе новости на карте\\nАнглийская премьер-лига (АПЛ) не возобновит сезон-2019/2020 в начале мая. Пауза в чемпионате продлена на неопределенный срок, говорится в заявлении лиги.\\n«АПЛ вернется, когда это будет безопасно и уместно», — отмечается в тексте.\\nтурниров не пройдет без поддержки британского правительства и согласия медиков-экспертов.\\n13 марта АПЛ приостановила сезон из-за развития пандемии коронавирусной инфекции. Перед паузой в чемпионате лидером являлся «Ливерпуль». Команда Юргена Клоппа опережала «Манчестер Сити» на 25 очков. По информации The Sun, в АПЛ рассматривали возможность доиграть оставшиеся 92 матча на нескольких аренах и без зрителей.\\nПо состоянию на 3 апреля в Великобритании зафиксировано более 38 тысяч случаев заражения коронавирусом. Число умерших от заболевания достигло 3 605 человек.\\nИсточник\\n2020-04-05\\nadmin\\nПредыдущий Российский футболист испугался «боли» от сокращения зарплаты\\nСледующий Роналду отложит открытие гостиницы в Мадриде из-за коронавируса\\nЧитайте также\\nКонте принял решение о будущем Эриксена\\n27.01.2021\\nТатьяна Волосожар сообщила о беременности\\n27.01.2021\\nКокорин посмотрел тренировку «Фиорентины» и пообщался с Рибери (видео)\\n27.01.2021\\nОставить комментарий Отменить написание\\nВы должны быть залогиненыдля комментирования\\nКонте принял решение о будущем Эриксена\\nТатьяна Волосожар сообщила о беременности\\nКокорин посмотрел тренировку «Фиорентины» и пообщался с Рибери (видео)\\nНичушкин забил в меньшинстве! Обокрал соперника и «завёз» шайбу в ворота\\nВратарь «Рубина» Городовой на правах субаренды перешел в «СКА-Хабаровск»\\nСЕЙЧАС ЧИТАЮТ\\nДвукратный чемпион мира в сноуборд-кроссе Пуллин погиб у берегов Австралии\\n09.07.2020\\nНовак заявил о возможности Allseas достроить «Северный поток-2»\\n29.12.2019\\n«Олег Евгеньевич» Линары Багаутдиновой — онлайн-премьера\\n09.10.2018\\nРосстат отчитался об ускорении экономики почти в два раза\\n18.11.2019\\nАПЛ продлила паузу в сезоне\\n05.04.2020\\nНовости в картинках\\t\\nКАЛЕНДАРЬ\\nЯнварь 2021\\nПн\\nВт\\nСр\\nЧт\\nПт\\nСб\\nВс\\n« Дек\\n1 2 3\\n4 5 6 7 8 9 10\\n11 12 13 14 15 16 17\\n18 19 20 21 22 23 24\\n25 26 27 28 29 30 31\\nСтраницы\\nкарта сайта\\nобратная связь\\nФИНАНСЫ\\nВсе материалы на данном сайте взяты из открытых источников - имеют обратную ссылку на материал в интернете или присланы посетителями сайта и предоставляются исключительно в ознакомительных целях. Права на материалы принадлежат их владельцам. Администрация сайта ответственности за содержание материала не несет. Если Вы обнаружили на нашем сайте материалы, которые нарушают авторские права, принадлежащие Вам, Вашей компании или организации, пожалуйста, сообщите нам.\\n© 2018. Все права защищены\\n'"
      ]
     },
     "execution_count": 58,
     "metadata": {},
     "output_type": "execute_result"
    }
   ],
   "source": [
    "soup2_wet = BeautifulSoup(a3_wet.decode('utf-8', errors='ignore'), 'html.parser')\n",
    "str(soup2_wet)"
   ]
  },
  {
   "cell_type": "markdown",
   "metadata": {},
   "source": [
    "### 4. And the next page"
   ]
  },
  {
   "cell_type": "code",
   "execution_count": 59,
   "metadata": {},
   "outputs": [
    {
     "data": {
      "text/plain": [
       "'conversion'"
      ]
     },
     "execution_count": 59,
     "metadata": {},
     "output_type": "execute_result"
    }
   ],
   "source": [
    "record4_wet = next(records_wet)\n",
    "record4_wet.rec_type"
   ]
  },
  {
   "cell_type": "code",
   "execution_count": 60,
   "metadata": {},
   "outputs": [
    {
     "data": {
      "text/plain": [
       "'http://05rjo8c.cn/3871_6589_20220_659112/535091.html'"
      ]
     },
     "execution_count": 60,
     "metadata": {},
     "output_type": "execute_result"
    }
   ],
   "source": [
    "record4_wet.rec_headers.get_header('WARC-Target-URI')"
   ]
  },
  {
   "cell_type": "code",
   "execution_count": 61,
   "metadata": {},
   "outputs": [],
   "source": [
    "a4_wet = record4_wet.content_stream().read()"
   ]
  },
  {
   "cell_type": "markdown",
   "metadata": {},
   "source": [
    "### 5. More text"
   ]
  },
  {
   "cell_type": "code",
   "execution_count": 62,
   "metadata": {},
   "outputs": [
    {
     "name": "stdout",
     "output_type": "stream",
     "text": [
      "欧美激情幼幼片,内射大奶女教师,波波妹百度云分享\n",
      "歡迎光臨上海蘇鵬實業有限公司！\n",
      "收藏本頁\n",
      "上海愛慧氏科學儀器有限公司\n",
      "021-58482099\n",
      "首頁\n",
      "關于我們\n",
      "產品展示\n",
      "市場與服務\n",
      "新聞中心\n",
      "聯系我們\n",
      "英文版Engilsh\n",
      "聯系我們\n",
      "地址：上海市浦s4d6s54號\n",
      "郵編：200137\n",
      "電話：122437985952\n",
      "傳真：44654654\n",
      "郵箱：\n",
      "首頁>> 新聞中心\n",
      "欧美激情幼幼片,内射大奶女教师,波波妹百度云分享\n",
      "4月2日，潘石屹發本站說：昨天，我和王寶強、陳蓉、郭碧婷 在十七道溝村一起做黑山豬，在農民家的柴火鍋裏做豬肉炖粉條，王寶強主廚，我切肉燒火。說到這裏，你可能就明白了，王寶強1984年出生于河北省邢台市南和縣賈宋鎮大會塔村，是地地道道的貧困出身，在童年就像其他農村孩子一樣不被人關注。在母親的記憶中，王寶強的衣裳都是撿他哥哥姐姐剩下的。所以王寶強回家看父親也是理所當然，就像打大衣哥朱之文一樣，不忘本，出身于農村，雖然成爲了大明星，但卻沒有忘記自己來自農村。一到農村就如魚得水。現在看來，此話不假。王寶強在農村很開心，并沒有像一些人那樣做作，強調農村的不衛生。是中國最出色的草根明星。潘石屹說：我心中的中國菜得有蔥姜蒜炝鍋，可是這三樣一樣都沒有。王寶強到了河北就到了他的老家，沒有任何的陌生感和違和感，就像到了他家裏一樣，指揮着我們。2018年2月，其參演的電影《唐人街探案2》在中國大陸上映。3月26日，第九屆中國電影金掃帚獎在北京頒獎，王寶強憑處女作《大鬧天竺》獲得最令人失望導演獎。他在現場領取了“最令人失望導演”，并表示“感謝金掃帚給我這樣一個機會，讓我跟觀衆說一句對不起�欧美激情幼幼片��。由此可見，王寶強是個多麽有擔當的男人，就這樣馬蓉還背叛，出軌。2016年8月，王寶強在本站發布聲明，稱馬蓉與經紀人宋喆發生婚外不正當兩性關系，鄭重決定解除與妻子馬蓉的婚姻關系，同時解除宋喆經紀人的職務。而寶寶工作也還是對員工很盡職，帶着員工去國外玩呢。而在今年2月13日，馬蓉發文表示不認同法院對王寶強離婚案判決，将會提起上訴。看來寶寶的一生就壞在這個女人身上了，不過做自己就好。\n",
      "10月9日，孫俪[本站]正在本身本站上傳一張談天截圖，并配文稱：“可惡的mm早上用姨媽賬号給我發語音提示爾，本�内射大奶女教师�月朔要食齋。”她借配上淺笑臉色，看起來非常高興。小花mm也是很知心了\n"
     ]
    }
   ],
   "source": [
    "print(a4_wet.decode('utf-8')[:1000])"
   ]
  },
  {
   "cell_type": "code",
   "execution_count": 63,
   "metadata": {},
   "outputs": [
    {
     "data": {
      "text/plain": [
       "'欧美激情幼幼片,内射大奶女教师,波波妹百度云分享\\n歡迎光臨上海蘇鵬實業有限公司！\\n收藏本頁\\n上海愛慧氏科學儀器有限公司\\n021-58482099\\n首頁\\n關于我們\\n產品展示\\n市場與服務\\n新聞中心\\n聯系我們\\n英文版Engilsh\\n聯系我們\\n地址：上海市浦s4d6s54號\\n郵編：200137\\n電話：122437985952\\n傳真：44654654\\n郵箱：\\n首頁&gt;&gt; 新聞中心\\n欧美激情幼幼片,内射大奶女教师,波波妹百度云分享\\n4月2日，潘石屹發本站說：昨天，我和王寶強、陳蓉、郭碧婷 在十七道溝村一起做黑山豬，在農民家的柴火鍋裏做豬肉炖粉條，王寶強主廚，我切肉燒火。說到這裏，你可能就明白了，王寶強1984年出生于河北省邢台市南和縣賈宋鎮大會塔村，是地地道道的貧困出身，在童年就像其他農村孩子一樣不被人關注。在母親的記憶中，王寶強的衣裳都是撿他哥哥姐姐剩下的。所以王寶強回家看父親也是理所當然，就像打大衣哥朱之文一樣，不忘本，出身于農村，雖然成爲了大明星，但卻沒有忘記自己來自農村。一到農村就如魚得水。現在看來，此話不假。王寶強在農村很開心，并沒有像一些人那樣做作，強調農村的不衛生。是中國最出色的草根明星。潘石屹說：我心中的中國菜得有蔥姜蒜炝鍋，可是這三樣一樣都沒有。王寶強到了河北就到了他的老家，沒有任何的陌生感和違和感，就像到了他家裏一樣，指揮着我們。2018年2月，其參演的電影《唐人街探案2》在中國大陸上映。3月26日，第九屆中國電影金掃帚獎在北京頒獎，王寶強憑處女作《大鬧天竺》獲得最令人失望導演獎。他在現場領取了“最令人失望導演”，并表示“感謝金掃帚給我這樣一個機會，讓我跟觀衆說一句對不起�欧美激情幼幼片��。由此可見，王寶強是個多麽有擔當的男人，就這樣馬蓉還背叛，出軌。2016年8月，王寶強在本站發布聲明，稱馬蓉與經紀人宋喆發生婚外不正當兩性關系，鄭重決定解除與妻子馬蓉的婚姻關系，同時解除宋喆經紀人的職務。而寶寶工作也還是對員工很盡職，帶着員工去國外玩呢。而在今年2月13日，馬蓉發文表示不認同法院對王寶強離婚案判決，将會提起上訴。看來寶寶的一生就壞在這個女人身上了，不過做自己就好。\\n10月9日，孫俪[本站]正在本身本站上傳一張談天截圖，并配文稱：“可惡的mm早上用姨媽賬号給我發語音提示爾，本�内射大奶女教师�月朔要食齋。”她借配上淺笑臉色，看起來非常高興。小花mm也是很知心了。随後，舒淇[本站]轉發本站稱：“那小秘書實孬。”\\u3000網友紛紛表示：“小花mm當初是佛系奼女了。”“小天使自己！”“遺傳了媽媽的攝生經！”(責編：麥子七)\\n近幾年韓流的影響範圍不隻局限于亞洲，韓國偶像開始輸出全世界，不少西方人也開始看韓劇。相比于西方，中國人接觸韓國電視劇要早的多，小編盤點了幾部�波波妹百度云分享�期引進國内且比較有影響力的韓劇：家庭劇《愛情是什麽》于1991年在韓國播出，97年由中央電視台引進中國。該劇講述了韓國一個封建專制的家庭和一個自由民主的家庭結爲親家之後發生的一系列啼笑皆非的故事。《愛情是什麽》播出後在國内引起收視狂潮，因爲太受歡迎導緻許多觀衆紛紛要求重播，這部劇可以說是中國韓劇熱的一個開端。《漢城奇緣》于1999年在韓國播出，2001年引進國内。故事講述金喜善飾演的善良皮鞋設計師李漢妮處處遭同爲設計師的女二陷害設計，并且從中阻撓李漢妮與男一的感情，不過最終有情人終成眷屬。那個時候首爾的名字還是漢城，《漢城奇緣》國内播出時雖然十分受歡迎，但是影響力遠不及之後引進的韓劇《藍色生死戀》（《秋天的童話》），不過也是當時金喜善讓中國人開始有“韓國第一美女”這個概念。許多人把《藍色生死戀》誤當做韓劇《秋天的童話》，其實《藍色生死戀》是一個電視劇系列，《秋天的童話》是系列的其中一部，此外還有三部，因爲是該系列的第一部，所以《秋天的童話》原名直接就被忽略掉了。這部劇太過經典，即使隻有耳聞沒有真正看過的人應該也對劇情略知一二：男女主互相愛慕，但是女主最後得了不治之症離開人世。也因爲該劇在國内影響力太大，許多人誤認爲這是中國引進的第一部韓劇，不過這部确實是國内許多人的啓蒙韓劇，也是後來有人總結的“韓劇三寶”的起源。提到韓國情景劇可能許多人的第一反應是《搞笑一家人》，其實《順風婦産科》才是國内引進的第一部韓國情景劇，在國内風靡一時。劇情圍繞婦産科醫院以及院長的家庭展開故事，可以說是非常經典的一部韓國情景喜劇。這部劇中的喬妹飾演吳院長的小女兒，劇中性格叛逆任性，大姐的女兒美達表現也十分亮眼，而金素妍飾演的二姐顔值放到現在的娛樂圈也依舊能打，不過那個時候流行的口紅顔色似乎有點深了...當然，早期中國引進的韓劇還有很多，小編隻挑選了幾部比較有代表性，你們的啓蒙韓劇是哪一部呢？\\n相關新聞\\n2004年公司被認證為：上海市浦東新區企業技術開發機構\\n2003年公司通過了ISO9001:2000國際質量體系認證\\n質量方針：以市場為導向科技為依托\\n經營理念：科技為先 客戶第一\\n公司精神：爭創一流 造福社會\\n首頁\\n關于我們\\n產品展示\\n市場與服務\\n新聞中心\\n聯系我們\\n地址：上海fs564d號｜郵編：200137｜電話：3211374｜傳真：564564324｜郵箱：654\\n滬ICP備07501758號\\n網站地圖\\n'"
      ]
     },
     "execution_count": 63,
     "metadata": {},
     "output_type": "execute_result"
    }
   ],
   "source": [
    "soup3_wet = BeautifulSoup(a4_wet.decode('utf-8', errors='ignore'), 'html.parser')\n",
    "str(soup3_wet)"
   ]
  },
  {
   "cell_type": "code",
   "execution_count": 64,
   "metadata": {},
   "outputs": [],
   "source": [
    "r_wet.close()"
   ]
  },
  {
   "cell_type": "markdown",
   "metadata": {},
   "source": [
    "# Reading WAT"
   ]
  },
  {
   "cell_type": "code",
   "execution_count": 65,
   "metadata": {},
   "outputs": [],
   "source": [
    "r_wat = requests.get(wat_url, stream=True)\n",
    "records_wat = ArchiveIterator(r_wat.raw)"
   ]
  },
  {
   "cell_type": "markdown",
   "metadata": {},
   "source": [
    "### 1. Again the first record is a `header`"
   ]
  },
  {
   "cell_type": "code",
   "execution_count": 66,
   "metadata": {},
   "outputs": [],
   "source": [
    "record1_wat = next(records_wat)"
   ]
  },
  {
   "cell_type": "code",
   "execution_count": 67,
   "metadata": {},
   "outputs": [
    {
     "data": {
      "text/plain": [
       "'warcinfo'"
      ]
     },
     "execution_count": 67,
     "metadata": {},
     "output_type": "execute_result"
    }
   ],
   "source": [
    "record1_wat.rec_type"
   ]
  },
  {
   "cell_type": "code",
   "execution_count": 68,
   "metadata": {},
   "outputs": [
    {
     "name": "stdout",
     "output_type": "stream",
     "text": [
      "Software-Info: ia-web-commons.1.1.10-SNAPSHOT-20210112092133\r\n",
      "Extracted-Date: Tue, 02 Feb 2021 10:23:32 GMT\r\n",
      "ip: 10.67.67.172\r\n",
      "hostname: ip-10-67-67-172.ec2.internal\r\n",
      "format: WARC File Format 1.0\r\n",
      "conformsTo: http://bibnum.bnf.fr/WARC/WARC_ISO_28500_version1_latestdraft.pdf\r\n",
      "\r\n",
      "\n"
     ]
    }
   ],
   "source": [
    "a1_wat = record1_wat.content_stream().read()\n",
    "print(a1_wat.decode('utf-8'))"
   ]
  },
  {
   "cell_type": "markdown",
   "metadata": {},
   "source": [
    "### 2. The next one is `metadata` about the WARC records themselves"
   ]
  },
  {
   "cell_type": "code",
   "execution_count": 69,
   "metadata": {},
   "outputs": [],
   "source": [
    "record2_wat = next(records_wat)"
   ]
  },
  {
   "cell_type": "code",
   "execution_count": 70,
   "metadata": {},
   "outputs": [
    {
     "data": {
      "text/plain": [
       "'metadata'"
      ]
     },
     "execution_count": 70,
     "metadata": {},
     "output_type": "execute_result"
    }
   ],
   "source": [
    "record2_wat.rec_type"
   ]
  },
  {
   "cell_type": "code",
   "execution_count": 71,
   "metadata": {},
   "outputs": [
    {
     "data": {
      "text/plain": [
       "[('WARC-Type', 'metadata'),\n",
       " ('WARC-Target-URI', 'CC-MAIN-20210128134124-20210128164124-00799.warc.gz'),\n",
       " ('WARC-Date', '2021-02-02T10:23:32Z'),\n",
       " ('WARC-Record-ID', '<urn:uuid:fc296a35-2579-4d84-815b-e8c91e8dd137>'),\n",
       " ('WARC-Refers-To', '<urn:uuid:417d8ded-caa8-4bc1-b819-8f01e3632199>'),\n",
       " ('Content-Type', 'application/json'),\n",
       " ('Content-Length', '1238')]"
      ]
     },
     "execution_count": 71,
     "metadata": {},
     "output_type": "execute_result"
    }
   ],
   "source": [
    "record2_wat.rec_headers.headers"
   ]
  },
  {
   "cell_type": "code",
   "execution_count": 72,
   "metadata": {},
   "outputs": [],
   "source": [
    "record2_wat.http_headers"
   ]
  },
  {
   "cell_type": "code",
   "execution_count": 73,
   "metadata": {},
   "outputs": [],
   "source": [
    "a2_wat = record2_wat.content_stream().read()"
   ]
  },
  {
   "cell_type": "code",
   "execution_count": 74,
   "metadata": {},
   "outputs": [
    {
     "data": {
      "text/plain": [
       "{'Container': {'Filename': 'CC-MAIN-20210128134124-20210128164124-00799.warc.gz',\n",
       "  'Compressed': True,\n",
       "  'Offset': '0',\n",
       "  'Gzip-Metadata': {'Deflate-Length': '481',\n",
       "   'Header-Length': '10',\n",
       "   'Footer-Length': '8',\n",
       "   'Inflated-CRC': '1137911655',\n",
       "   'Inflated-Length': '765'}},\n",
       " 'Envelope': {'Payload-Metadata': {'Actual-Content-Length': '502',\n",
       "   'Block-Digest': 'sha1:WWAPEV5C2ZSXR7PKEPOWFOXFNDZ473W4',\n",
       "   'Trailing-Slop-Length': '0',\n",
       "   'Headers-Corrupt': True,\n",
       "   'Actual-Content-Type': 'application/warc-fields',\n",
       "   'WARC-Info-Metadata': {'isPartOf': 'CC-MAIN-2021-04',\n",
       "    'publisher': 'Common Crawl',\n",
       "    'description': 'Wide crawl of the web for January 2021',\n",
       "    'operator': 'Common Crawl Admin (info@commoncrawl.org)',\n",
       "    'hostname': 'ip-10-67-67-246.ec2.internal',\n",
       "    'software': 'Apache Nutch 1.17 (modified, https://github.com/commoncrawl/nutch/)',\n",
       "    'robots': 'checked via crawler-commons 1.2-SNAPSHOT (https://github.com/crawler-commons/crawler-commons)',\n",
       "    'format': 'WARC File Format 1.1'}},\n",
       "  'Format': 'WARC',\n",
       "  'WARC-Header-Length': '259',\n",
       "  'WARC-Header-Metadata': {'WARC-Type': 'warcinfo',\n",
       "   'WARC-Date': '2021-01-28T13:41:24Z',\n",
       "   'WARC-Record-ID': '<urn:uuid:417d8ded-caa8-4bc1-b819-8f01e3632199>',\n",
       "   'Content-Length': '502',\n",
       "   'Content-Type': 'application/warc-fields',\n",
       "   'WARC-Filename': 'CC-MAIN-20210128134124-20210128164124-00799.warc.gz'}}}"
      ]
     },
     "execution_count": 74,
     "metadata": {},
     "output_type": "execute_result"
    }
   ],
   "source": [
    "data1_wat = json.loads(a2_wat.decode('utf-8'))\n",
    "data1_wat"
   ]
  },
  {
   "cell_type": "markdown",
   "metadata": {},
   "source": [
    "### 3. The next request contains all the `metadata` of the first *request*"
   ]
  },
  {
   "cell_type": "code",
   "execution_count": 75,
   "metadata": {},
   "outputs": [],
   "source": [
    "record3_wat = next(records_wat)"
   ]
  },
  {
   "cell_type": "code",
   "execution_count": 76,
   "metadata": {},
   "outputs": [
    {
     "data": {
      "text/plain": [
       "'metadata'"
      ]
     },
     "execution_count": 76,
     "metadata": {},
     "output_type": "execute_result"
    }
   ],
   "source": [
    "record3_wat.rec_type"
   ]
  },
  {
   "cell_type": "code",
   "execution_count": 77,
   "metadata": {},
   "outputs": [
    {
     "data": {
      "text/plain": [
       "[('WARC-Type', 'metadata'),\n",
       " ('WARC-Target-URI', 'http://006655e.com/a/137338_com/1227.html'),\n",
       " ('WARC-Date', '2021-02-02T10:23:32Z'),\n",
       " ('WARC-Record-ID', '<urn:uuid:1c211ddb-24e6-4b7a-92a0-8d087a1300a8>'),\n",
       " ('WARC-Refers-To', '<urn:uuid:9b996c49-f53c-43db-9ce1-18f1f72679ee>'),\n",
       " ('Content-Type', 'application/json'),\n",
       " ('Content-Length', '1382')]"
      ]
     },
     "execution_count": 77,
     "metadata": {},
     "output_type": "execute_result"
    }
   ],
   "source": [
    "record3_wat.rec_headers.headers"
   ]
  },
  {
   "cell_type": "code",
   "execution_count": 78,
   "metadata": {},
   "outputs": [],
   "source": [
    "record3_wat.http_headers"
   ]
  },
  {
   "cell_type": "code",
   "execution_count": 79,
   "metadata": {},
   "outputs": [],
   "source": [
    "a3_wat = record3_wat.content_stream().read()"
   ]
  },
  {
   "cell_type": "markdown",
   "metadata": {},
   "source": [
    "### 4. Container shows `where` the WARC data is, this is about the request"
   ]
  },
  {
   "cell_type": "code",
   "execution_count": 80,
   "metadata": {},
   "outputs": [
    {
     "data": {
      "text/plain": [
       "{'Container': {'Filename': 'CC-MAIN-20210128134124-20210128164124-00799.warc.gz',\n",
       "  'Compressed': True,\n",
       "  'Offset': '481',\n",
       "  'Gzip-Metadata': {'Deflate-Length': '431',\n",
       "   'Header-Length': '10',\n",
       "   'Footer-Length': '8',\n",
       "   'Inflated-CRC': '151536073',\n",
       "   'Inflated-Length': '632'}},\n",
       " 'Envelope': {'Payload-Metadata': {'Actual-Content-Type': 'application/http; msgtype=request',\n",
       "   'HTTP-Request-Metadata': {'Request-Message': {'Method': 'GET',\n",
       "     'Path': '/a/137338_com/1227.html',\n",
       "     'Version': 'HTTP/1.1'},\n",
       "    'Headers-Length': '267',\n",
       "    'Headers': {'User-Agent': 'CCBot/2.0 (https://commoncrawl.org/faq/)',\n",
       "     'Accept': 'text/html,application/xhtml+xml,application/xml;q=0.9,*/*;q=0.8',\n",
       "     'Accept-Language': 'en-US,en;q=0.5',\n",
       "     'Accept-Encoding': 'br,gzip',\n",
       "     'Host': '006655e.com',\n",
       "     'Connection': 'Keep-Alive'},\n",
       "    'Entity-Length': '0',\n",
       "    'Entity-Digest': 'sha1:3I42H3S6NNFQ2MSVX7XZKYAYSCX5QBYJ',\n",
       "    'Entity-Trailing-Slop-Length': '0'},\n",
       "   'Actual-Content-Length': '269',\n",
       "   'Block-Digest': 'sha1:UXL4YVXNV3UXFRPLTHLDPZR65IGIIKM2',\n",
       "   'Trailing-Slop-Length': '4'},\n",
       "  'Format': 'WARC',\n",
       "  'WARC-Header-Length': '359',\n",
       "  'WARC-Header-Metadata': {'WARC-Type': 'request',\n",
       "   'WARC-Date': '2021-01-28T16:07:26Z',\n",
       "   'WARC-Record-ID': '<urn:uuid:9b996c49-f53c-43db-9ce1-18f1f72679ee>',\n",
       "   'Content-Length': '269',\n",
       "   'Content-Type': 'application/http; msgtype=request',\n",
       "   'WARC-Warcinfo-ID': '<urn:uuid:417d8ded-caa8-4bc1-b819-8f01e3632199>',\n",
       "   'WARC-IP-Address': '23.82.163.220',\n",
       "   'WARC-Target-URI': 'http://006655e.com/a/137338_com/1227.html'}}}"
      ]
     },
     "execution_count": 80,
     "metadata": {},
     "output_type": "execute_result"
    }
   ],
   "source": [
    "data2_wat = json.loads(a3_wat.decode('utf-8'))\n",
    "data2_wat"
   ]
  },
  {
   "cell_type": "markdown",
   "metadata": {},
   "source": [
    "### 5. Notice it's `HTTP-Request-Metadata`"
   ]
  },
  {
   "cell_type": "code",
   "execution_count": 81,
   "metadata": {},
   "outputs": [
    {
     "data": {
      "text/plain": [
       "{'Payload-Metadata': {'Actual-Content-Type': 'application/http; msgtype=request',\n",
       "  'HTTP-Request-Metadata': {'Request-Message': {'Method': 'GET',\n",
       "    'Path': '/a/137338_com/1227.html',\n",
       "    'Version': 'HTTP/1.1'},\n",
       "   'Headers-Length': '267',\n",
       "   'Headers': {'User-Agent': 'CCBot/2.0 (https://commoncrawl.org/faq/)',\n",
       "    'Accept': 'text/html,application/xhtml+xml,application/xml;q=0.9,*/*;q=0.8',\n",
       "    'Accept-Language': 'en-US,en;q=0.5',\n",
       "    'Accept-Encoding': 'br,gzip',\n",
       "    'Host': '006655e.com',\n",
       "    'Connection': 'Keep-Alive'},\n",
       "   'Entity-Length': '0',\n",
       "   'Entity-Digest': 'sha1:3I42H3S6NNFQ2MSVX7XZKYAYSCX5QBYJ',\n",
       "   'Entity-Trailing-Slop-Length': '0'},\n",
       "  'Actual-Content-Length': '269',\n",
       "  'Block-Digest': 'sha1:UXL4YVXNV3UXFRPLTHLDPZR65IGIIKM2',\n",
       "  'Trailing-Slop-Length': '4'},\n",
       " 'Format': 'WARC',\n",
       " 'WARC-Header-Length': '359',\n",
       " 'WARC-Header-Metadata': {'WARC-Type': 'request',\n",
       "  'WARC-Date': '2021-01-28T16:07:26Z',\n",
       "  'WARC-Record-ID': '<urn:uuid:9b996c49-f53c-43db-9ce1-18f1f72679ee>',\n",
       "  'Content-Length': '269',\n",
       "  'Content-Type': 'application/http; msgtype=request',\n",
       "  'WARC-Warcinfo-ID': '<urn:uuid:417d8ded-caa8-4bc1-b819-8f01e3632199>',\n",
       "  'WARC-IP-Address': '23.82.163.220',\n",
       "  'WARC-Target-URI': 'http://006655e.com/a/137338_com/1227.html'}}"
      ]
     },
     "execution_count": 81,
     "metadata": {},
     "output_type": "execute_result"
    }
   ],
   "source": [
    "data2_wat['Envelope']"
   ]
  },
  {
   "cell_type": "markdown",
   "metadata": {},
   "source": [
    "### 6. And the next one is about the `response`"
   ]
  },
  {
   "cell_type": "code",
   "execution_count": 82,
   "metadata": {},
   "outputs": [],
   "source": [
    "record4_wat = next(records_wat)"
   ]
  },
  {
   "cell_type": "code",
   "execution_count": 83,
   "metadata": {},
   "outputs": [
    {
     "data": {
      "text/plain": [
       "'metadata'"
      ]
     },
     "execution_count": 83,
     "metadata": {},
     "output_type": "execute_result"
    }
   ],
   "source": [
    "record4_wat.rec_type"
   ]
  },
  {
   "cell_type": "code",
   "execution_count": 84,
   "metadata": {},
   "outputs": [
    {
     "data": {
      "text/plain": [
       "[('WARC-Type', 'metadata'),\n",
       " ('WARC-Target-URI', 'http://006655e.com/a/137338_com/1227.html'),\n",
       " ('WARC-Date', '2021-02-02T10:23:32Z'),\n",
       " ('WARC-Record-ID', '<urn:uuid:7b9daff9-7c0e-4d36-8add-c0f38154f836>'),\n",
       " ('WARC-Refers-To', '<urn:uuid:f4c525de-b5c5-4f1a-adbf-8d937eaa8061>'),\n",
       " ('Content-Type', 'application/json'),\n",
       " ('Content-Length', '7869')]"
      ]
     },
     "execution_count": 84,
     "metadata": {},
     "output_type": "execute_result"
    }
   ],
   "source": [
    "record4_wat.rec_headers.headers"
   ]
  },
  {
   "cell_type": "code",
   "execution_count": 85,
   "metadata": {},
   "outputs": [],
   "source": [
    "record4_wat.http_headers"
   ]
  },
  {
   "cell_type": "code",
   "execution_count": 86,
   "metadata": {},
   "outputs": [],
   "source": [
    "a4_wat = record4_wat.content_stream().read()"
   ]
  },
  {
   "cell_type": "markdown",
   "metadata": {},
   "source": [
    "### 7. Envelope contains the details"
   ]
  },
  {
   "cell_type": "code",
   "execution_count": 87,
   "metadata": {
    "scrolled": false
   },
   "outputs": [
    {
     "data": {
      "text/plain": [
       "{'Container': {'Filename': 'CC-MAIN-20210128134124-20210128164124-00799.warc.gz',\n",
       "  'Compressed': True,\n",
       "  'Offset': '912',\n",
       "  'Gzip-Metadata': {'Deflate-Length': '3711',\n",
       "   'Header-Length': '10',\n",
       "   'Footer-Length': '8',\n",
       "   'Inflated-CRC': '1822421432',\n",
       "   'Inflated-Length': '8027'}},\n",
       " 'Envelope': {'Payload-Metadata': {'Actual-Content-Type': 'application/http; msgtype=response',\n",
       "   'HTTP-Response-Metadata': {'Response-Message': {'Status': '200',\n",
       "     'Version': 'HTTP/1.1',\n",
       "     'Reason': 'OK'},\n",
       "    'Headers-Length': '337',\n",
       "    'Headers': {'Content-Type': 'text/html',\n",
       "     'X-Crawler-Content-Encoding': 'gzip',\n",
       "     'Last-Modified': 'Sat, 11 Jan 2020 04:42:04 GMT',\n",
       "     'Accept-Ranges': 'bytes',\n",
       "     'ETag': '\"ff902b7939c8d51:0\"',\n",
       "     'Vary': 'Accept-Encoding',\n",
       "     'Server': 'Microsoft-IIS/7.5',\n",
       "     'X-Powered-By': 'ASP.NET',\n",
       "     'Date': 'Thu, 28 Jan 2021 16:07:18 GMT',\n",
       "     'X-Crawler-Content-Length': '4489',\n",
       "     'Content-Length': '7084'},\n",
       "    'HTML-Metadata': {'Head': {'Metas': [{'content': 'text/html; charset=gb2312',\n",
       "        'http-equiv': 'Content-Type'},\n",
       "       {'name': 'keywords', 'content': '本港开奖直播现'},\n",
       "       {'name': 'description',\n",
       "        'content': '比上年同期多4146亿元。 导致银行负债端本钱晋升。就这样猝不迭防地来了。雪天起雾也精力。假如公然职工薪酬，该单位之所以这么做，本次会议由嘀嗒出行承办。记者从国度卫生计生委获悉, 小鱼儿主页马会开将 ，中共北京市委、北京市国民政府代表全市人民向受灾'}],\n",
       "      'Title': '本港开奖直播现场比上年同期多4146亿元br 导致_神灯论坛,www.006655.com,香港马会资料大全,白小姐独家四不象007,港龙神算网永久域算ww6882,137338.com,www.00',\n",
       "      'Link': [{'path': 'LINK@/href',\n",
       "        'url': '/skin/css/common.css',\n",
       "        'rel': 'stylesheet',\n",
       "        'type': 'text/css'},\n",
       "       {'path': 'LINK@/href',\n",
       "        'url': '/skin/css/style.css',\n",
       "        'rel': 'stylesheet',\n",
       "        'type': 'text/css'}],\n",
       "      'Scripts': [{'path': 'SCRIPT@/src',\n",
       "        'url': '/caiyuan/ytbf.js',\n",
       "        'type': 'text/javascript'},\n",
       "       {'path': 'SCRIPT@/src',\n",
       "        'url': '/plus/count.php?view=yes&aid=1227&mid=1',\n",
       "        'type': 'text/javascript'}]},\n",
       "     'Links': [{'path': 'IMG@/src', 'url': '/skin/images/logo.png'},\n",
       "      {'path': 'A@/href',\n",
       "       'url': '/',\n",
       "       'title': '神灯论坛,www.006655.com,香港马会资料大全,白小姐独家四不象007,港龙神算网永久域算ww6882,137338.com,www.00475.com'},\n",
       "      {'path': 'IMG@/src', 'url': '/skin/images/14627896762494.jpg'},\n",
       "      {'path': 'A@/href',\n",
       "       'url': '#',\n",
       "       'title': '神灯论坛,www.006655.com,香港马会资料大全,白小姐独家四不象007,港龙神算网永久域算ww6882,137338.com,www.00475.com'},\n",
       "      {'path': 'A@/href', 'url': '/', 'text': '网站首页'},\n",
       "      {'path': 'A@/href', 'url': '/a/shendengluntan/', 'text': '神灯论坛'},\n",
       "      {'path': 'A@/href',\n",
       "       'url': '/a/www_006655_com/',\n",
       "       'text': 'www.006655.com'},\n",
       "      {'path': 'A@/href',\n",
       "       'url': '/a/xianggangmahuiziliaodaquan/',\n",
       "       'text': '香港马会资料大全'},\n",
       "      {'path': 'A@/href',\n",
       "       'url': '/a/baixiaojiedujiasibuxiang007/',\n",
       "       'text': '白小姐独家四不象007'},\n",
       "      {'path': 'A@/href',\n",
       "       'url': '/a/ganglongshensuanwangyongjiuyusuanww6882/',\n",
       "       'text': '港龙神算网永久域算ww6882'},\n",
       "      {'path': 'A@/href', 'url': '/a/137338_com/', 'text': '137338.com'},\n",
       "      {'path': 'A@/href', 'url': '/a/www_00475_com/', 'text': 'www.00475.com'},\n",
       "      {'path': 'A@/href',\n",
       "       'url': '/a/shendengluntan/',\n",
       "       'title': '神灯论坛',\n",
       "       'text': '神灯论坛'},\n",
       "      {'path': 'A@/href',\n",
       "       'url': '/a/www_006655_com/',\n",
       "       'title': 'www.006655.com',\n",
       "       'text': 'www.006655.com'},\n",
       "      {'path': 'A@/href',\n",
       "       'url': '/a/xianggangmahuiziliaodaquan/',\n",
       "       'title': '香港马会资料大全',\n",
       "       'text': '香港马会资料大全'},\n",
       "      {'path': 'A@/href',\n",
       "       'url': '/a/baixiaojiedujiasibuxiang007/',\n",
       "       'title': '白小姐独家四不象007',\n",
       "       'text': '白小姐独家四不象007'},\n",
       "      {'path': 'A@/href',\n",
       "       'url': '/a/ganglongshensuanwangyongjiuyusuanww6882/',\n",
       "       'title': '港龙神算网永久域算ww6882',\n",
       "       'text': '港龙神算网永久域算ww6882'},\n",
       "      {'path': 'A@/href',\n",
       "       'url': '/a/137338_com/',\n",
       "       'title': '137338.com',\n",
       "       'text': '137338.com'},\n",
       "      {'path': 'A@/href',\n",
       "       'url': '/a/www_00475_com/',\n",
       "       'title': 'www.00475.com',\n",
       "       'text': 'www.00475.com'},\n",
       "      {'path': 'A@/href',\n",
       "       'url': '/a/137338_com/974.html',\n",
       "       'title': '重庆未来楼市怎样房地产是否还有“黄金期”？49788神仙居',\n",
       "       'text': '重庆未来楼市怎样房地产是否还'},\n",
       "      {'path': 'A@/href',\n",
       "       'url': '/a/137338_com/1090.html',\n",
       "       'title': '本港台开奖成果直播这就是购房者在选购二手房的时候能够从首次',\n",
       "       'text': '本港台开奖成果直播这就是购房'},\n",
       "      {'path': 'A@/href',\n",
       "       'url': '/a/137338_com/1180.html',\n",
       "       'title': '白小姐四肖必选一肖让你怀才不遇更好搭配就能够拿来参考学习',\n",
       "       'text': '白小姐四肖必选一肖让你怀才不'},\n",
       "      {'path': 'A@/href',\n",
       "       'url': '/a/137338_com/632.html',\n",
       "       'title': '在线本港台直播光电能中央热水器是什么 它有哪些特点',\n",
       "       'text': '在线本港台直播光电能中央热水'},\n",
       "      {'path': 'A@/href',\n",
       "       'url': '/a/137338_com/880.html',\n",
       "       'title': 'www.684000.com中央热水器的功率是9000瓦要用几平方的铜线呢？',\n",
       "       'text': 'www.684000.com中央热水器的功'},\n",
       "      {'path': 'A@/href',\n",
       "       'url': '/a/137338_com/1034.html',\n",
       "       'title': '水星是太阳系8大行星中体积最� ⒗胩�阳最近的一颗，洪金宝心水8',\n",
       "       'text': '水星是太阳系8大行星中体积最'},\n",
       "      {'path': 'A@/href',\n",
       "       'url': '/a/137338_com/702.html',\n",
       "       'title': '叩富网同城理财是做什么的？想炒股开户上面有人可以指导一下吗？',\n",
       "       'text': '叩富网同城理财是做什么的？想'},\n",
       "      {'path': 'A@/href',\n",
       "       'url': '/a/137338_com/396.html',\n",
       "       'title': '六开彩开奖结果现在办企业能够节省半月时间，',\n",
       "       'text': '六开彩开奖结果现在办企业能够'},\n",
       "      {'path': 'A@/href',\n",
       "       'url': '/a/137338_com/487.html',\n",
       "       'title': '重庆检方：四种利用虚假房产信息诈骗的手段值得警惕',\n",
       "       'text': '重庆检方：四种利用虚假房产信'},\n",
       "      {'path': 'A@/href',\n",
       "       'url': '/a/137338_com/922.html',\n",
       "       'title': '藏宝图QQ头像的尺寸是多少？',\n",
       "       'text': '藏宝图QQ头像的尺寸是多少？'},\n",
       "      {'path': 'A@/href',\n",
       "       'url': '/a/137338_com/711.html',\n",
       "       'title': '上海票据交易所领导班子国庆节前走访各部门并进行安全提示鬼谷子',\n",
       "       'text': '上海票据交易所领导班子国庆节'},\n",
       "      {'path': 'A@/href',\n",
       "       'url': '/a/137338_com/607.html',\n",
       "       'title': 'www.47748.com重庆楼市_重庆房产信息_房地产新闻 - 楼盘网',\n",
       "       'text': 'www.47748.com重庆楼市_重庆房'},\n",
       "      {'path': 'A@/href',\n",
       "       'url': '/a/137338_com/426.html',\n",
       "       'title': '抚顺市第四医院为鼓励军嫂自拍微电影',\n",
       "       'text': '抚顺市第四医院为鼓励军嫂自拍'},\n",
       "      {'path': 'A@/href',\n",
       "       'url': '/a/137338_com/412.html',\n",
       "       'title': '上海票据交易所',\n",
       "       'text': '上海票据交易所'},\n",
       "      {'path': 'A@/href',\n",
       "       'url': '/a/137338_com/573.html',\n",
       "       'title': '中央热水器是什么？管家婆彩图自动更新',\n",
       "       'text': '中央热水器是什么？管家婆彩图'},\n",
       "      {'path': 'A@/href', 'url': '006655e.com/', 'text': '主页'},\n",
       "      {'path': 'A@/href', 'url': '/a/137338_com/', 'text': '137338.com'},\n",
       "      {'path': 'A@/href',\n",
       "       'url': 'http://www.598102a.com',\n",
       "       'target': '_blank',\n",
       "       'text': '小鱼儿主页马会开将'},\n",
       "      {'path': 'A@/href',\n",
       "       'url': '/a/137338_com/1225.html',\n",
       "       'text': '白小姐盘算从新在汽车范畴进行尝试国外的设计公司'},\n",
       "      {'path': 'A@/href',\n",
       "       'url': 'http://www.dedecms.com',\n",
       "       'target': '_blank',\n",
       "       'text': 'Power by DedeCms'}]},\n",
       "    'Entity-Length': '7084',\n",
       "    'Entity-Digest': 'sha1:64X3TUQQXQ6JLITRWR7TAHCYMSM2AW5O',\n",
       "    'Entity-Trailing-Slop-Length': '0'},\n",
       "   'Actual-Content-Length': '7421',\n",
       "   'Block-Digest': 'sha1:MPC75GFXY4P6QXDJQWNWIPYIPOY6WMM7',\n",
       "   'Trailing-Slop-Length': '4'},\n",
       "  'Format': 'WARC',\n",
       "  'WARC-Header-Length': '602',\n",
       "  'WARC-Header-Metadata': {'WARC-Type': 'response',\n",
       "   'WARC-Date': '2021-01-28T16:07:26Z',\n",
       "   'WARC-Record-ID': '<urn:uuid:f4c525de-b5c5-4f1a-adbf-8d937eaa8061>',\n",
       "   'Content-Length': '7421',\n",
       "   'Content-Type': 'application/http; msgtype=response',\n",
       "   'WARC-Warcinfo-ID': '<urn:uuid:417d8ded-caa8-4bc1-b819-8f01e3632199>',\n",
       "   'WARC-Concurrent-To': '<urn:uuid:9b996c49-f53c-43db-9ce1-18f1f72679ee>',\n",
       "   'WARC-IP-Address': '23.82.163.220',\n",
       "   'WARC-Target-URI': 'http://006655e.com/a/137338_com/1227.html',\n",
       "   'WARC-Payload-Digest': 'sha1:64X3TUQQXQ6JLITRWR7TAHCYMSM2AW5O',\n",
       "   'WARC-Block-Digest': 'sha1:MPC75GFXY4P6QXDJQWNWIPYIPOY6WMM7',\n",
       "   'WARC-Identified-Payload-Type': 'application/xhtml+xml'}}}"
      ]
     },
     "execution_count": 87,
     "metadata": {},
     "output_type": "execute_result"
    }
   ],
   "source": [
    "data3_wat = json.loads(a4_wat.decode('utf-8'))\n",
    "data3_wat"
   ]
  },
  {
   "cell_type": "markdown",
   "metadata": {},
   "source": [
    "### 8. Here we've got the `HTTP headers` and `response metadata`"
   ]
  },
  {
   "cell_type": "code",
   "execution_count": 88,
   "metadata": {
    "scrolled": false
   },
   "outputs": [
    {
     "data": {
      "text/plain": [
       "{'Actual-Content-Type': 'application/http; msgtype=response',\n",
       " 'HTTP-Response-Metadata': {'Response-Message': {'Status': '200',\n",
       "   'Version': 'HTTP/1.1',\n",
       "   'Reason': 'OK'},\n",
       "  'Headers-Length': '337',\n",
       "  'Headers': {'Content-Type': 'text/html',\n",
       "   'X-Crawler-Content-Encoding': 'gzip',\n",
       "   'Last-Modified': 'Sat, 11 Jan 2020 04:42:04 GMT',\n",
       "   'Accept-Ranges': 'bytes',\n",
       "   'ETag': '\"ff902b7939c8d51:0\"',\n",
       "   'Vary': 'Accept-Encoding',\n",
       "   'Server': 'Microsoft-IIS/7.5',\n",
       "   'X-Powered-By': 'ASP.NET',\n",
       "   'Date': 'Thu, 28 Jan 2021 16:07:18 GMT',\n",
       "   'X-Crawler-Content-Length': '4489',\n",
       "   'Content-Length': '7084'},\n",
       "  'HTML-Metadata': {'Head': {'Metas': [{'content': 'text/html; charset=gb2312',\n",
       "      'http-equiv': 'Content-Type'},\n",
       "     {'name': 'keywords', 'content': '本港开奖直播现'},\n",
       "     {'name': 'description',\n",
       "      'content': '比上年同期多4146亿元。 导致银行负债端本钱晋升。就这样猝不迭防地来了。雪天起雾也精力。假如公然职工薪酬，该单位之所以这么做，本次会议由嘀嗒出行承办。记者从国度卫生计生委获悉, 小鱼儿主页马会开将 ，中共北京市委、北京市国民政府代表全市人民向受灾'}],\n",
       "    'Title': '本港开奖直播现场比上年同期多4146亿元br 导致_神灯论坛,www.006655.com,香港马会资料大全,白小姐独家四不象007,港龙神算网永久域算ww6882,137338.com,www.00',\n",
       "    'Link': [{'path': 'LINK@/href',\n",
       "      'url': '/skin/css/common.css',\n",
       "      'rel': 'stylesheet',\n",
       "      'type': 'text/css'},\n",
       "     {'path': 'LINK@/href',\n",
       "      'url': '/skin/css/style.css',\n",
       "      'rel': 'stylesheet',\n",
       "      'type': 'text/css'}],\n",
       "    'Scripts': [{'path': 'SCRIPT@/src',\n",
       "      'url': '/caiyuan/ytbf.js',\n",
       "      'type': 'text/javascript'},\n",
       "     {'path': 'SCRIPT@/src',\n",
       "      'url': '/plus/count.php?view=yes&aid=1227&mid=1',\n",
       "      'type': 'text/javascript'}]},\n",
       "   'Links': [{'path': 'IMG@/src', 'url': '/skin/images/logo.png'},\n",
       "    {'path': 'A@/href',\n",
       "     'url': '/',\n",
       "     'title': '神灯论坛,www.006655.com,香港马会资料大全,白小姐独家四不象007,港龙神算网永久域算ww6882,137338.com,www.00475.com'},\n",
       "    {'path': 'IMG@/src', 'url': '/skin/images/14627896762494.jpg'},\n",
       "    {'path': 'A@/href',\n",
       "     'url': '#',\n",
       "     'title': '神灯论坛,www.006655.com,香港马会资料大全,白小姐独家四不象007,港龙神算网永久域算ww6882,137338.com,www.00475.com'},\n",
       "    {'path': 'A@/href', 'url': '/', 'text': '网站首页'},\n",
       "    {'path': 'A@/href', 'url': '/a/shendengluntan/', 'text': '神灯论坛'},\n",
       "    {'path': 'A@/href', 'url': '/a/www_006655_com/', 'text': 'www.006655.com'},\n",
       "    {'path': 'A@/href',\n",
       "     'url': '/a/xianggangmahuiziliaodaquan/',\n",
       "     'text': '香港马会资料大全'},\n",
       "    {'path': 'A@/href',\n",
       "     'url': '/a/baixiaojiedujiasibuxiang007/',\n",
       "     'text': '白小姐独家四不象007'},\n",
       "    {'path': 'A@/href',\n",
       "     'url': '/a/ganglongshensuanwangyongjiuyusuanww6882/',\n",
       "     'text': '港龙神算网永久域算ww6882'},\n",
       "    {'path': 'A@/href', 'url': '/a/137338_com/', 'text': '137338.com'},\n",
       "    {'path': 'A@/href', 'url': '/a/www_00475_com/', 'text': 'www.00475.com'},\n",
       "    {'path': 'A@/href',\n",
       "     'url': '/a/shendengluntan/',\n",
       "     'title': '神灯论坛',\n",
       "     'text': '神灯论坛'},\n",
       "    {'path': 'A@/href',\n",
       "     'url': '/a/www_006655_com/',\n",
       "     'title': 'www.006655.com',\n",
       "     'text': 'www.006655.com'},\n",
       "    {'path': 'A@/href',\n",
       "     'url': '/a/xianggangmahuiziliaodaquan/',\n",
       "     'title': '香港马会资料大全',\n",
       "     'text': '香港马会资料大全'},\n",
       "    {'path': 'A@/href',\n",
       "     'url': '/a/baixiaojiedujiasibuxiang007/',\n",
       "     'title': '白小姐独家四不象007',\n",
       "     'text': '白小姐独家四不象007'},\n",
       "    {'path': 'A@/href',\n",
       "     'url': '/a/ganglongshensuanwangyongjiuyusuanww6882/',\n",
       "     'title': '港龙神算网永久域算ww6882',\n",
       "     'text': '港龙神算网永久域算ww6882'},\n",
       "    {'path': 'A@/href',\n",
       "     'url': '/a/137338_com/',\n",
       "     'title': '137338.com',\n",
       "     'text': '137338.com'},\n",
       "    {'path': 'A@/href',\n",
       "     'url': '/a/www_00475_com/',\n",
       "     'title': 'www.00475.com',\n",
       "     'text': 'www.00475.com'},\n",
       "    {'path': 'A@/href',\n",
       "     'url': '/a/137338_com/974.html',\n",
       "     'title': '重庆未来楼市怎样房地产是否还有“黄金期”？49788神仙居',\n",
       "     'text': '重庆未来楼市怎样房地产是否还'},\n",
       "    {'path': 'A@/href',\n",
       "     'url': '/a/137338_com/1090.html',\n",
       "     'title': '本港台开奖成果直播这就是购房者在选购二手房的时候能够从首次',\n",
       "     'text': '本港台开奖成果直播这就是购房'},\n",
       "    {'path': 'A@/href',\n",
       "     'url': '/a/137338_com/1180.html',\n",
       "     'title': '白小姐四肖必选一肖让你怀才不遇更好搭配就能够拿来参考学习',\n",
       "     'text': '白小姐四肖必选一肖让你怀才不'},\n",
       "    {'path': 'A@/href',\n",
       "     'url': '/a/137338_com/632.html',\n",
       "     'title': '在线本港台直播光电能中央热水器是什么 它有哪些特点',\n",
       "     'text': '在线本港台直播光电能中央热水'},\n",
       "    {'path': 'A@/href',\n",
       "     'url': '/a/137338_com/880.html',\n",
       "     'title': 'www.684000.com中央热水器的功率是9000瓦要用几平方的铜线呢？',\n",
       "     'text': 'www.684000.com中央热水器的功'},\n",
       "    {'path': 'A@/href',\n",
       "     'url': '/a/137338_com/1034.html',\n",
       "     'title': '水星是太阳系8大行星中体积最� ⒗胩�阳最近的一颗，洪金宝心水8',\n",
       "     'text': '水星是太阳系8大行星中体积最'},\n",
       "    {'path': 'A@/href',\n",
       "     'url': '/a/137338_com/702.html',\n",
       "     'title': '叩富网同城理财是做什么的？想炒股开户上面有人可以指导一下吗？',\n",
       "     'text': '叩富网同城理财是做什么的？想'},\n",
       "    {'path': 'A@/href',\n",
       "     'url': '/a/137338_com/396.html',\n",
       "     'title': '六开彩开奖结果现在办企业能够节省半月时间，',\n",
       "     'text': '六开彩开奖结果现在办企业能够'},\n",
       "    {'path': 'A@/href',\n",
       "     'url': '/a/137338_com/487.html',\n",
       "     'title': '重庆检方：四种利用虚假房产信息诈骗的手段值得警惕',\n",
       "     'text': '重庆检方：四种利用虚假房产信'},\n",
       "    {'path': 'A@/href',\n",
       "     'url': '/a/137338_com/922.html',\n",
       "     'title': '藏宝图QQ头像的尺寸是多少？',\n",
       "     'text': '藏宝图QQ头像的尺寸是多少？'},\n",
       "    {'path': 'A@/href',\n",
       "     'url': '/a/137338_com/711.html',\n",
       "     'title': '上海票据交易所领导班子国庆节前走访各部门并进行安全提示鬼谷子',\n",
       "     'text': '上海票据交易所领导班子国庆节'},\n",
       "    {'path': 'A@/href',\n",
       "     'url': '/a/137338_com/607.html',\n",
       "     'title': 'www.47748.com重庆楼市_重庆房产信息_房地产新闻 - 楼盘网',\n",
       "     'text': 'www.47748.com重庆楼市_重庆房'},\n",
       "    {'path': 'A@/href',\n",
       "     'url': '/a/137338_com/426.html',\n",
       "     'title': '抚顺市第四医院为鼓励军嫂自拍微电影',\n",
       "     'text': '抚顺市第四医院为鼓励军嫂自拍'},\n",
       "    {'path': 'A@/href',\n",
       "     'url': '/a/137338_com/412.html',\n",
       "     'title': '上海票据交易所',\n",
       "     'text': '上海票据交易所'},\n",
       "    {'path': 'A@/href',\n",
       "     'url': '/a/137338_com/573.html',\n",
       "     'title': '中央热水器是什么？管家婆彩图自动更新',\n",
       "     'text': '中央热水器是什么？管家婆彩图'},\n",
       "    {'path': 'A@/href', 'url': '006655e.com/', 'text': '主页'},\n",
       "    {'path': 'A@/href', 'url': '/a/137338_com/', 'text': '137338.com'},\n",
       "    {'path': 'A@/href',\n",
       "     'url': 'http://www.598102a.com',\n",
       "     'target': '_blank',\n",
       "     'text': '小鱼儿主页马会开将'},\n",
       "    {'path': 'A@/href',\n",
       "     'url': '/a/137338_com/1225.html',\n",
       "     'text': '白小姐盘算从新在汽车范畴进行尝试国外的设计公司'},\n",
       "    {'path': 'A@/href',\n",
       "     'url': 'http://www.dedecms.com',\n",
       "     'target': '_blank',\n",
       "     'text': 'Power by DedeCms'}]},\n",
       "  'Entity-Length': '7084',\n",
       "  'Entity-Digest': 'sha1:64X3TUQQXQ6JLITRWR7TAHCYMSM2AW5O',\n",
       "  'Entity-Trailing-Slop-Length': '0'},\n",
       " 'Actual-Content-Length': '7421',\n",
       " 'Block-Digest': 'sha1:MPC75GFXY4P6QXDJQWNWIPYIPOY6WMM7',\n",
       " 'Trailing-Slop-Length': '4'}"
      ]
     },
     "execution_count": 88,
     "metadata": {},
     "output_type": "execute_result"
    }
   ],
   "source": [
    "data3_wat['Envelope']['Payload-Metadata']"
   ]
  },
  {
   "cell_type": "code",
   "execution_count": 89,
   "metadata": {
    "scrolled": false
   },
   "outputs": [
    {
     "data": {
      "text/plain": [
       "{'Response-Message': {'Status': '200', 'Version': 'HTTP/1.1', 'Reason': 'OK'},\n",
       " 'Headers-Length': '337',\n",
       " 'Headers': {'Content-Type': 'text/html',\n",
       "  'X-Crawler-Content-Encoding': 'gzip',\n",
       "  'Last-Modified': 'Sat, 11 Jan 2020 04:42:04 GMT',\n",
       "  'Accept-Ranges': 'bytes',\n",
       "  'ETag': '\"ff902b7939c8d51:0\"',\n",
       "  'Vary': 'Accept-Encoding',\n",
       "  'Server': 'Microsoft-IIS/7.5',\n",
       "  'X-Powered-By': 'ASP.NET',\n",
       "  'Date': 'Thu, 28 Jan 2021 16:07:18 GMT',\n",
       "  'X-Crawler-Content-Length': '4489',\n",
       "  'Content-Length': '7084'},\n",
       " 'HTML-Metadata': {'Head': {'Metas': [{'content': 'text/html; charset=gb2312',\n",
       "     'http-equiv': 'Content-Type'},\n",
       "    {'name': 'keywords', 'content': '本港开奖直播现'},\n",
       "    {'name': 'description',\n",
       "     'content': '比上年同期多4146亿元。 导致银行负债端本钱晋升。就这样猝不迭防地来了。雪天起雾也精力。假如公然职工薪酬，该单位之所以这么做，本次会议由嘀嗒出行承办。记者从国度卫生计生委获悉, 小鱼儿主页马会开将 ，中共北京市委、北京市国民政府代表全市人民向受灾'}],\n",
       "   'Title': '本港开奖直播现场比上年同期多4146亿元br 导致_神灯论坛,www.006655.com,香港马会资料大全,白小姐独家四不象007,港龙神算网永久域算ww6882,137338.com,www.00',\n",
       "   'Link': [{'path': 'LINK@/href',\n",
       "     'url': '/skin/css/common.css',\n",
       "     'rel': 'stylesheet',\n",
       "     'type': 'text/css'},\n",
       "    {'path': 'LINK@/href',\n",
       "     'url': '/skin/css/style.css',\n",
       "     'rel': 'stylesheet',\n",
       "     'type': 'text/css'}],\n",
       "   'Scripts': [{'path': 'SCRIPT@/src',\n",
       "     'url': '/caiyuan/ytbf.js',\n",
       "     'type': 'text/javascript'},\n",
       "    {'path': 'SCRIPT@/src',\n",
       "     'url': '/plus/count.php?view=yes&aid=1227&mid=1',\n",
       "     'type': 'text/javascript'}]},\n",
       "  'Links': [{'path': 'IMG@/src', 'url': '/skin/images/logo.png'},\n",
       "   {'path': 'A@/href',\n",
       "    'url': '/',\n",
       "    'title': '神灯论坛,www.006655.com,香港马会资料大全,白小姐独家四不象007,港龙神算网永久域算ww6882,137338.com,www.00475.com'},\n",
       "   {'path': 'IMG@/src', 'url': '/skin/images/14627896762494.jpg'},\n",
       "   {'path': 'A@/href',\n",
       "    'url': '#',\n",
       "    'title': '神灯论坛,www.006655.com,香港马会资料大全,白小姐独家四不象007,港龙神算网永久域算ww6882,137338.com,www.00475.com'},\n",
       "   {'path': 'A@/href', 'url': '/', 'text': '网站首页'},\n",
       "   {'path': 'A@/href', 'url': '/a/shendengluntan/', 'text': '神灯论坛'},\n",
       "   {'path': 'A@/href', 'url': '/a/www_006655_com/', 'text': 'www.006655.com'},\n",
       "   {'path': 'A@/href',\n",
       "    'url': '/a/xianggangmahuiziliaodaquan/',\n",
       "    'text': '香港马会资料大全'},\n",
       "   {'path': 'A@/href',\n",
       "    'url': '/a/baixiaojiedujiasibuxiang007/',\n",
       "    'text': '白小姐独家四不象007'},\n",
       "   {'path': 'A@/href',\n",
       "    'url': '/a/ganglongshensuanwangyongjiuyusuanww6882/',\n",
       "    'text': '港龙神算网永久域算ww6882'},\n",
       "   {'path': 'A@/href', 'url': '/a/137338_com/', 'text': '137338.com'},\n",
       "   {'path': 'A@/href', 'url': '/a/www_00475_com/', 'text': 'www.00475.com'},\n",
       "   {'path': 'A@/href',\n",
       "    'url': '/a/shendengluntan/',\n",
       "    'title': '神灯论坛',\n",
       "    'text': '神灯论坛'},\n",
       "   {'path': 'A@/href',\n",
       "    'url': '/a/www_006655_com/',\n",
       "    'title': 'www.006655.com',\n",
       "    'text': 'www.006655.com'},\n",
       "   {'path': 'A@/href',\n",
       "    'url': '/a/xianggangmahuiziliaodaquan/',\n",
       "    'title': '香港马会资料大全',\n",
       "    'text': '香港马会资料大全'},\n",
       "   {'path': 'A@/href',\n",
       "    'url': '/a/baixiaojiedujiasibuxiang007/',\n",
       "    'title': '白小姐独家四不象007',\n",
       "    'text': '白小姐独家四不象007'},\n",
       "   {'path': 'A@/href',\n",
       "    'url': '/a/ganglongshensuanwangyongjiuyusuanww6882/',\n",
       "    'title': '港龙神算网永久域算ww6882',\n",
       "    'text': '港龙神算网永久域算ww6882'},\n",
       "   {'path': 'A@/href',\n",
       "    'url': '/a/137338_com/',\n",
       "    'title': '137338.com',\n",
       "    'text': '137338.com'},\n",
       "   {'path': 'A@/href',\n",
       "    'url': '/a/www_00475_com/',\n",
       "    'title': 'www.00475.com',\n",
       "    'text': 'www.00475.com'},\n",
       "   {'path': 'A@/href',\n",
       "    'url': '/a/137338_com/974.html',\n",
       "    'title': '重庆未来楼市怎样房地产是否还有“黄金期”？49788神仙居',\n",
       "    'text': '重庆未来楼市怎样房地产是否还'},\n",
       "   {'path': 'A@/href',\n",
       "    'url': '/a/137338_com/1090.html',\n",
       "    'title': '本港台开奖成果直播这就是购房者在选购二手房的时候能够从首次',\n",
       "    'text': '本港台开奖成果直播这就是购房'},\n",
       "   {'path': 'A@/href',\n",
       "    'url': '/a/137338_com/1180.html',\n",
       "    'title': '白小姐四肖必选一肖让你怀才不遇更好搭配就能够拿来参考学习',\n",
       "    'text': '白小姐四肖必选一肖让你怀才不'},\n",
       "   {'path': 'A@/href',\n",
       "    'url': '/a/137338_com/632.html',\n",
       "    'title': '在线本港台直播光电能中央热水器是什么 它有哪些特点',\n",
       "    'text': '在线本港台直播光电能中央热水'},\n",
       "   {'path': 'A@/href',\n",
       "    'url': '/a/137338_com/880.html',\n",
       "    'title': 'www.684000.com中央热水器的功率是9000瓦要用几平方的铜线呢？',\n",
       "    'text': 'www.684000.com中央热水器的功'},\n",
       "   {'path': 'A@/href',\n",
       "    'url': '/a/137338_com/1034.html',\n",
       "    'title': '水星是太阳系8大行星中体积最� ⒗胩�阳最近的一颗，洪金宝心水8',\n",
       "    'text': '水星是太阳系8大行星中体积最'},\n",
       "   {'path': 'A@/href',\n",
       "    'url': '/a/137338_com/702.html',\n",
       "    'title': '叩富网同城理财是做什么的？想炒股开户上面有人可以指导一下吗？',\n",
       "    'text': '叩富网同城理财是做什么的？想'},\n",
       "   {'path': 'A@/href',\n",
       "    'url': '/a/137338_com/396.html',\n",
       "    'title': '六开彩开奖结果现在办企业能够节省半月时间，',\n",
       "    'text': '六开彩开奖结果现在办企业能够'},\n",
       "   {'path': 'A@/href',\n",
       "    'url': '/a/137338_com/487.html',\n",
       "    'title': '重庆检方：四种利用虚假房产信息诈骗的手段值得警惕',\n",
       "    'text': '重庆检方：四种利用虚假房产信'},\n",
       "   {'path': 'A@/href',\n",
       "    'url': '/a/137338_com/922.html',\n",
       "    'title': '藏宝图QQ头像的尺寸是多少？',\n",
       "    'text': '藏宝图QQ头像的尺寸是多少？'},\n",
       "   {'path': 'A@/href',\n",
       "    'url': '/a/137338_com/711.html',\n",
       "    'title': '上海票据交易所领导班子国庆节前走访各部门并进行安全提示鬼谷子',\n",
       "    'text': '上海票据交易所领导班子国庆节'},\n",
       "   {'path': 'A@/href',\n",
       "    'url': '/a/137338_com/607.html',\n",
       "    'title': 'www.47748.com重庆楼市_重庆房产信息_房地产新闻 - 楼盘网',\n",
       "    'text': 'www.47748.com重庆楼市_重庆房'},\n",
       "   {'path': 'A@/href',\n",
       "    'url': '/a/137338_com/426.html',\n",
       "    'title': '抚顺市第四医院为鼓励军嫂自拍微电影',\n",
       "    'text': '抚顺市第四医院为鼓励军嫂自拍'},\n",
       "   {'path': 'A@/href',\n",
       "    'url': '/a/137338_com/412.html',\n",
       "    'title': '上海票据交易所',\n",
       "    'text': '上海票据交易所'},\n",
       "   {'path': 'A@/href',\n",
       "    'url': '/a/137338_com/573.html',\n",
       "    'title': '中央热水器是什么？管家婆彩图自动更新',\n",
       "    'text': '中央热水器是什么？管家婆彩图'},\n",
       "   {'path': 'A@/href', 'url': '006655e.com/', 'text': '主页'},\n",
       "   {'path': 'A@/href', 'url': '/a/137338_com/', 'text': '137338.com'},\n",
       "   {'path': 'A@/href',\n",
       "    'url': 'http://www.598102a.com',\n",
       "    'target': '_blank',\n",
       "    'text': '小鱼儿主页马会开将'},\n",
       "   {'path': 'A@/href',\n",
       "    'url': '/a/137338_com/1225.html',\n",
       "    'text': '白小姐盘算从新在汽车范畴进行尝试国外的设计公司'},\n",
       "   {'path': 'A@/href',\n",
       "    'url': 'http://www.dedecms.com',\n",
       "    'target': '_blank',\n",
       "    'text': 'Power by DedeCms'}]},\n",
       " 'Entity-Length': '7084',\n",
       " 'Entity-Digest': 'sha1:64X3TUQQXQ6JLITRWR7TAHCYMSM2AW5O',\n",
       " 'Entity-Trailing-Slop-Length': '0'}"
      ]
     },
     "execution_count": 89,
     "metadata": {},
     "output_type": "execute_result"
    }
   ],
   "source": [
    "data3_wat['Envelope']['Payload-Metadata']['HTTP-Response-Metadata']"
   ]
  },
  {
   "cell_type": "markdown",
   "metadata": {},
   "source": [
    "### 9. Contains from the `head` the `title`, `metas` and `scripts`, as well as `links` from the text itself."
   ]
  },
  {
   "cell_type": "code",
   "execution_count": 90,
   "metadata": {
    "scrolled": false
   },
   "outputs": [
    {
     "data": {
      "text/plain": [
       "{'Head': {'Metas': [{'content': 'text/html; charset=gb2312',\n",
       "    'http-equiv': 'Content-Type'},\n",
       "   {'name': 'keywords', 'content': '本港开奖直播现'},\n",
       "   {'name': 'description',\n",
       "    'content': '比上年同期多4146亿元。 导致银行负债端本钱晋升。就这样猝不迭防地来了。雪天起雾也精力。假如公然职工薪酬，该单位之所以这么做，本次会议由嘀嗒出行承办。记者从国度卫生计生委获悉, 小鱼儿主页马会开将 ，中共北京市委、北京市国民政府代表全市人民向受灾'}],\n",
       "  'Title': '本港开奖直播现场比上年同期多4146亿元br 导致_神灯论坛,www.006655.com,香港马会资料大全,白小姐独家四不象007,港龙神算网永久域算ww6882,137338.com,www.00',\n",
       "  'Link': [{'path': 'LINK@/href',\n",
       "    'url': '/skin/css/common.css',\n",
       "    'rel': 'stylesheet',\n",
       "    'type': 'text/css'},\n",
       "   {'path': 'LINK@/href',\n",
       "    'url': '/skin/css/style.css',\n",
       "    'rel': 'stylesheet',\n",
       "    'type': 'text/css'}],\n",
       "  'Scripts': [{'path': 'SCRIPT@/src',\n",
       "    'url': '/caiyuan/ytbf.js',\n",
       "    'type': 'text/javascript'},\n",
       "   {'path': 'SCRIPT@/src',\n",
       "    'url': '/plus/count.php?view=yes&aid=1227&mid=1',\n",
       "    'type': 'text/javascript'}]},\n",
       " 'Links': [{'path': 'IMG@/src', 'url': '/skin/images/logo.png'},\n",
       "  {'path': 'A@/href',\n",
       "   'url': '/',\n",
       "   'title': '神灯论坛,www.006655.com,香港马会资料大全,白小姐独家四不象007,港龙神算网永久域算ww6882,137338.com,www.00475.com'},\n",
       "  {'path': 'IMG@/src', 'url': '/skin/images/14627896762494.jpg'},\n",
       "  {'path': 'A@/href',\n",
       "   'url': '#',\n",
       "   'title': '神灯论坛,www.006655.com,香港马会资料大全,白小姐独家四不象007,港龙神算网永久域算ww6882,137338.com,www.00475.com'},\n",
       "  {'path': 'A@/href', 'url': '/', 'text': '网站首页'},\n",
       "  {'path': 'A@/href', 'url': '/a/shendengluntan/', 'text': '神灯论坛'},\n",
       "  {'path': 'A@/href', 'url': '/a/www_006655_com/', 'text': 'www.006655.com'},\n",
       "  {'path': 'A@/href',\n",
       "   'url': '/a/xianggangmahuiziliaodaquan/',\n",
       "   'text': '香港马会资料大全'},\n",
       "  {'path': 'A@/href',\n",
       "   'url': '/a/baixiaojiedujiasibuxiang007/',\n",
       "   'text': '白小姐独家四不象007'},\n",
       "  {'path': 'A@/href',\n",
       "   'url': '/a/ganglongshensuanwangyongjiuyusuanww6882/',\n",
       "   'text': '港龙神算网永久域算ww6882'},\n",
       "  {'path': 'A@/href', 'url': '/a/137338_com/', 'text': '137338.com'},\n",
       "  {'path': 'A@/href', 'url': '/a/www_00475_com/', 'text': 'www.00475.com'},\n",
       "  {'path': 'A@/href',\n",
       "   'url': '/a/shendengluntan/',\n",
       "   'title': '神灯论坛',\n",
       "   'text': '神灯论坛'},\n",
       "  {'path': 'A@/href',\n",
       "   'url': '/a/www_006655_com/',\n",
       "   'title': 'www.006655.com',\n",
       "   'text': 'www.006655.com'},\n",
       "  {'path': 'A@/href',\n",
       "   'url': '/a/xianggangmahuiziliaodaquan/',\n",
       "   'title': '香港马会资料大全',\n",
       "   'text': '香港马会资料大全'},\n",
       "  {'path': 'A@/href',\n",
       "   'url': '/a/baixiaojiedujiasibuxiang007/',\n",
       "   'title': '白小姐独家四不象007',\n",
       "   'text': '白小姐独家四不象007'},\n",
       "  {'path': 'A@/href',\n",
       "   'url': '/a/ganglongshensuanwangyongjiuyusuanww6882/',\n",
       "   'title': '港龙神算网永久域算ww6882',\n",
       "   'text': '港龙神算网永久域算ww6882'},\n",
       "  {'path': 'A@/href',\n",
       "   'url': '/a/137338_com/',\n",
       "   'title': '137338.com',\n",
       "   'text': '137338.com'},\n",
       "  {'path': 'A@/href',\n",
       "   'url': '/a/www_00475_com/',\n",
       "   'title': 'www.00475.com',\n",
       "   'text': 'www.00475.com'},\n",
       "  {'path': 'A@/href',\n",
       "   'url': '/a/137338_com/974.html',\n",
       "   'title': '重庆未来楼市怎样房地产是否还有“黄金期”？49788神仙居',\n",
       "   'text': '重庆未来楼市怎样房地产是否还'},\n",
       "  {'path': 'A@/href',\n",
       "   'url': '/a/137338_com/1090.html',\n",
       "   'title': '本港台开奖成果直播这就是购房者在选购二手房的时候能够从首次',\n",
       "   'text': '本港台开奖成果直播这就是购房'},\n",
       "  {'path': 'A@/href',\n",
       "   'url': '/a/137338_com/1180.html',\n",
       "   'title': '白小姐四肖必选一肖让你怀才不遇更好搭配就能够拿来参考学习',\n",
       "   'text': '白小姐四肖必选一肖让你怀才不'},\n",
       "  {'path': 'A@/href',\n",
       "   'url': '/a/137338_com/632.html',\n",
       "   'title': '在线本港台直播光电能中央热水器是什么 它有哪些特点',\n",
       "   'text': '在线本港台直播光电能中央热水'},\n",
       "  {'path': 'A@/href',\n",
       "   'url': '/a/137338_com/880.html',\n",
       "   'title': 'www.684000.com中央热水器的功率是9000瓦要用几平方的铜线呢？',\n",
       "   'text': 'www.684000.com中央热水器的功'},\n",
       "  {'path': 'A@/href',\n",
       "   'url': '/a/137338_com/1034.html',\n",
       "   'title': '水星是太阳系8大行星中体积最� ⒗胩�阳最近的一颗，洪金宝心水8',\n",
       "   'text': '水星是太阳系8大行星中体积最'},\n",
       "  {'path': 'A@/href',\n",
       "   'url': '/a/137338_com/702.html',\n",
       "   'title': '叩富网同城理财是做什么的？想炒股开户上面有人可以指导一下吗？',\n",
       "   'text': '叩富网同城理财是做什么的？想'},\n",
       "  {'path': 'A@/href',\n",
       "   'url': '/a/137338_com/396.html',\n",
       "   'title': '六开彩开奖结果现在办企业能够节省半月时间，',\n",
       "   'text': '六开彩开奖结果现在办企业能够'},\n",
       "  {'path': 'A@/href',\n",
       "   'url': '/a/137338_com/487.html',\n",
       "   'title': '重庆检方：四种利用虚假房产信息诈骗的手段值得警惕',\n",
       "   'text': '重庆检方：四种利用虚假房产信'},\n",
       "  {'path': 'A@/href',\n",
       "   'url': '/a/137338_com/922.html',\n",
       "   'title': '藏宝图QQ头像的尺寸是多少？',\n",
       "   'text': '藏宝图QQ头像的尺寸是多少？'},\n",
       "  {'path': 'A@/href',\n",
       "   'url': '/a/137338_com/711.html',\n",
       "   'title': '上海票据交易所领导班子国庆节前走访各部门并进行安全提示鬼谷子',\n",
       "   'text': '上海票据交易所领导班子国庆节'},\n",
       "  {'path': 'A@/href',\n",
       "   'url': '/a/137338_com/607.html',\n",
       "   'title': 'www.47748.com重庆楼市_重庆房产信息_房地产新闻 - 楼盘网',\n",
       "   'text': 'www.47748.com重庆楼市_重庆房'},\n",
       "  {'path': 'A@/href',\n",
       "   'url': '/a/137338_com/426.html',\n",
       "   'title': '抚顺市第四医院为鼓励军嫂自拍微电影',\n",
       "   'text': '抚顺市第四医院为鼓励军嫂自拍'},\n",
       "  {'path': 'A@/href',\n",
       "   'url': '/a/137338_com/412.html',\n",
       "   'title': '上海票据交易所',\n",
       "   'text': '上海票据交易所'},\n",
       "  {'path': 'A@/href',\n",
       "   'url': '/a/137338_com/573.html',\n",
       "   'title': '中央热水器是什么？管家婆彩图自动更新',\n",
       "   'text': '中央热水器是什么？管家婆彩图'},\n",
       "  {'path': 'A@/href', 'url': '006655e.com/', 'text': '主页'},\n",
       "  {'path': 'A@/href', 'url': '/a/137338_com/', 'text': '137338.com'},\n",
       "  {'path': 'A@/href',\n",
       "   'url': 'http://www.598102a.com',\n",
       "   'target': '_blank',\n",
       "   'text': '小鱼儿主页马会开将'},\n",
       "  {'path': 'A@/href',\n",
       "   'url': '/a/137338_com/1225.html',\n",
       "   'text': '白小姐盘算从新在汽车范畴进行尝试国外的设计公司'},\n",
       "  {'path': 'A@/href',\n",
       "   'url': 'http://www.dedecms.com',\n",
       "   'target': '_blank',\n",
       "   'text': 'Power by DedeCms'}]}"
      ]
     },
     "execution_count": 90,
     "metadata": {},
     "output_type": "execute_result"
    }
   ],
   "source": [
    "data3_wat['Envelope']['Payload-Metadata']['HTTP-Response-Metadata']['HTML-Metadata']"
   ]
  },
  {
   "cell_type": "markdown",
   "metadata": {},
   "source": [
    "### 10. The next record corresponds to the `metadata` of the request"
   ]
  },
  {
   "cell_type": "code",
   "execution_count": 91,
   "metadata": {},
   "outputs": [],
   "source": [
    "record5_wat = next(records_wat)"
   ]
  },
  {
   "cell_type": "code",
   "execution_count": 92,
   "metadata": {},
   "outputs": [
    {
     "data": {
      "text/plain": [
       "'metadata'"
      ]
     },
     "execution_count": 92,
     "metadata": {},
     "output_type": "execute_result"
    }
   ],
   "source": [
    "record5_wat.rec_type"
   ]
  },
  {
   "cell_type": "code",
   "execution_count": 93,
   "metadata": {},
   "outputs": [
    {
     "data": {
      "text/plain": [
       "[('WARC-Type', 'metadata'),\n",
       " ('WARC-Target-URI', 'http://006655e.com/a/137338_com/1227.html'),\n",
       " ('WARC-Date', '2021-02-02T10:23:32Z'),\n",
       " ('WARC-Record-ID', '<urn:uuid:081280ee-ef22-485f-8dab-151a912208b3>'),\n",
       " ('WARC-Refers-To', '<urn:uuid:31726ea5-ff9e-4759-8b57-f63835afe1f8>'),\n",
       " ('Content-Type', 'application/json'),\n",
       " ('Content-Length', '1233')]"
      ]
     },
     "execution_count": 93,
     "metadata": {},
     "output_type": "execute_result"
    }
   ],
   "source": [
    "record5_wat.rec_headers.headers"
   ]
  },
  {
   "cell_type": "code",
   "execution_count": 94,
   "metadata": {},
   "outputs": [],
   "source": [
    "a5_wat = record5_wat.content_stream().read()"
   ]
  },
  {
   "cell_type": "markdown",
   "metadata": {},
   "source": [
    "### 11. This envelope contains WARC-Metadata-Metadata, this covers all the actual `metadata` in the metadata record."
   ]
  },
  {
   "cell_type": "code",
   "execution_count": 95,
   "metadata": {},
   "outputs": [
    {
     "data": {
      "text/plain": [
       "{'Container': {'Filename': 'CC-MAIN-20210128134124-20210128164124-00799.warc.gz',\n",
       "  'Compressed': True,\n",
       "  'Offset': '4623',\n",
       "  'Gzip-Metadata': {'Deflate-Length': '425',\n",
       "   'Header-Length': '10',\n",
       "   'Footer-Length': '8',\n",
       "   'Inflated-CRC': '-1794557766',\n",
       "   'Inflated-Length': '593'}},\n",
       " 'Envelope': {'Payload-Metadata': {'Actual-Content-Type': 'application/metadata-fields',\n",
       "   'WARC-Metadata-Metadata': {'Metadata-Records': [{'Name': 'fetchTimeMs',\n",
       "      'Value': '200'},\n",
       "     {'Name': 'charset-detected', 'Value': 'GB2312'},\n",
       "     {'Name': 'languages-cld2',\n",
       "      'Value': '{\"reliable\":true,\"text-bytes\":2556,\"languages\":[{\"code\":\"zh\",\"code-iso-639-3\":\"zho\",\"text-covered\":0.94,\"score\":1999.0,\"name\":\"Chinese\"}]}'}]},\n",
       "   'Actual-Content-Length': '202',\n",
       "   'Block-Digest': 'sha1:JV3MBQP6U6WDROBGG2KP6NUYV33UHXEY',\n",
       "   'Trailing-Slop-Length': '0'},\n",
       "  'Format': 'WARC',\n",
       "  'WARC-Header-Length': '387',\n",
       "  'WARC-Header-Metadata': {'WARC-Type': 'metadata',\n",
       "   'WARC-Date': '2021-01-28T16:07:26Z',\n",
       "   'WARC-Record-ID': '<urn:uuid:31726ea5-ff9e-4759-8b57-f63835afe1f8>',\n",
       "   'Content-Length': '202',\n",
       "   'Content-Type': 'application/warc-fields',\n",
       "   'WARC-Warcinfo-ID': '<urn:uuid:417d8ded-caa8-4bc1-b819-8f01e3632199>',\n",
       "   'WARC-Concurrent-To': '<urn:uuid:f4c525de-b5c5-4f1a-adbf-8d937eaa8061>',\n",
       "   'WARC-Target-URI': 'http://006655e.com/a/137338_com/1227.html'}}}"
      ]
     },
     "execution_count": 95,
     "metadata": {},
     "output_type": "execute_result"
    }
   ],
   "source": [
    "data4_wat = json.loads(a5_wat)\n",
    "data4_wat"
   ]
  },
  {
   "cell_type": "markdown",
   "metadata": {},
   "source": [
    "### 12. And so on for the next few `requests`"
   ]
  },
  {
   "cell_type": "code",
   "execution_count": 96,
   "metadata": {},
   "outputs": [
    {
     "data": {
      "text/plain": [
       "('metadata', 'http://01-news.ru/sport/apl-prodlila-pauzu-v-sezone/')"
      ]
     },
     "execution_count": 96,
     "metadata": {},
     "output_type": "execute_result"
    }
   ],
   "source": [
    "record6_wat = next(records_wat)\n",
    "record6_wat.rec_type, record6_wat.rec_headers.get_header('WARC-Target-URI')"
   ]
  },
  {
   "cell_type": "code",
   "execution_count": 97,
   "metadata": {},
   "outputs": [
    {
     "data": {
      "text/plain": [
       "dict_keys(['Actual-Content-Type', 'HTTP-Request-Metadata', 'Actual-Content-Length', 'Block-Digest', 'Trailing-Slop-Length'])"
      ]
     },
     "execution_count": 97,
     "metadata": {},
     "output_type": "execute_result"
    }
   ],
   "source": [
    "data5_wat = json.loads(record6_wat.content_stream().read())\n",
    "data5_wat['Envelope']['Payload-Metadata'].keys()"
   ]
  },
  {
   "cell_type": "code",
   "execution_count": 98,
   "metadata": {},
   "outputs": [
    {
     "data": {
      "text/plain": [
       "('metadata', 'http://01-news.ru/sport/apl-prodlila-pauzu-v-sezone/')"
      ]
     },
     "execution_count": 98,
     "metadata": {},
     "output_type": "execute_result"
    }
   ],
   "source": [
    "record7_wat = next(records_wat)\n",
    "record7_wat.rec_type, record7_wat.rec_headers.get_header('WARC-Target-URI')"
   ]
  },
  {
   "cell_type": "code",
   "execution_count": 99,
   "metadata": {},
   "outputs": [
    {
     "data": {
      "text/plain": [
       "dict_keys(['Actual-Content-Type', 'HTTP-Response-Metadata', 'Actual-Content-Length', 'Block-Digest', 'Trailing-Slop-Length'])"
      ]
     },
     "execution_count": 99,
     "metadata": {},
     "output_type": "execute_result"
    }
   ],
   "source": [
    "data6_wat = json.loads(record7_wat.content_stream().read())\n",
    "data6_wat['Envelope']['Payload-Metadata'].keys()"
   ]
  },
  {
   "cell_type": "code",
   "execution_count": 100,
   "metadata": {},
   "outputs": [
    {
     "data": {
      "text/plain": [
       "('metadata', 'http://01-news.ru/sport/apl-prodlila-pauzu-v-sezone/')"
      ]
     },
     "execution_count": 100,
     "metadata": {},
     "output_type": "execute_result"
    }
   ],
   "source": [
    "record8_wat = next(records_wat)\n",
    "record8_wat.rec_type, record8_wat.rec_headers.get_header('WARC-Target-URI')"
   ]
  },
  {
   "cell_type": "code",
   "execution_count": 101,
   "metadata": {},
   "outputs": [
    {
     "data": {
      "text/plain": [
       "dict_keys(['Actual-Content-Type', 'WARC-Metadata-Metadata', 'Actual-Content-Length', 'Block-Digest', 'Trailing-Slop-Length'])"
      ]
     },
     "execution_count": 101,
     "metadata": {},
     "output_type": "execute_result"
    }
   ],
   "source": [
    "data7_wat = json.loads(record8_wat.content_stream().read())\n",
    "data7_wat['Envelope']['Payload-Metadata'].keys()"
   ]
  },
  {
   "cell_type": "markdown",
   "metadata": {},
   "source": [
    "### 13. And so on"
   ]
  },
  {
   "cell_type": "code",
   "execution_count": 102,
   "metadata": {},
   "outputs": [
    {
     "data": {
      "text/plain": [
       "('metadata', 'http://05rjo8c.cn/3871_6589_20220_659112/535091.html')"
      ]
     },
     "execution_count": 102,
     "metadata": {},
     "output_type": "execute_result"
    }
   ],
   "source": [
    "record9_wat = next(records_wat)\n",
    "record9_wat.rec_type, record9_wat.rec_headers.get_header('WARC-Target-URI')"
   ]
  },
  {
   "cell_type": "code",
   "execution_count": 103,
   "metadata": {},
   "outputs": [
    {
     "data": {
      "text/plain": [
       "dict_keys(['Actual-Content-Type', 'HTTP-Request-Metadata', 'Actual-Content-Length', 'Block-Digest', 'Trailing-Slop-Length'])"
      ]
     },
     "execution_count": 103,
     "metadata": {},
     "output_type": "execute_result"
    }
   ],
   "source": [
    "data8_wat = json.loads(record9_wat.content_stream().read())\n",
    "data8_wat['Envelope']['Payload-Metadata'].keys()"
   ]
  },
  {
   "cell_type": "code",
   "execution_count": 104,
   "metadata": {},
   "outputs": [
    {
     "data": {
      "text/plain": [
       "('metadata', 'http://05rjo8c.cn/3871_6589_20220_659112/535091.html')"
      ]
     },
     "execution_count": 104,
     "metadata": {},
     "output_type": "execute_result"
    }
   ],
   "source": [
    "record10_wat = next(records_wat)\n",
    "record10_wat.rec_type, record10_wat.rec_headers.get_header('WARC-Target-URI')"
   ]
  },
  {
   "cell_type": "code",
   "execution_count": 105,
   "metadata": {},
   "outputs": [
    {
     "data": {
      "text/plain": [
       "dict_keys(['Actual-Content-Type', 'HTTP-Response-Metadata', 'Actual-Content-Length', 'Block-Digest', 'Trailing-Slop-Length'])"
      ]
     },
     "execution_count": 105,
     "metadata": {},
     "output_type": "execute_result"
    }
   ],
   "source": [
    "data9_wat = json.loads(record10_wat.content_stream().read())\n",
    "data9_wat['Envelope']['Payload-Metadata'].keys()"
   ]
  },
  {
   "cell_type": "code",
   "execution_count": 106,
   "metadata": {},
   "outputs": [
    {
     "data": {
      "text/plain": [
       "('metadata', 'http://05rjo8c.cn/3871_6589_20220_659112/535091.html')"
      ]
     },
     "execution_count": 106,
     "metadata": {},
     "output_type": "execute_result"
    }
   ],
   "source": [
    "record11_wat = next(records_wat)\n",
    "record11_wat.rec_type, record11_wat.rec_headers.get_header('WARC-Target-URI')"
   ]
  },
  {
   "cell_type": "code",
   "execution_count": 107,
   "metadata": {},
   "outputs": [
    {
     "data": {
      "text/plain": [
       "dict_keys(['Actual-Content-Type', 'WARC-Metadata-Metadata', 'Actual-Content-Length', 'Block-Digest', 'Trailing-Slop-Length'])"
      ]
     },
     "execution_count": 107,
     "metadata": {},
     "output_type": "execute_result"
    }
   ],
   "source": [
    "data10_wat = json.loads(record11_wat.content_stream().read())\n",
    "data10_wat['Envelope']['Payload-Metadata'].keys()"
   ]
  },
  {
   "cell_type": "code",
   "execution_count": 108,
   "metadata": {},
   "outputs": [],
   "source": [
    "r_wat.close()"
   ]
  },
  {
   "cell_type": "code",
   "execution_count": null,
   "metadata": {},
   "outputs": [],
   "source": []
  }
 ],
 "metadata": {
  "kernelspec": {
   "display_name": "Python 3",
   "language": "python",
   "name": "python3"
  },
  "language_info": {
   "codemirror_mode": {
    "name": "ipython",
    "version": 3
   },
   "file_extension": ".py",
   "mimetype": "text/x-python",
   "name": "python",
   "nbconvert_exporter": "python",
   "pygments_lexer": "ipython3",
   "version": "3.8.5"
  }
 },
 "nbformat": 4,
 "nbformat_minor": 2
}
